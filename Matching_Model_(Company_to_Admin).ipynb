{
  "cells": [
    {
      "cell_type": "markdown",
      "metadata": {
        "id": "1-3HrbZ9wk4M"
      },
      "source": [
        "## ★policy_df 읽어오기(태그생성)"
      ]
    },
    {
      "cell_type": "code",
      "execution_count": 7,
      "metadata": {
        "colab": {
          "base_uri": "https://localhost:8080/"
        },
        "id": "KvGsHoNB2i2s",
        "outputId": "d89bb3b5-d7f1-4d9f-de16-d9583d490562"
      },
      "outputs": [
        {
          "output_type": "stream",
          "name": "stdout",
          "text": [
            "Mounted at /content/drive\n"
          ]
        }
      ],
      "source": [
        "from google.colab import drive\n",
        "drive.mount('/content/drive')"
      ]
    },
    {
      "cell_type": "code",
      "execution_count": null,
      "metadata": {
        "id": "wJQF5vJdA6bz"
      },
      "outputs": [],
      "source": [
        "import pandas as pd\n",
        "import matplotlib.pyplot as plt\n",
        "import seaborn as sns\n",
        "import matplotlib.pyplot as plt\n",
        "import numpy as np\n",
        "\n",
        "from collections import Counter"
      ]
    },
    {
      "cell_type": "code",
      "execution_count": null,
      "metadata": {
        "id": "vxaCqE5bRQUd"
      },
      "outputs": [],
      "source": [
        "policy_df = pd.read_csv(\"/content/drive/MyDrive/1팀/policy_final_01192022.csv\")"
      ]
    },
    {
      "cell_type": "code",
      "execution_count": null,
      "metadata": {
        "colab": {
          "base_uri": "https://localhost:8080/"
        },
        "id": "1tD6HPtdabbJ",
        "outputId": "6694e827-5b32-4ba8-ce7c-0696bf17de9a"
      },
      "outputs": [
        {
          "output_type": "execute_result",
          "data": {
            "text/plain": [
              "(Index(['Unnamed: 0', 'Unnamed: 0.1', '정책ID', '정책서비스ID', '서비스명', '소관기관',\n",
              "        '소관기관유형', '서비스목적', '지원대상', '지원내용', '신청절차', '선정기준', '신청기한_시작', '신청기한_끝',\n",
              "        '상세조회URL', '문의처전화번호', '온라인신청사이트URL', '지원유형', '추출_종업원수_최소', '추출_종업원수_최대',\n",
              "        '추출_기업규모', '추출_주요업종', '추출_선호특성', '추출_설립기간_최소', '추출_설립기간_최대', '추출_시도1',\n",
              "        '추출_시군구1', '주요업종_filtered'],\n",
              "       dtype='object'), (9630, 28))"
            ]
          },
          "metadata": {},
          "execution_count": 8
        }
      ],
      "source": [
        "policy_df.columns, policy_df.shape"
      ]
    },
    {
      "cell_type": "markdown",
      "metadata": {
        "id": "4LUTfXFh-xRy"
      },
      "source": [
        "# 기업정책데이터 query_answer"
      ]
    },
    {
      "cell_type": "markdown",
      "metadata": {
        "id": "uOr9-hiRZZAX"
      },
      "source": [
        "## 기업데이터 불러오기"
      ]
    },
    {
      "cell_type": "code",
      "execution_count": null,
      "metadata": {
        "colab": {
          "base_uri": "https://localhost:8080/"
        },
        "id": "Jemh9L3vaAoE",
        "outputId": "21cf3c8d-2d05-4fdd-fb74-30ae28ee10f3"
      },
      "outputs": [
        {
          "output_type": "execute_result",
          "data": {
            "text/plain": [
              "dict_keys(['형태샘플', '학습샘플', '최종기업샘플', '10차 업종번호', 'dart_기업개황'])"
            ]
          },
          "metadata": {},
          "execution_count": 9
        }
      ],
      "source": [
        "pd.set_option('display.max_colwidth', None)\n",
        "\n",
        "df_all = pd.read_excel('/content/drive/MyDrive/1팀/기업데이터 형태샘플(AIB전달용).xlsx', sheet_name = None)\n",
        "df_all.keys()"
      ]
    },
    {
      "cell_type": "code",
      "execution_count": null,
      "metadata": {
        "colab": {
          "base_uri": "https://localhost:8080/"
        },
        "id": "bwgtwN8yaOvj",
        "outputId": "76963007-69dd-48c2-8d99-de344c4d2b1d"
      },
      "outputs": [
        {
          "output_type": "execute_result",
          "data": {
            "text/plain": [
              "((463, 28), (46, 28), (11056, 36), (89390, 19))"
            ]
          },
          "metadata": {},
          "execution_count": 10
        }
      ],
      "source": [
        "df_all['학습샘플'].shape, df_all['형태샘플'].shape, df_all['최종기업샘플'].shape, df_all['dart_기업개황'].shape"
      ]
    },
    {
      "cell_type": "code",
      "execution_count": null,
      "metadata": {
        "colab": {
          "base_uri": "https://localhost:8080/"
        },
        "id": "j0l54J8yQlvM",
        "outputId": "4c624dbd-eddd-436f-cc50-23ba1756ebdb"
      },
      "outputs": [
        {
          "output_type": "execute_result",
          "data": {
            "text/plain": [
              "Index(['섹터', '기업체명', '영문기업명', '사업자번호', '법인(주민)번호', '대표자명', '종업원수', '설립형태',\n",
              "       '설립일자', '기업형태', '기업규모', '전화번호', '팩스번호', '홈페이지', '이메일', '결산월', '기업공개일자',\n",
              "       '도로명', '지번', '업종(10차)', '업종(9차)', '주요제품(상품)', '무역업허가번호', '소속그룹',\n",
              "       '주채권기관', '당좌거래은행', '휴폐업정보', '법인등기정보'],\n",
              "      dtype='object')"
            ]
          },
          "metadata": {},
          "execution_count": 11
        }
      ],
      "source": [
        "df_all['학습샘플'].columns"
      ]
    },
    {
      "cell_type": "code",
      "execution_count": null,
      "metadata": {
        "colab": {
          "base_uri": "https://localhost:8080/"
        },
        "id": "8T2sF5YPQkPR",
        "outputId": "3b1ee675-3153-4766-db46-c83f5caaf167"
      },
      "outputs": [
        {
          "output_type": "execute_result",
          "data": {
            "text/plain": [
              "Index(['섹터', '기업체명', '영문기업명', '사업자번호', '법인(주민)번호', '대표자명', '종업원수', '설립형태',\n",
              "       '기업체명.1', '설립일자', '기업형태', '전화번호', '팩스번호', '홈페이지', '이메일', '결산월',\n",
              "       '기업공개일자', '도로명', '지번', '업종(10차)', '업종(9차)', '주요제품(상품)', '무역업허가번호',\n",
              "       '소속그룹', '주채권기관', '당좌거래은행', '휴폐업정보', '법인등기정보'],\n",
              "      dtype='object')"
            ]
          },
          "metadata": {},
          "execution_count": 12
        }
      ],
      "source": [
        "df_all['형태샘플'].columns"
      ]
    },
    {
      "cell_type": "code",
      "execution_count": null,
      "metadata": {
        "colab": {
          "base_uri": "https://localhost:8080/",
          "height": 648
        },
        "id": "ZvRdWyfBb3hG",
        "outputId": "34f2a3e2-c24a-4ea1-bf0a-74eb549c71b5"
      },
      "outputs": [
        {
          "output_type": "execute_result",
          "data": {
            "text/html": [
              "\n",
              "  <div id=\"df-6838de38-7600-400c-83f7-c358f13601da\">\n",
              "    <div class=\"colab-df-container\">\n",
              "      <div>\n",
              "<style scoped>\n",
              "    .dataframe tbody tr th:only-of-type {\n",
              "        vertical-align: middle;\n",
              "    }\n",
              "\n",
              "    .dataframe tbody tr th {\n",
              "        vertical-align: top;\n",
              "    }\n",
              "\n",
              "    .dataframe thead th {\n",
              "        text-align: right;\n",
              "    }\n",
              "</style>\n",
              "<table border=\"1\" class=\"dataframe\">\n",
              "  <thead>\n",
              "    <tr style=\"text-align: right;\">\n",
              "      <th></th>\n",
              "      <th>섹터</th>\n",
              "      <th>기업체명</th>\n",
              "      <th>영문기업명</th>\n",
              "      <th>사업자번호</th>\n",
              "      <th>법인(주민)번호</th>\n",
              "      <th>대표자명</th>\n",
              "      <th>종업원수</th>\n",
              "      <th>설립형태</th>\n",
              "      <th>설립일자</th>\n",
              "      <th>기업형태</th>\n",
              "      <th>기업규모</th>\n",
              "      <th>전화번호</th>\n",
              "      <th>팩스번호</th>\n",
              "      <th>홈페이지</th>\n",
              "      <th>이메일</th>\n",
              "      <th>결산월</th>\n",
              "      <th>기업공개일자</th>\n",
              "      <th>도로명</th>\n",
              "      <th>지번</th>\n",
              "      <th>업종(10차)</th>\n",
              "      <th>업종(9차)</th>\n",
              "      <th>주요제품(상품)</th>\n",
              "      <th>무역업허가번호</th>\n",
              "      <th>소속그룹</th>\n",
              "      <th>주채권기관</th>\n",
              "      <th>당좌거래은행</th>\n",
              "      <th>휴폐업정보</th>\n",
              "      <th>법인등기정보</th>\n",
              "    </tr>\n",
              "  </thead>\n",
              "  <tbody>\n",
              "    <tr>\n",
              "      <th>0</th>\n",
              "      <td>가구내고용활동및달리분류되지않은자가소비생산활동</td>\n",
              "      <td>(주)루더비즈코리아</td>\n",
              "      <td>MISERVANT CO.,LTD.</td>\n",
              "      <td>129-81-47474</td>\n",
              "      <td>131111-0070323</td>\n",
              "      <td>김경순</td>\n",
              "      <td>5명</td>\n",
              "      <td>신규설립(개업)</td>\n",
              "      <td>2002-01-04 00:00:00</td>\n",
              "      <td>일반법인</td>\n",
              "      <td>소기업</td>\n",
              "      <td>031-719-9777</td>\n",
              "      <td>031-712-2900</td>\n",
              "      <td>www.miservant.com</td>\n",
              "      <td>webmaster@miservant.com</td>\n",
              "      <td>01월</td>\n",
              "      <td>-</td>\n",
              "      <td>(13616) 경기 성남시 분당구 정자일로 1 (금곡동)</td>\n",
              "      <td>(13616) 경기 성남시 분당구 금곡동 210번지</td>\n",
              "      <td>(T97000)가구 내 고용활동</td>\n",
              "      <td>(T97000)가구내 고용활동</td>\n",
              "      <td>개인업무대행서비스,기타</td>\n",
              "      <td>-</td>\n",
              "      <td>-</td>\n",
              "      <td>기업은행</td>\n",
              "      <td>-</td>\n",
              "      <td>폐업자\\n(폐업일자 : 2006-01-06)</td>\n",
              "      <td>청산종결간주 (조회일자 : 2022-01-03)</td>\n",
              "    </tr>\n",
              "  </tbody>\n",
              "</table>\n",
              "</div>\n",
              "      <button class=\"colab-df-convert\" onclick=\"convertToInteractive('df-6838de38-7600-400c-83f7-c358f13601da')\"\n",
              "              title=\"Convert this dataframe to an interactive table.\"\n",
              "              style=\"display:none;\">\n",
              "        \n",
              "  <svg xmlns=\"http://www.w3.org/2000/svg\" height=\"24px\"viewBox=\"0 0 24 24\"\n",
              "       width=\"24px\">\n",
              "    <path d=\"M0 0h24v24H0V0z\" fill=\"none\"/>\n",
              "    <path d=\"M18.56 5.44l.94 2.06.94-2.06 2.06-.94-2.06-.94-.94-2.06-.94 2.06-2.06.94zm-11 1L8.5 8.5l.94-2.06 2.06-.94-2.06-.94L8.5 2.5l-.94 2.06-2.06.94zm10 10l.94 2.06.94-2.06 2.06-.94-2.06-.94-.94-2.06-.94 2.06-2.06.94z\"/><path d=\"M17.41 7.96l-1.37-1.37c-.4-.4-.92-.59-1.43-.59-.52 0-1.04.2-1.43.59L10.3 9.45l-7.72 7.72c-.78.78-.78 2.05 0 2.83L4 21.41c.39.39.9.59 1.41.59.51 0 1.02-.2 1.41-.59l7.78-7.78 2.81-2.81c.8-.78.8-2.07 0-2.86zM5.41 20L4 18.59l7.72-7.72 1.47 1.35L5.41 20z\"/>\n",
              "  </svg>\n",
              "      </button>\n",
              "      \n",
              "  <style>\n",
              "    .colab-df-container {\n",
              "      display:flex;\n",
              "      flex-wrap:wrap;\n",
              "      gap: 12px;\n",
              "    }\n",
              "\n",
              "    .colab-df-convert {\n",
              "      background-color: #E8F0FE;\n",
              "      border: none;\n",
              "      border-radius: 50%;\n",
              "      cursor: pointer;\n",
              "      display: none;\n",
              "      fill: #1967D2;\n",
              "      height: 32px;\n",
              "      padding: 0 0 0 0;\n",
              "      width: 32px;\n",
              "    }\n",
              "\n",
              "    .colab-df-convert:hover {\n",
              "      background-color: #E2EBFA;\n",
              "      box-shadow: 0px 1px 2px rgba(60, 64, 67, 0.3), 0px 1px 3px 1px rgba(60, 64, 67, 0.15);\n",
              "      fill: #174EA6;\n",
              "    }\n",
              "\n",
              "    [theme=dark] .colab-df-convert {\n",
              "      background-color: #3B4455;\n",
              "      fill: #D2E3FC;\n",
              "    }\n",
              "\n",
              "    [theme=dark] .colab-df-convert:hover {\n",
              "      background-color: #434B5C;\n",
              "      box-shadow: 0px 1px 3px 1px rgba(0, 0, 0, 0.15);\n",
              "      filter: drop-shadow(0px 1px 2px rgba(0, 0, 0, 0.3));\n",
              "      fill: #FFFFFF;\n",
              "    }\n",
              "  </style>\n",
              "\n",
              "      <script>\n",
              "        const buttonEl =\n",
              "          document.querySelector('#df-6838de38-7600-400c-83f7-c358f13601da button.colab-df-convert');\n",
              "        buttonEl.style.display =\n",
              "          google.colab.kernel.accessAllowed ? 'block' : 'none';\n",
              "\n",
              "        async function convertToInteractive(key) {\n",
              "          const element = document.querySelector('#df-6838de38-7600-400c-83f7-c358f13601da');\n",
              "          const dataTable =\n",
              "            await google.colab.kernel.invokeFunction('convertToInteractive',\n",
              "                                                     [key], {});\n",
              "          if (!dataTable) return;\n",
              "\n",
              "          const docLinkHtml = 'Like what you see? Visit the ' +\n",
              "            '<a target=\"_blank\" href=https://colab.research.google.com/notebooks/data_table.ipynb>data table notebook</a>'\n",
              "            + ' to learn more about interactive tables.';\n",
              "          element.innerHTML = '';\n",
              "          dataTable['output_type'] = 'display_data';\n",
              "          await google.colab.output.renderOutput(dataTable, element);\n",
              "          const docLink = document.createElement('div');\n",
              "          docLink.innerHTML = docLinkHtml;\n",
              "          element.appendChild(docLink);\n",
              "        }\n",
              "      </script>\n",
              "    </div>\n",
              "  </div>\n",
              "  "
            ],
            "text/plain": [
              "                         섹터  ...                      법인등기정보\n",
              "0  가구내고용활동및달리분류되지않은자가소비생산활동  ...  청산종결간주 (조회일자 : 2022-01-03)\n",
              "\n",
              "[1 rows x 28 columns]"
            ]
          },
          "metadata": {},
          "execution_count": 13
        }
      ],
      "source": [
        "# 잘못된 컬럼명 수정\n",
        "df_all['형태샘플'].columns = ['섹터', '기업체명', '영문기업명', '사업자번호', '법인(주민)번호', '대표자명', '종업원수', '설립형태',\n",
        "        '설립일자', '기업형태', '기업규모', '전화번호', '팩스번호', '홈페이지', '이메일', '결산월', '기업공개일자',\n",
        "        '도로명', '지번', '업종(10차)', '업종(9차)', '주요제품(상품)', '무역업허가번호', '소속그룹',\n",
        "        '주채권기관', '당좌거래은행', '휴폐업정보', '법인등기정보']\n",
        "df_all['형태샘플'].head(1)"
      ]
    },
    {
      "cell_type": "code",
      "execution_count": null,
      "metadata": {
        "id": "px8jM4L5cfyA"
      },
      "outputs": [],
      "source": [
        "df_sample = pd.concat([df_all['학습샘플'],df_all['형태샘플']], ignore_index=True)"
      ]
    },
    {
      "cell_type": "code",
      "execution_count": null,
      "metadata": {
        "id": "9InTZ4APamOb"
      },
      "outputs": [],
      "source": [
        "df_final = df_all['최종기업샘플']"
      ]
    },
    {
      "cell_type": "code",
      "execution_count": null,
      "metadata": {
        "id": "D4HUZZQVbZG3"
      },
      "outputs": [],
      "source": [
        "df_dart = df_all['dart_기업개황']"
      ]
    },
    {
      "cell_type": "markdown",
      "metadata": {
        "id": "nkmbHfv22NKy"
      },
      "source": [
        "### 학습샘플+형태샘플 : df_sample"
      ]
    },
    {
      "cell_type": "code",
      "execution_count": null,
      "metadata": {
        "colab": {
          "base_uri": "https://localhost:8080/",
          "height": 1000
        },
        "id": "qJKKZVYf2RwV",
        "outputId": "2f952824-768b-4542-d34c-047ac91b09a3"
      },
      "outputs": [
        {
          "output_type": "execute_result",
          "data": {
            "text/html": [
              "\n",
              "  <div id=\"df-465ec3a8-8a82-4bd7-bf01-d1ed2570ead1\">\n",
              "    <div class=\"colab-df-container\">\n",
              "      <div>\n",
              "<style scoped>\n",
              "    .dataframe tbody tr th:only-of-type {\n",
              "        vertical-align: middle;\n",
              "    }\n",
              "\n",
              "    .dataframe tbody tr th {\n",
              "        vertical-align: top;\n",
              "    }\n",
              "\n",
              "    .dataframe thead th {\n",
              "        text-align: right;\n",
              "    }\n",
              "</style>\n",
              "<table border=\"1\" class=\"dataframe\">\n",
              "  <thead>\n",
              "    <tr style=\"text-align: right;\">\n",
              "      <th></th>\n",
              "      <th>섹터</th>\n",
              "      <th>기업체명</th>\n",
              "      <th>영문기업명</th>\n",
              "      <th>사업자번호</th>\n",
              "      <th>법인(주민)번호</th>\n",
              "      <th>대표자명</th>\n",
              "      <th>종업원수</th>\n",
              "      <th>설립형태</th>\n",
              "      <th>설립일자</th>\n",
              "      <th>기업형태</th>\n",
              "      <th>기업규모</th>\n",
              "      <th>전화번호</th>\n",
              "      <th>팩스번호</th>\n",
              "      <th>홈페이지</th>\n",
              "      <th>이메일</th>\n",
              "      <th>결산월</th>\n",
              "      <th>기업공개일자</th>\n",
              "      <th>도로명</th>\n",
              "      <th>지번</th>\n",
              "      <th>업종(10차)</th>\n",
              "      <th>업종(9차)</th>\n",
              "      <th>주요제품(상품)</th>\n",
              "      <th>무역업허가번호</th>\n",
              "      <th>소속그룹</th>\n",
              "      <th>주채권기관</th>\n",
              "      <th>당좌거래은행</th>\n",
              "      <th>휴폐업정보</th>\n",
              "      <th>법인등기정보</th>\n",
              "    </tr>\n",
              "  </thead>\n",
              "  <tbody>\n",
              "    <tr>\n",
              "      <th>0</th>\n",
              "      <td>공공행정국방및사회보장행정</td>\n",
              "      <td>금융감독원</td>\n",
              "      <td>Financial Supervisory Service</td>\n",
              "      <td>116-82-14464</td>\n",
              "      <td>116171-0008533</td>\n",
              "      <td>이진석</td>\n",
              "      <td>1,589명</td>\n",
              "      <td>신규설립(개업)</td>\n",
              "      <td>1999-01-02 00:00:00</td>\n",
              "      <td>일반법인</td>\n",
              "      <td>판단제외</td>\n",
              "      <td>02-3145-5293</td>\n",
              "      <td>-</td>\n",
              "      <td>-</td>\n",
              "      <td>-</td>\n",
              "      <td>12월</td>\n",
              "      <td>-</td>\n",
              "      <td>(07321) 서울 영등포구 여의대로 38 (여의도동,금융감독원)</td>\n",
              "      <td>(07321) 서울 영등포구 여의도동 27번지 금융감독원</td>\n",
              "      <td>(K66110)금융시장 관리업</td>\n",
              "      <td>(K66110)금융시장 관리업</td>\n",
              "      <td>금융기관에 대한 검사.감독 업무 등</td>\n",
              "      <td>-</td>\n",
              "      <td>-</td>\n",
              "      <td>기업은행</td>\n",
              "      <td>우리은행</td>\n",
              "      <td>부가가치세 일반과세자\\n(조회일자 : 2022-01-05)</td>\n",
              "      <td>정상 (조회일자 : 2021-12-14)</td>\n",
              "    </tr>\n",
              "    <tr>\n",
              "      <th>1</th>\n",
              "      <td>공공행정국방및사회보장행정</td>\n",
              "      <td>(주)명현유통</td>\n",
              "      <td>MYUNG-HYUN DISTRIBUTION co.,ltd.</td>\n",
              "      <td>122-81-66164</td>\n",
              "      <td>124611-0250370</td>\n",
              "      <td>정재운</td>\n",
              "      <td>17명</td>\n",
              "      <td>신규설립(개업)</td>\n",
              "      <td>2001-04-26 00:00:00</td>\n",
              "      <td>외감</td>\n",
              "      <td>중기업</td>\n",
              "      <td>070-4940-3676</td>\n",
              "      <td>031-761-6394</td>\n",
              "      <td>myunghyun.store</td>\n",
              "      <td>-</td>\n",
              "      <td>12월</td>\n",
              "      <td>-</td>\n",
              "      <td>(17396) 경기 이천시 호법면 덕평로 236</td>\n",
              "      <td>(17396) 경기 이천시 호법면 매곡리 990-8번지</td>\n",
              "      <td>(G46332)비알코올음료 도매업</td>\n",
              "      <td>(G46332)비알콜음료 도매업</td>\n",
              "      <td>음료, 잡화, 식자재, 냉동식품 등</td>\n",
              "      <td>-</td>\n",
              "      <td>-</td>\n",
              "      <td>농협은행</td>\n",
              "      <td>농협은행</td>\n",
              "      <td>부가가치세 일반과세자\\n(조회일자 : 2022-01-05)</td>\n",
              "      <td>정상 (조회일자 : 2022-01-10)</td>\n",
              "    </tr>\n",
              "    <tr>\n",
              "      <th>2</th>\n",
              "      <td>공공행정국방및사회보장행정</td>\n",
              "      <td>서울관광마케팅(주)</td>\n",
              "      <td>SEOUL TOURISM MARKETING CO., LTD.</td>\n",
              "      <td>104-86-12627</td>\n",
              "      <td>110111-3836868</td>\n",
              "      <td>이창환</td>\n",
              "      <td>67명</td>\n",
              "      <td>신규설립(개업)</td>\n",
              "      <td>2008-02-04 00:00:00</td>\n",
              "      <td>일반법인</td>\n",
              "      <td>중기업</td>\n",
              "      <td>02-3788-0815</td>\n",
              "      <td>02-3788-0899</td>\n",
              "      <td>www.seoulwelcome.com</td>\n",
              "      <td>-</td>\n",
              "      <td>12월</td>\n",
              "      <td>-</td>\n",
              "      <td>(04551) 서울 중구 삼일대로 340, 9층 (저동1가,나라키움저동빌딩)</td>\n",
              "      <td>(04551) 서울 중구 저동1가 1-2번지 나라키움저동빌딩 9층</td>\n",
              "      <td>(O84212)문화 및 관광 행정</td>\n",
              "      <td>(O84212)문화 및 관광 행정</td>\n",
              "      <td>문화 및 관광 행정</td>\n",
              "      <td>-</td>\n",
              "      <td>-</td>\n",
              "      <td>우리은행</td>\n",
              "      <td>-</td>\n",
              "      <td>폐업자\\n(폐업일자 : 2019-07-31)</td>\n",
              "      <td>청산종결 (조회일자 : 2019-11-05)</td>\n",
              "    </tr>\n",
              "    <tr>\n",
              "      <th>3</th>\n",
              "      <td>공공행정국방및사회보장행정</td>\n",
              "      <td>(주)씨티엘네트웍스</td>\n",
              "      <td>CTL NETWORKS CO.,LTD.</td>\n",
              "      <td>104-86-01625</td>\n",
              "      <td>110111-3459462</td>\n",
              "      <td>천무진</td>\n",
              "      <td>65명</td>\n",
              "      <td>신규설립(개업)</td>\n",
              "      <td>2006-05-17 00:00:00</td>\n",
              "      <td>일반법인</td>\n",
              "      <td>중기업</td>\n",
              "      <td>02-2016-4020</td>\n",
              "      <td>02-3153-2599</td>\n",
              "      <td>www.ctlplus.co.kr</td>\n",
              "      <td>sooya@ectl.net</td>\n",
              "      <td>12월</td>\n",
              "      <td>-</td>\n",
              "      <td>(06104) 서울 강남구 언주로 651, 8층 (논현동,삼원빌딩)</td>\n",
              "      <td>(06104) 서울 강남구 논현2동 210-1번지 삼원빌딩 8층</td>\n",
              "      <td>(N75210)여행사업</td>\n",
              "      <td>(N75211)일반 및 국외 여행사업</td>\n",
              "      <td>관광서비스 외</td>\n",
              "      <td>-</td>\n",
              "      <td>-</td>\n",
              "      <td>-</td>\n",
              "      <td>-</td>\n",
              "      <td>폐업자\\n(폐업일자 : 2015-06-30)</td>\n",
              "      <td>해산간주 (조회일자 : 2021-11-04)</td>\n",
              "    </tr>\n",
              "    <tr>\n",
              "      <th>4</th>\n",
              "      <td>공공행정국방및사회보장행정</td>\n",
              "      <td>(주)용준</td>\n",
              "      <td>YONGJUN CO.,LTD.</td>\n",
              "      <td>247-86-01693</td>\n",
              "      <td>200111-0560594</td>\n",
              "      <td>이용창</td>\n",
              "      <td>1명</td>\n",
              "      <td>신규설립(개업)</td>\n",
              "      <td>2019-04-17 00:00:00</td>\n",
              "      <td>일반법인</td>\n",
              "      <td>소상공인</td>\n",
              "      <td>062-375-7310</td>\n",
              "      <td>062-375-7333</td>\n",
              "      <td>-</td>\n",
              "      <td>-</td>\n",
              "      <td>12월</td>\n",
              "      <td>-</td>\n",
              "      <td>(61949) 광주 서구 상무시민로 96, 4층 401호 일부 (치평동,종산타워)</td>\n",
              "      <td>(61949) 광주 서구 치평동 1217-10번지 종산타워 4층 401호 일부</td>\n",
              "      <td>(G47121)슈퍼마켓</td>\n",
              "      <td>(G47121)슈퍼마켓</td>\n",
              "      <td>슈퍼마켓(와이마트), 건설장비운영, 부동산임대</td>\n",
              "      <td>-</td>\n",
              "      <td>-</td>\n",
              "      <td>국민은행</td>\n",
              "      <td>-</td>\n",
              "      <td>부가가치세 일반과세자\\n(조회일자 : 2022-01-04)</td>\n",
              "      <td>정상 (조회일자 : 2021-11-12)</td>\n",
              "    </tr>\n",
              "  </tbody>\n",
              "</table>\n",
              "</div>\n",
              "      <button class=\"colab-df-convert\" onclick=\"convertToInteractive('df-465ec3a8-8a82-4bd7-bf01-d1ed2570ead1')\"\n",
              "              title=\"Convert this dataframe to an interactive table.\"\n",
              "              style=\"display:none;\">\n",
              "        \n",
              "  <svg xmlns=\"http://www.w3.org/2000/svg\" height=\"24px\"viewBox=\"0 0 24 24\"\n",
              "       width=\"24px\">\n",
              "    <path d=\"M0 0h24v24H0V0z\" fill=\"none\"/>\n",
              "    <path d=\"M18.56 5.44l.94 2.06.94-2.06 2.06-.94-2.06-.94-.94-2.06-.94 2.06-2.06.94zm-11 1L8.5 8.5l.94-2.06 2.06-.94-2.06-.94L8.5 2.5l-.94 2.06-2.06.94zm10 10l.94 2.06.94-2.06 2.06-.94-2.06-.94-.94-2.06-.94 2.06-2.06.94z\"/><path d=\"M17.41 7.96l-1.37-1.37c-.4-.4-.92-.59-1.43-.59-.52 0-1.04.2-1.43.59L10.3 9.45l-7.72 7.72c-.78.78-.78 2.05 0 2.83L4 21.41c.39.39.9.59 1.41.59.51 0 1.02-.2 1.41-.59l7.78-7.78 2.81-2.81c.8-.78.8-2.07 0-2.86zM5.41 20L4 18.59l7.72-7.72 1.47 1.35L5.41 20z\"/>\n",
              "  </svg>\n",
              "      </button>\n",
              "      \n",
              "  <style>\n",
              "    .colab-df-container {\n",
              "      display:flex;\n",
              "      flex-wrap:wrap;\n",
              "      gap: 12px;\n",
              "    }\n",
              "\n",
              "    .colab-df-convert {\n",
              "      background-color: #E8F0FE;\n",
              "      border: none;\n",
              "      border-radius: 50%;\n",
              "      cursor: pointer;\n",
              "      display: none;\n",
              "      fill: #1967D2;\n",
              "      height: 32px;\n",
              "      padding: 0 0 0 0;\n",
              "      width: 32px;\n",
              "    }\n",
              "\n",
              "    .colab-df-convert:hover {\n",
              "      background-color: #E2EBFA;\n",
              "      box-shadow: 0px 1px 2px rgba(60, 64, 67, 0.3), 0px 1px 3px 1px rgba(60, 64, 67, 0.15);\n",
              "      fill: #174EA6;\n",
              "    }\n",
              "\n",
              "    [theme=dark] .colab-df-convert {\n",
              "      background-color: #3B4455;\n",
              "      fill: #D2E3FC;\n",
              "    }\n",
              "\n",
              "    [theme=dark] .colab-df-convert:hover {\n",
              "      background-color: #434B5C;\n",
              "      box-shadow: 0px 1px 3px 1px rgba(0, 0, 0, 0.15);\n",
              "      filter: drop-shadow(0px 1px 2px rgba(0, 0, 0, 0.3));\n",
              "      fill: #FFFFFF;\n",
              "    }\n",
              "  </style>\n",
              "\n",
              "      <script>\n",
              "        const buttonEl =\n",
              "          document.querySelector('#df-465ec3a8-8a82-4bd7-bf01-d1ed2570ead1 button.colab-df-convert');\n",
              "        buttonEl.style.display =\n",
              "          google.colab.kernel.accessAllowed ? 'block' : 'none';\n",
              "\n",
              "        async function convertToInteractive(key) {\n",
              "          const element = document.querySelector('#df-465ec3a8-8a82-4bd7-bf01-d1ed2570ead1');\n",
              "          const dataTable =\n",
              "            await google.colab.kernel.invokeFunction('convertToInteractive',\n",
              "                                                     [key], {});\n",
              "          if (!dataTable) return;\n",
              "\n",
              "          const docLinkHtml = 'Like what you see? Visit the ' +\n",
              "            '<a target=\"_blank\" href=https://colab.research.google.com/notebooks/data_table.ipynb>data table notebook</a>'\n",
              "            + ' to learn more about interactive tables.';\n",
              "          element.innerHTML = '';\n",
              "          dataTable['output_type'] = 'display_data';\n",
              "          await google.colab.output.renderOutput(dataTable, element);\n",
              "          const docLink = document.createElement('div');\n",
              "          docLink.innerHTML = docLinkHtml;\n",
              "          element.appendChild(docLink);\n",
              "        }\n",
              "      </script>\n",
              "    </div>\n",
              "  </div>\n",
              "  "
            ],
            "text/plain": [
              "              섹터  ...                    법인등기정보\n",
              "0  공공행정국방및사회보장행정  ...    정상 (조회일자 : 2021-12-14)\n",
              "1  공공행정국방및사회보장행정  ...    정상 (조회일자 : 2022-01-10)\n",
              "2  공공행정국방및사회보장행정  ...  청산종결 (조회일자 : 2019-11-05)\n",
              "3  공공행정국방및사회보장행정  ...  해산간주 (조회일자 : 2021-11-04)\n",
              "4  공공행정국방및사회보장행정  ...    정상 (조회일자 : 2021-11-12)\n",
              "\n",
              "[5 rows x 28 columns]"
            ]
          },
          "metadata": {},
          "execution_count": 17
        }
      ],
      "source": [
        "df_sample.head()"
      ]
    },
    {
      "cell_type": "code",
      "execution_count": null,
      "metadata": {
        "colab": {
          "base_uri": "https://localhost:8080/"
        },
        "id": "6-3OMasu2tK3",
        "outputId": "2c64284a-b6f4-4d77-fa81-8ef80d4cd3cf"
      },
      "outputs": [
        {
          "output_type": "execute_result",
          "data": {
            "text/plain": [
              "신규설립(개업)    484\n",
              "기타           10\n",
              "법인전환          8\n",
              "분할신설          7\n",
              "Name: 설립형태, dtype: int64"
            ]
          },
          "metadata": {},
          "execution_count": 18
        }
      ],
      "source": [
        "df_sample['설립형태'].value_counts() "
      ]
    },
    {
      "cell_type": "code",
      "execution_count": null,
      "metadata": {
        "colab": {
          "base_uri": "https://localhost:8080/"
        },
        "id": "1rxjyGLJ3DVp",
        "outputId": "ef3157cf-0880-4fd7-dab8-91999fd4f4e7"
      },
      "outputs": [
        {
          "output_type": "execute_result",
          "data": {
            "text/plain": [
              "일반법인      293\n",
              "외감        178\n",
              "개인사업자      23\n",
              "코스닥시장      10\n",
              "유가증권시장      4\n",
              "코넥스         1\n",
              "Name: 기업형태, dtype: int64"
            ]
          },
          "metadata": {},
          "execution_count": 19
        }
      ],
      "source": [
        "df_sample['기업형태'].value_counts() "
      ]
    },
    {
      "cell_type": "markdown",
      "metadata": {
        "id": "p14ldCDOzcG4"
      },
      "source": [
        "### 최종기업샘플 : df_final"
      ]
    },
    {
      "cell_type": "code",
      "execution_count": null,
      "metadata": {
        "colab": {
          "base_uri": "https://localhost:8080/",
          "height": 1000
        },
        "id": "pdBiyKKYabbZ",
        "outputId": "c79f0992-ba9b-4768-ec71-e66d633c5221"
      },
      "outputs": [
        {
          "output_type": "execute_result",
          "data": {
            "text/html": [
              "\n",
              "  <div id=\"df-3e4c2442-63d8-417c-a840-f856b0f4346f\">\n",
              "    <div class=\"colab-df-container\">\n",
              "      <div>\n",
              "<style scoped>\n",
              "    .dataframe tbody tr th:only-of-type {\n",
              "        vertical-align: middle;\n",
              "    }\n",
              "\n",
              "    .dataframe tbody tr th {\n",
              "        vertical-align: top;\n",
              "    }\n",
              "\n",
              "    .dataframe thead th {\n",
              "        text-align: right;\n",
              "    }\n",
              "</style>\n",
              "<table border=\"1\" class=\"dataframe\">\n",
              "  <thead>\n",
              "    <tr style=\"text-align: right;\">\n",
              "      <th></th>\n",
              "      <th>회계감사인명</th>\n",
              "      <th>감사보고서의견내용</th>\n",
              "      <th>기준일자</th>\n",
              "      <th>사업자등록번호</th>\n",
              "      <th>법인구분코드</th>\n",
              "      <th>법인구분코드명</th>\n",
              "      <th>법인영문명</th>\n",
              "      <th>기업체명</th>\n",
              "      <th>법인등록시장구분코드</th>\n",
              "      <th>법인등록시장구분코드명</th>\n",
              "      <th>법인등록번호</th>\n",
              "      <th>종업원평균근속기간내용</th>\n",
              "      <th>기업기본주소</th>\n",
              "      <th>기업상세주소</th>\n",
              "      <th>종업원수</th>\n",
              "      <th>기업설립일자</th>\n",
              "      <th>기업팩스번호</th>\n",
              "      <th>홈페이지</th>\n",
              "      <th>기업코스닥상장폐지일자</th>\n",
              "      <th>기업코스닥상장일자</th>\n",
              "      <th>기업KONEX상장폐지일자</th>\n",
              "      <th>기업KONEX상장일자</th>\n",
              "      <th>기업주요사업명</th>\n",
              "      <th>기업주거래은행명</th>\n",
              "      <th>기업구우편번호</th>\n",
              "      <th>기업공시회사명</th>\n",
              "      <th>기업1인평균급여금액</th>\n",
              "      <th>기업대표자성명</th>\n",
              "      <th>기업결산월</th>\n",
              "      <th>기업전화번호</th>\n",
              "      <th>기업거래소상장폐지일자</th>\n",
              "      <th>기업거래소상장일자</th>\n",
              "      <th>금융감독원법인변경일시</th>\n",
              "      <th>금융감독원법인고유번호</th>\n",
              "      <th>업종</th>\n",
              "      <th>중소기업여부</th>\n",
              "    </tr>\n",
              "  </thead>\n",
              "  <tbody>\n",
              "    <tr>\n",
              "      <th>0</th>\n",
              "      <td>NaN</td>\n",
              "      <td>NaN</td>\n",
              "      <td>20200509</td>\n",
              "      <td>2.118648e+09</td>\n",
              "      <td>NaN</td>\n",
              "      <td>NaN</td>\n",
              "      <td>DongBang Bldg, 5th Fliir, Suite 506#517, Majang-dong, Seongdong-gu Seoul 133-050</td>\n",
              "      <td>네르프</td>\n",
              "      <td>E</td>\n",
              "      <td>기타</td>\n",
              "      <td>1101111612541</td>\n",
              "      <td>NaN</td>\n",
              "      <td>서울특별시 성동구 마장동 517 동방빌딩 506호</td>\n",
              "      <td>서울특별시 성동구 마장동 517 동방빌딩 506호</td>\n",
              "      <td>0</td>\n",
              "      <td>19981125.0</td>\n",
              "      <td>02.2299.2159</td>\n",
              "      <td>NaN</td>\n",
              "      <td>NaT</td>\n",
              "      <td>NaT</td>\n",
              "      <td>NaN</td>\n",
              "      <td>NaN</td>\n",
              "      <td>NaN</td>\n",
              "      <td>NaN</td>\n",
              "      <td>133050.0</td>\n",
              "      <td>네르프</td>\n",
              "      <td>0</td>\n",
              "      <td>이종경</td>\n",
              "      <td>3.0</td>\n",
              "      <td>02.2299.2150</td>\n",
              "      <td>NaT</td>\n",
              "      <td>NaT</td>\n",
              "      <td>2017-06-30</td>\n",
              "      <td>806149</td>\n",
              "      <td>1</td>\n",
              "      <td>NaN</td>\n",
              "    </tr>\n",
              "    <tr>\n",
              "      <th>1</th>\n",
              "      <td>NaN</td>\n",
              "      <td>NaN</td>\n",
              "      <td>20200509</td>\n",
              "      <td>1.208770e+09</td>\n",
              "      <td>NaN</td>\n",
              "      <td>NaN</td>\n",
              "      <td>haemilcommerce</td>\n",
              "      <td>농업회사법인(주)해밀생명과학</td>\n",
              "      <td>E</td>\n",
              "      <td>기타</td>\n",
              "      <td>1101114613760</td>\n",
              "      <td>NaN</td>\n",
              "      <td>서울특별시 강남구 테헤란로84길 14 (대치동)지어러빌딩 7층</td>\n",
              "      <td>서울특별시 강남구 테헤란로84길 14 (대치동)지어러빌딩 7층</td>\n",
              "      <td>0</td>\n",
              "      <td>20110530.0</td>\n",
              "      <td>02-564-7805</td>\n",
              "      <td>NaN</td>\n",
              "      <td>NaT</td>\n",
              "      <td>NaT</td>\n",
              "      <td>NaN</td>\n",
              "      <td>NaN</td>\n",
              "      <td>NaN</td>\n",
              "      <td>NaN</td>\n",
              "      <td>6178.0</td>\n",
              "      <td>농업회사법인해밀생명과학</td>\n",
              "      <td>0</td>\n",
              "      <td>하상욱</td>\n",
              "      <td>12.0</td>\n",
              "      <td>02-564-7801</td>\n",
              "      <td>NaT</td>\n",
              "      <td>NaT</td>\n",
              "      <td>2017-06-30</td>\n",
              "      <td>926629</td>\n",
              "      <td>1</td>\n",
              "      <td>NaN</td>\n",
              "    </tr>\n",
              "    <tr>\n",
              "      <th>2</th>\n",
              "      <td>NaN</td>\n",
              "      <td>NaN</td>\n",
              "      <td>20200509</td>\n",
              "      <td>3.028100e+09</td>\n",
              "      <td>NaN</td>\n",
              "      <td>NaN</td>\n",
              "      <td>SEONG HA CORP. CO.,LTD</td>\n",
              "      <td>주식회사 성하</td>\n",
              "      <td>E</td>\n",
              "      <td>기타</td>\n",
              "      <td>1541110000167</td>\n",
              "      <td>NaN</td>\n",
              "      <td>충청북도 보은군 마로읍 원정리 397</td>\n",
              "      <td>충청북도 보은군 마로읍 원정리 397</td>\n",
              "      <td>0</td>\n",
              "      <td>19560427.0</td>\n",
              "      <td>02-563-1987</td>\n",
              "      <td>없음</td>\n",
              "      <td>NaT</td>\n",
              "      <td>NaT</td>\n",
              "      <td>NaN</td>\n",
              "      <td>NaN</td>\n",
              "      <td>NaN</td>\n",
              "      <td>NaN</td>\n",
              "      <td>135080.0</td>\n",
              "      <td>성하</td>\n",
              "      <td>0</td>\n",
              "      <td>김강원</td>\n",
              "      <td>12.0</td>\n",
              "      <td>02-565-8546</td>\n",
              "      <td>NaT</td>\n",
              "      <td>NaT</td>\n",
              "      <td>2017-06-30</td>\n",
              "      <td>225991</td>\n",
              "      <td>5</td>\n",
              "      <td>NaN</td>\n",
              "    </tr>\n",
              "    <tr>\n",
              "      <th>3</th>\n",
              "      <td>NaN</td>\n",
              "      <td>NaN</td>\n",
              "      <td>20200509</td>\n",
              "      <td>2.208747e+09</td>\n",
              "      <td>NaN</td>\n",
              "      <td>NaN</td>\n",
              "      <td>UI holdings</td>\n",
              "      <td>(주)유아이홀딩스</td>\n",
              "      <td>E</td>\n",
              "      <td>기타</td>\n",
              "      <td>1101113661497</td>\n",
              "      <td>NaN</td>\n",
              "      <td>서울특별시 강남구 역삼1동 676 삼부빌딩 9층</td>\n",
              "      <td>서울특별시 강남구 역삼1동 676 삼부빌딩 9층</td>\n",
              "      <td>0</td>\n",
              "      <td>20070420.0</td>\n",
              "      <td>02-527-0706</td>\n",
              "      <td>NaN</td>\n",
              "      <td>NaT</td>\n",
              "      <td>NaT</td>\n",
              "      <td>NaN</td>\n",
              "      <td>NaN</td>\n",
              "      <td>NaN</td>\n",
              "      <td>NaN</td>\n",
              "      <td>135979.0</td>\n",
              "      <td>유아이홀딩스</td>\n",
              "      <td>0</td>\n",
              "      <td>최규선</td>\n",
              "      <td>12.0</td>\n",
              "      <td>02-527-0708</td>\n",
              "      <td>NaT</td>\n",
              "      <td>NaT</td>\n",
              "      <td>2017-06-30</td>\n",
              "      <td>821388</td>\n",
              "      <td>5</td>\n",
              "      <td>NaN</td>\n",
              "    </tr>\n",
              "    <tr>\n",
              "      <th>4</th>\n",
              "      <td>NaN</td>\n",
              "      <td>NaN</td>\n",
              "      <td>20200509</td>\n",
              "      <td>2.208756e+09</td>\n",
              "      <td>NaN</td>\n",
              "      <td>NaN</td>\n",
              "      <td>Seven Energy Steel</td>\n",
              "      <td>세븐에너지스틸</td>\n",
              "      <td>E</td>\n",
              "      <td>기타</td>\n",
              "      <td>1101113762287</td>\n",
              "      <td>NaN</td>\n",
              "      <td>서울특별시 강남구 역삼동 690번지</td>\n",
              "      <td>서울특별시 강남구 역삼동 690번지</td>\n",
              "      <td>0</td>\n",
              "      <td>20071002.0</td>\n",
              "      <td>02-538-7972</td>\n",
              "      <td>7egroup.com</td>\n",
              "      <td>NaT</td>\n",
              "      <td>NaT</td>\n",
              "      <td>NaN</td>\n",
              "      <td>NaN</td>\n",
              "      <td>NaN</td>\n",
              "      <td>NaN</td>\n",
              "      <td>135080.0</td>\n",
              "      <td>세븐에너지스틸</td>\n",
              "      <td>0</td>\n",
              "      <td>우태희</td>\n",
              "      <td>12.0</td>\n",
              "      <td>02-566-7077</td>\n",
              "      <td>NaT</td>\n",
              "      <td>NaT</td>\n",
              "      <td>2017-06-30</td>\n",
              "      <td>775061</td>\n",
              "      <td>5</td>\n",
              "      <td>NaN</td>\n",
              "    </tr>\n",
              "  </tbody>\n",
              "</table>\n",
              "</div>\n",
              "      <button class=\"colab-df-convert\" onclick=\"convertToInteractive('df-3e4c2442-63d8-417c-a840-f856b0f4346f')\"\n",
              "              title=\"Convert this dataframe to an interactive table.\"\n",
              "              style=\"display:none;\">\n",
              "        \n",
              "  <svg xmlns=\"http://www.w3.org/2000/svg\" height=\"24px\"viewBox=\"0 0 24 24\"\n",
              "       width=\"24px\">\n",
              "    <path d=\"M0 0h24v24H0V0z\" fill=\"none\"/>\n",
              "    <path d=\"M18.56 5.44l.94 2.06.94-2.06 2.06-.94-2.06-.94-.94-2.06-.94 2.06-2.06.94zm-11 1L8.5 8.5l.94-2.06 2.06-.94-2.06-.94L8.5 2.5l-.94 2.06-2.06.94zm10 10l.94 2.06.94-2.06 2.06-.94-2.06-.94-.94-2.06-.94 2.06-2.06.94z\"/><path d=\"M17.41 7.96l-1.37-1.37c-.4-.4-.92-.59-1.43-.59-.52 0-1.04.2-1.43.59L10.3 9.45l-7.72 7.72c-.78.78-.78 2.05 0 2.83L4 21.41c.39.39.9.59 1.41.59.51 0 1.02-.2 1.41-.59l7.78-7.78 2.81-2.81c.8-.78.8-2.07 0-2.86zM5.41 20L4 18.59l7.72-7.72 1.47 1.35L5.41 20z\"/>\n",
              "  </svg>\n",
              "      </button>\n",
              "      \n",
              "  <style>\n",
              "    .colab-df-container {\n",
              "      display:flex;\n",
              "      flex-wrap:wrap;\n",
              "      gap: 12px;\n",
              "    }\n",
              "\n",
              "    .colab-df-convert {\n",
              "      background-color: #E8F0FE;\n",
              "      border: none;\n",
              "      border-radius: 50%;\n",
              "      cursor: pointer;\n",
              "      display: none;\n",
              "      fill: #1967D2;\n",
              "      height: 32px;\n",
              "      padding: 0 0 0 0;\n",
              "      width: 32px;\n",
              "    }\n",
              "\n",
              "    .colab-df-convert:hover {\n",
              "      background-color: #E2EBFA;\n",
              "      box-shadow: 0px 1px 2px rgba(60, 64, 67, 0.3), 0px 1px 3px 1px rgba(60, 64, 67, 0.15);\n",
              "      fill: #174EA6;\n",
              "    }\n",
              "\n",
              "    [theme=dark] .colab-df-convert {\n",
              "      background-color: #3B4455;\n",
              "      fill: #D2E3FC;\n",
              "    }\n",
              "\n",
              "    [theme=dark] .colab-df-convert:hover {\n",
              "      background-color: #434B5C;\n",
              "      box-shadow: 0px 1px 3px 1px rgba(0, 0, 0, 0.15);\n",
              "      filter: drop-shadow(0px 1px 2px rgba(0, 0, 0, 0.3));\n",
              "      fill: #FFFFFF;\n",
              "    }\n",
              "  </style>\n",
              "\n",
              "      <script>\n",
              "        const buttonEl =\n",
              "          document.querySelector('#df-3e4c2442-63d8-417c-a840-f856b0f4346f button.colab-df-convert');\n",
              "        buttonEl.style.display =\n",
              "          google.colab.kernel.accessAllowed ? 'block' : 'none';\n",
              "\n",
              "        async function convertToInteractive(key) {\n",
              "          const element = document.querySelector('#df-3e4c2442-63d8-417c-a840-f856b0f4346f');\n",
              "          const dataTable =\n",
              "            await google.colab.kernel.invokeFunction('convertToInteractive',\n",
              "                                                     [key], {});\n",
              "          if (!dataTable) return;\n",
              "\n",
              "          const docLinkHtml = 'Like what you see? Visit the ' +\n",
              "            '<a target=\"_blank\" href=https://colab.research.google.com/notebooks/data_table.ipynb>data table notebook</a>'\n",
              "            + ' to learn more about interactive tables.';\n",
              "          element.innerHTML = '';\n",
              "          dataTable['output_type'] = 'display_data';\n",
              "          await google.colab.output.renderOutput(dataTable, element);\n",
              "          const docLink = document.createElement('div');\n",
              "          docLink.innerHTML = docLinkHtml;\n",
              "          element.appendChild(docLink);\n",
              "        }\n",
              "      </script>\n",
              "    </div>\n",
              "  </div>\n",
              "  "
            ],
            "text/plain": [
              "  회계감사인명 감사보고서의견내용      기준일자       사업자등록번호  ...  금융감독원법인변경일시  금융감독원법인고유번호 업종 중소기업여부\n",
              "0    NaN       NaN  20200509  2.118648e+09  ...   2017-06-30       806149  1    NaN\n",
              "1    NaN       NaN  20200509  1.208770e+09  ...   2017-06-30       926629  1    NaN\n",
              "2    NaN       NaN  20200509  3.028100e+09  ...   2017-06-30       225991  5    NaN\n",
              "3    NaN       NaN  20200509  2.208747e+09  ...   2017-06-30       821388  5    NaN\n",
              "4    NaN       NaN  20200509  2.208756e+09  ...   2017-06-30       775061  5    NaN\n",
              "\n",
              "[5 rows x 36 columns]"
            ]
          },
          "metadata": {},
          "execution_count": 20
        }
      ],
      "source": [
        "# df_all['최종기업샘플'].drop('정책select', axis=1, inplace=True) # -->  업종  기업설립일자  종업원수  기업상세주소\n",
        "df_final.head(5)"
      ]
    },
    {
      "cell_type": "code",
      "execution_count": null,
      "metadata": {
        "colab": {
          "base_uri": "https://localhost:8080/"
        },
        "id": "5ss7jdyQ1Ck9",
        "outputId": "6f9b8b94-1778-4600-af01-29b3899ef3c6"
      },
      "outputs": [
        {
          "output_type": "execute_result",
          "data": {
            "text/plain": [
              "0"
            ]
          },
          "metadata": {},
          "execution_count": 21
        }
      ],
      "source": [
        "df_final['법인등록번호'].isnull().sum()"
      ]
    },
    {
      "cell_type": "markdown",
      "metadata": {
        "id": "F5YKObGBz4J9"
      },
      "source": [
        "### dart_기업개황 : df_dart"
      ]
    },
    {
      "cell_type": "code",
      "execution_count": null,
      "metadata": {
        "colab": {
          "base_uri": "https://localhost:8080/",
          "height": 1000
        },
        "id": "aF2v_mFea9bT",
        "outputId": "c46da1dd-add9-4868-9194-d8d2b7601198"
      },
      "outputs": [
        {
          "output_type": "execute_result",
          "data": {
            "text/html": [
              "\n",
              "  <div id=\"df-8c22b4b7-7fb6-4d92-8f3b-c665945fa223\">\n",
              "    <div class=\"colab-df-container\">\n",
              "      <div>\n",
              "<style scoped>\n",
              "    .dataframe tbody tr th:only-of-type {\n",
              "        vertical-align: middle;\n",
              "    }\n",
              "\n",
              "    .dataframe tbody tr th {\n",
              "        vertical-align: top;\n",
              "    }\n",
              "\n",
              "    .dataframe thead th {\n",
              "        text-align: right;\n",
              "    }\n",
              "</style>\n",
              "<table border=\"1\" class=\"dataframe\">\n",
              "  <thead>\n",
              "    <tr style=\"text-align: right;\">\n",
              "      <th></th>\n",
              "      <th>결산월(MM)</th>\n",
              "      <th>주소</th>\n",
              "      <th>사업자등록번호</th>\n",
              "      <th>대표자명</th>\n",
              "      <th>법인구분 : Y(유가), K(코스닥), N(코넥스), E(기타)</th>\n",
              "      <th>corp_code</th>\n",
              "      <th>정식명칭</th>\n",
              "      <th>영문명칭</th>\n",
              "      <th>설립일(YYYYMMDD)</th>\n",
              "      <th>팩스번호</th>\n",
              "      <th>홈페이지</th>\n",
              "      <th>업종번호</th>\n",
              "      <th>IR홈페이지</th>\n",
              "      <th>법인등록번호</th>\n",
              "      <th>message</th>\n",
              "      <th>전화번호</th>\n",
              "      <th>status</th>\n",
              "      <th>주식 종목코드</th>\n",
              "      <th>종목명 또는 약식명칭</th>\n",
              "    </tr>\n",
              "  </thead>\n",
              "  <tbody>\n",
              "    <tr>\n",
              "      <th>0</th>\n",
              "      <td>12.0</td>\n",
              "      <td>충청남도 천안시 청당동 419-12</td>\n",
              "      <td>3128134722</td>\n",
              "      <td>김상규</td>\n",
              "      <td>E</td>\n",
              "      <td>434003</td>\n",
              "      <td>(주)다코</td>\n",
              "      <td>Daco corporation</td>\n",
              "      <td>19970611.0</td>\n",
              "      <td>041-563-6808</td>\n",
              "      <td>없음</td>\n",
              "      <td>25931</td>\n",
              "      <td>NaN</td>\n",
              "      <td>1615110021778</td>\n",
              "      <td>정상</td>\n",
              "      <td>041-565-1800</td>\n",
              "      <td>0</td>\n",
              "      <td>NaN</td>\n",
              "      <td>다코</td>\n",
              "    </tr>\n",
              "    <tr>\n",
              "      <th>1</th>\n",
              "      <td>12.0</td>\n",
              "      <td>강원도 원주시 원동 303</td>\n",
              "      <td>2248105027</td>\n",
              "      <td>이광선</td>\n",
              "      <td>E</td>\n",
              "      <td>434456</td>\n",
              "      <td>일산약품(주)</td>\n",
              "      <td>ILSAN PHARMACEUTICAL CO.,LTD.</td>\n",
              "      <td>19910615.0</td>\n",
              "      <td>033-763-6433</td>\n",
              "      <td>NaN</td>\n",
              "      <td>21101</td>\n",
              "      <td>NaN</td>\n",
              "      <td>1412110004641</td>\n",
              "      <td>정상</td>\n",
              "      <td>033-763-7535</td>\n",
              "      <td>0</td>\n",
              "      <td>NaN</td>\n",
              "      <td>일산약품</td>\n",
              "    </tr>\n",
              "    <tr>\n",
              "      <th>2</th>\n",
              "      <td>11.0</td>\n",
              "      <td>서울특별시 중구 태평로2가 120</td>\n",
              "      <td>1048177488</td>\n",
              "      <td>정진형</td>\n",
              "      <td>E</td>\n",
              "      <td>430964</td>\n",
              "      <td>굿앤엘에스주식회사</td>\n",
              "      <td>Good &amp; LS Co.,Ltd.</td>\n",
              "      <td>20021213.0</td>\n",
              "      <td>NaN</td>\n",
              "      <td>NaN</td>\n",
              "      <td>64999</td>\n",
              "      <td>NaN</td>\n",
              "      <td>1101112672875</td>\n",
              "      <td>정상</td>\n",
              "      <td>02-6263-8185</td>\n",
              "      <td>0</td>\n",
              "      <td>NaN</td>\n",
              "      <td>굿앤엘에스</td>\n",
              "    </tr>\n",
              "    <tr>\n",
              "      <th>3</th>\n",
              "      <td>12.0</td>\n",
              "      <td>제주특별자치도 북제주군 한림읍 상명리 587</td>\n",
              "      <td>6168120149</td>\n",
              "      <td>정우석</td>\n",
              "      <td>E</td>\n",
              "      <td>432403</td>\n",
              "      <td>한라판지(주)</td>\n",
              "      <td>HANLA PARKING CO.,LTD</td>\n",
              "      <td>19970601.0</td>\n",
              "      <td>064-796-8003</td>\n",
              "      <td>NaN</td>\n",
              "      <td>17123</td>\n",
              "      <td>NaN</td>\n",
              "      <td>2201110019993</td>\n",
              "      <td>정상</td>\n",
              "      <td>064-796-8001</td>\n",
              "      <td>0</td>\n",
              "      <td>NaN</td>\n",
              "      <td>한라판지</td>\n",
              "    </tr>\n",
              "    <tr>\n",
              "      <th>4</th>\n",
              "      <td>10.0</td>\n",
              "      <td>서울특별시 영등포구 여의도동 36-3</td>\n",
              "      <td>107-86-08501</td>\n",
              "      <td>배경오</td>\n",
              "      <td>E</td>\n",
              "      <td>388953</td>\n",
              "      <td>크레디피아제이십오차유동화전문회사</td>\n",
              "      <td>Credipia 25th Asset Securitization Specialty L.L.C</td>\n",
              "      <td>20011121.0</td>\n",
              "      <td>784-9869</td>\n",
              "      <td>NaN</td>\n",
              "      <td>64999</td>\n",
              "      <td>NaN</td>\n",
              "      <td>1101140036118</td>\n",
              "      <td>정상</td>\n",
              "      <td>07-768-7911</td>\n",
              "      <td>0</td>\n",
              "      <td>NaN</td>\n",
              "      <td>크레디피아제이십오차유동화전문회사</td>\n",
              "    </tr>\n",
              "  </tbody>\n",
              "</table>\n",
              "</div>\n",
              "      <button class=\"colab-df-convert\" onclick=\"convertToInteractive('df-8c22b4b7-7fb6-4d92-8f3b-c665945fa223')\"\n",
              "              title=\"Convert this dataframe to an interactive table.\"\n",
              "              style=\"display:none;\">\n",
              "        \n",
              "  <svg xmlns=\"http://www.w3.org/2000/svg\" height=\"24px\"viewBox=\"0 0 24 24\"\n",
              "       width=\"24px\">\n",
              "    <path d=\"M0 0h24v24H0V0z\" fill=\"none\"/>\n",
              "    <path d=\"M18.56 5.44l.94 2.06.94-2.06 2.06-.94-2.06-.94-.94-2.06-.94 2.06-2.06.94zm-11 1L8.5 8.5l.94-2.06 2.06-.94-2.06-.94L8.5 2.5l-.94 2.06-2.06.94zm10 10l.94 2.06.94-2.06 2.06-.94-2.06-.94-.94-2.06-.94 2.06-2.06.94z\"/><path d=\"M17.41 7.96l-1.37-1.37c-.4-.4-.92-.59-1.43-.59-.52 0-1.04.2-1.43.59L10.3 9.45l-7.72 7.72c-.78.78-.78 2.05 0 2.83L4 21.41c.39.39.9.59 1.41.59.51 0 1.02-.2 1.41-.59l7.78-7.78 2.81-2.81c.8-.78.8-2.07 0-2.86zM5.41 20L4 18.59l7.72-7.72 1.47 1.35L5.41 20z\"/>\n",
              "  </svg>\n",
              "      </button>\n",
              "      \n",
              "  <style>\n",
              "    .colab-df-container {\n",
              "      display:flex;\n",
              "      flex-wrap:wrap;\n",
              "      gap: 12px;\n",
              "    }\n",
              "\n",
              "    .colab-df-convert {\n",
              "      background-color: #E8F0FE;\n",
              "      border: none;\n",
              "      border-radius: 50%;\n",
              "      cursor: pointer;\n",
              "      display: none;\n",
              "      fill: #1967D2;\n",
              "      height: 32px;\n",
              "      padding: 0 0 0 0;\n",
              "      width: 32px;\n",
              "    }\n",
              "\n",
              "    .colab-df-convert:hover {\n",
              "      background-color: #E2EBFA;\n",
              "      box-shadow: 0px 1px 2px rgba(60, 64, 67, 0.3), 0px 1px 3px 1px rgba(60, 64, 67, 0.15);\n",
              "      fill: #174EA6;\n",
              "    }\n",
              "\n",
              "    [theme=dark] .colab-df-convert {\n",
              "      background-color: #3B4455;\n",
              "      fill: #D2E3FC;\n",
              "    }\n",
              "\n",
              "    [theme=dark] .colab-df-convert:hover {\n",
              "      background-color: #434B5C;\n",
              "      box-shadow: 0px 1px 3px 1px rgba(0, 0, 0, 0.15);\n",
              "      filter: drop-shadow(0px 1px 2px rgba(0, 0, 0, 0.3));\n",
              "      fill: #FFFFFF;\n",
              "    }\n",
              "  </style>\n",
              "\n",
              "      <script>\n",
              "        const buttonEl =\n",
              "          document.querySelector('#df-8c22b4b7-7fb6-4d92-8f3b-c665945fa223 button.colab-df-convert');\n",
              "        buttonEl.style.display =\n",
              "          google.colab.kernel.accessAllowed ? 'block' : 'none';\n",
              "\n",
              "        async function convertToInteractive(key) {\n",
              "          const element = document.querySelector('#df-8c22b4b7-7fb6-4d92-8f3b-c665945fa223');\n",
              "          const dataTable =\n",
              "            await google.colab.kernel.invokeFunction('convertToInteractive',\n",
              "                                                     [key], {});\n",
              "          if (!dataTable) return;\n",
              "\n",
              "          const docLinkHtml = 'Like what you see? Visit the ' +\n",
              "            '<a target=\"_blank\" href=https://colab.research.google.com/notebooks/data_table.ipynb>data table notebook</a>'\n",
              "            + ' to learn more about interactive tables.';\n",
              "          element.innerHTML = '';\n",
              "          dataTable['output_type'] = 'display_data';\n",
              "          await google.colab.output.renderOutput(dataTable, element);\n",
              "          const docLink = document.createElement('div');\n",
              "          docLink.innerHTML = docLinkHtml;\n",
              "          element.appendChild(docLink);\n",
              "        }\n",
              "      </script>\n",
              "    </div>\n",
              "  </div>\n",
              "  "
            ],
            "text/plain": [
              "   결산월(MM)                        주소  ... 주식 종목코드        종목명 또는 약식명칭\n",
              "0     12.0       충청남도 천안시 청당동 419-12  ...     NaN                 다코\n",
              "1     12.0            강원도 원주시 원동 303  ...     NaN               일산약품\n",
              "2     11.0        서울특별시 중구 태평로2가 120  ...     NaN              굿앤엘에스\n",
              "3     12.0  제주특별자치도 북제주군 한림읍 상명리 587  ...     NaN               한라판지\n",
              "4     10.0      서울특별시 영등포구 여의도동 36-3  ...     NaN  크레디피아제이십오차유동화전문회사\n",
              "\n",
              "[5 rows x 19 columns]"
            ]
          },
          "metadata": {},
          "execution_count": 22
        }
      ],
      "source": [
        "df_dart.head(5)"
      ]
    },
    {
      "cell_type": "code",
      "execution_count": null,
      "metadata": {
        "colab": {
          "base_uri": "https://localhost:8080/"
        },
        "id": "3i0VQkXZ1_2A",
        "outputId": "74144702-1572-4174-dfd8-6da820fa15d2"
      },
      "outputs": [
        {
          "output_type": "execute_result",
          "data": {
            "text/plain": [
              "Index(['결산월(MM)', '주소', '사업자등록번호', '대표자명',\n",
              "       '법인구분 : Y(유가), K(코스닥), N(코넥스), E(기타)', 'corp_code', '정식명칭', '영문명칭',\n",
              "       '설립일(YYYYMMDD)', '팩스번호', '홈페이지', '업종번호', 'IR홈페이지', '법인등록번호', 'message',\n",
              "       '전화번호', 'status', '주식 종목코드', '종목명 또는 약식명칭'],\n",
              "      dtype='object')"
            ]
          },
          "metadata": {},
          "execution_count": 23
        }
      ],
      "source": [
        "df_dart.columns"
      ]
    },
    {
      "cell_type": "code",
      "execution_count": null,
      "metadata": {
        "colab": {
          "base_uri": "https://localhost:8080/"
        },
        "id": "Jfj0ZvBV14Ai",
        "outputId": "ec5e1ee4-728c-4c04-eb43-63abc964338d"
      },
      "outputs": [
        {
          "output_type": "execute_result",
          "data": {
            "text/plain": [
              "array([    nan,  36720.,  40130., ...,  53950., 204990., 289220.])"
            ]
          },
          "metadata": {},
          "execution_count": 24
        }
      ],
      "source": [
        "df_dart['주식 종목코드'].unique()"
      ]
    },
    {
      "cell_type": "markdown",
      "metadata": {
        "id": "WlnTqm86fHc-"
      },
      "source": [
        "## 기업데이터 컬럼 모아보기"
      ]
    },
    {
      "cell_type": "code",
      "execution_count": null,
      "metadata": {
        "colab": {
          "base_uri": "https://localhost:8080/"
        },
        "id": "m6LLik-ggirc",
        "outputId": "25f6e76b-1ef8-4c5f-f1b2-3f424b71bfe5"
      },
      "outputs": [
        {
          "output_type": "execute_result",
          "data": {
            "text/plain": [
              "Index(['섹터', '기업체명', '영문기업명', '사업자번호', '법인(주민)번호', '대표자명', '종업원수', '설립형태',\n",
              "       '설립일자', '기업형태', '기업규모', '전화번호', '팩스번호', '홈페이지', '이메일', '결산월', '기업공개일자',\n",
              "       '도로명', '지번', '업종(10차)', '업종(9차)', '주요제품(상품)', '무역업허가번호', '소속그룹',\n",
              "       '주채권기관', '당좌거래은행', '휴폐업정보', '법인등기정보'],\n",
              "      dtype='object')"
            ]
          },
          "metadata": {},
          "execution_count": 25
        }
      ],
      "source": [
        "df_sample.columns"
      ]
    },
    {
      "cell_type": "code",
      "execution_count": null,
      "metadata": {
        "colab": {
          "base_uri": "https://localhost:8080/"
        },
        "id": "4zVZrTuWgoXE",
        "outputId": "99442f58-1b2f-4936-c9de-53cf4b51409b"
      },
      "outputs": [
        {
          "output_type": "execute_result",
          "data": {
            "text/plain": [
              "Index(['회계감사인명', '감사보고서의견내용', '기준일자', '사업자등록번호', '법인구분코드', '법인구분코드명', '법인영문명',\n",
              "       '기업체명', '법인등록시장구분코드', '법인등록시장구분코드명', '법인등록번호', '종업원평균근속기간내용', '기업기본주소',\n",
              "       '기업상세주소', '종업원수', '기업설립일자', '기업팩스번호', '홈페이지', '기업코스닥상장폐지일자',\n",
              "       '기업코스닥상장일자', '기업KONEX상장폐지일자', '기업KONEX상장일자', '기업주요사업명', '기업주거래은행명',\n",
              "       '기업구우편번호', '기업공시회사명', '기업1인평균급여금액', '기업대표자성명', '기업결산월', '기업전화번호',\n",
              "       '기업거래소상장폐지일자', '기업거래소상장일자', '금융감독원법인변경일시', '금융감독원법인고유번호', '업종',\n",
              "       '중소기업여부'],\n",
              "      dtype='object')"
            ]
          },
          "metadata": {},
          "execution_count": 26
        }
      ],
      "source": [
        "df_final.columns"
      ]
    },
    {
      "cell_type": "code",
      "execution_count": null,
      "metadata": {
        "colab": {
          "base_uri": "https://localhost:8080/"
        },
        "id": "yYsFQ3MfgqlP",
        "outputId": "e94d895c-525c-4127-8a80-941c5d033065"
      },
      "outputs": [
        {
          "output_type": "execute_result",
          "data": {
            "text/plain": [
              "Index(['결산월(MM)', '주소', '사업자등록번호', '대표자명',\n",
              "       '법인구분 : Y(유가), K(코스닥), N(코넥스), E(기타)', 'corp_code', '정식명칭', '영문명칭',\n",
              "       '설립일(YYYYMMDD)', '팩스번호', '홈페이지', '업종번호', 'IR홈페이지', '법인등록번호', 'message',\n",
              "       '전화번호', 'status', '주식 종목코드', '종목명 또는 약식명칭'],\n",
              "      dtype='object')"
            ]
          },
          "metadata": {},
          "execution_count": 27
        }
      ],
      "source": [
        "df_dart.columns"
      ]
    },
    {
      "cell_type": "markdown",
      "metadata": {
        "id": "yIRMPYYjhpSk"
      },
      "source": [
        "## 지역 딕셔너리 : region_zip1(시도),  region_zip2(시군구)\n",
        "- 시도 : region_zip1\n",
        "- 시군구 : region_zip2"
      ]
    },
    {
      "cell_type": "code",
      "execution_count": null,
      "metadata": {
        "id": "JC4J0i04deAo"
      },
      "outputs": [],
      "source": [
        "# 지역명 태그 딕셔너리 만들기\n",
        "\n",
        "# 1) 시도 태그딕셔너리\n",
        "policy_tag = pd.read_excel(\"/content/drive/MyDrive/1팀/정책데이터 태그셋리스트(AIB전달용).xlsx\",sheet_name='상위코드', header=1 )\n",
        "policy_tag = policy_tag.iloc[15:, 4:7]\n",
        "policy_tag.columns = ['지역(시도)', '번호', '상위코드']\n",
        "policy_tag.reset_index(drop=True, inplace=True)\n",
        "region_tag = policy_tag[0:18]\n",
        "region_tag = region_tag[['지역(시도)','상위코드']]\n",
        "\n",
        "# 단어와 개체명 정보끼리 딕셔너리 만들기\n",
        "region_zip = {w: t for w, t in zip(region_tag[\"지역(시도)\"].values.tolist(), region_tag[\"상위코드\"].values.tolist())}\n",
        "# region_zip_reverse = {t:w for w, t in region_zip.items()}\n",
        "\n",
        "# 지역이 축약되는 경우도 많으므로 적절하게 처리해서 row 추가 \n",
        "a = 18\n",
        "for i in region_tag['지역(시도)']:\n",
        "    if i == '충청북도':\n",
        "        region_tag.loc[a] = ['충북', region_zip[i]]\n",
        "        a+=1\n",
        "    elif i == '충청남도':\n",
        "        region_tag.loc[a] = ['충남', region_zip[i]]\n",
        "        a+=1\n",
        "    elif i == '전라북도':\n",
        "        region_tag.loc[a] = ['전북', region_zip[i]]\n",
        "        a+=1\n",
        "    elif i == '전라남도':\n",
        "        region_tag.loc[a] = ['전남', region_zip[i]]\n",
        "        a+=1\n",
        "    elif i == '경상북도':\n",
        "        region_tag.loc[a] = ['경북', region_zip[i]]\n",
        "        a+=1\n",
        "    elif i == '경상남도':\n",
        "        region_tag.loc[a] = ['경남', region_zip[i]]\n",
        "        a+=1\n",
        "    else:\n",
        "        region_tag.loc[a] = [i[0:2], region_zip[i]]\n",
        "        a+=1\n",
        "\n",
        "# 단어와 개체명 정보끼리 딕셔너리 만들기\n",
        "region_zip1 = {w: t for w, t in zip(region_tag[\"지역(시도)\"].values.tolist(), region_tag[\"상위코드\"].values.tolist())}\n",
        "# region_zip_reverse = {t:w for w, t in region_zip.items()}\n",
        "\n",
        "# 2) 시군구 딕셔너리 만들고 추가\n",
        "policy_low_tag= pd.read_excel(\"/content/drive/MyDrive/1팀/정책데이터 태그셋리스트(AIB전달용).xlsx\",sheet_name='하위코드', header=1 )\n",
        "region_low_tag = policy_low_tag.iloc[1:247,[4,6]].dropna(how='all')\n",
        "region_low_tag.columns = ['지역(시군구)', '하위코드']\n",
        "region_low_tag=region_low_tag.reset_index(drop=True)\n",
        "\n",
        "# 단어와 개체명 정보끼리 쌍으로 묶기. ('전체'는 여러가지라서 따로 처리가 필요)\n",
        "region_low_tag = region_low_tag[region_low_tag['지역(시군구)'] !='전체']\n",
        "region_low_zip = {w:t for w, t in zip(region_low_tag[\"지역(시군구)\"].values.tolist(), region_low_tag[\"하위코드\"].values.tolist())}\n",
        "# region_low_zip_reverse = {t:w for w, t in region_low_zip.items()}\n",
        "\n",
        "# 지역이 축약되는 경우도 많으므로 적절하게 처리해서 row 추가 \n",
        "a = 244\n",
        "for i in region_low_tag['지역(시군구)']:\n",
        "    if len(i[:-1]) == 1:\n",
        "        continue\n",
        "    elif i == '세종시 전체':\n",
        "        continue\n",
        "    elif i == '제주시':\n",
        "        continue\n",
        "    else:\n",
        "        region_low_tag.loc[a] = [i[:-1], region_low_zip[i]]\n",
        "        a+=1\n",
        "\n",
        "region_zip2 = {w:t for w, t in zip(region_low_tag[\"지역(시군구)\"].values.tolist(), region_low_tag[\"하위코드\"].values.tolist())}\n",
        "# region_low_zip_reverse = {t:w for w, t in region_low_zip.items()}\n",
        "\n",
        "# # 두 파이썬 딕셔너리를 병합(시도+시군구)\n",
        "# region_zip.update(region_low_zip)"
      ]
    },
    {
      "cell_type": "code",
      "execution_count": null,
      "metadata": {
        "colab": {
          "base_uri": "https://localhost:8080/"
        },
        "id": "5lrVaUIphFTy",
        "outputId": "8c5a11f0-73d2-4264-e815-45a2b3133e20"
      },
      "outputs": [
        {
          "output_type": "execute_result",
          "data": {
            "text/plain": [
              "{'강원': 'A01-10',\n",
              " '강원도': 'A01-10',\n",
              " '경기': 'A01-09',\n",
              " '경기도': 'A01-09',\n",
              " '경남': 'A01-16',\n",
              " '경북': 'A01-15',\n",
              " '경상남도': 'A01-16',\n",
              " '경상북도': 'A01-15',\n",
              " '광주': 'A01-05',\n",
              " '광주광역시': 'A01-05',\n",
              " '대구': 'A01-03',\n",
              " '대구광역시': 'A01-03',\n",
              " '대전': 'A01-06',\n",
              " '대전광역시': 'A01-06',\n",
              " '부산': 'A01-02',\n",
              " '부산광역시': 'A01-02',\n",
              " '서울': 'A01-01',\n",
              " '서울특별시': 'A01-01',\n",
              " '세종': 'A01-08',\n",
              " '세종특별자치시': 'A01-08',\n",
              " '울산': 'A01-07',\n",
              " '울산광역시': 'A01-07',\n",
              " '인천': 'A01-04',\n",
              " '인천광역시': 'A01-04',\n",
              " '전국': 'A01-00',\n",
              " '전남': 'A01-14',\n",
              " '전라남도': 'A01-14',\n",
              " '전라북도': 'A01-13',\n",
              " '전북': 'A01-13',\n",
              " '제주': 'A01-17',\n",
              " '제주특별자치도': 'A01-17',\n",
              " '충남': 'A01-12',\n",
              " '충북': 'A01-11',\n",
              " '충청남도': 'A01-12',\n",
              " '충청북도': 'A01-11'}"
            ]
          },
          "metadata": {},
          "execution_count": 29
        }
      ],
      "source": [
        "# 시도\n",
        "region_zip1"
      ]
    },
    {
      "cell_type": "code",
      "execution_count": null,
      "metadata": {
        "colab": {
          "base_uri": "https://localhost:8080/"
        },
        "id": "fO-z_5Y9fJ-W",
        "outputId": "4642603d-e01c-4a36-d6f3-15dc0e2bd8aa"
      },
      "outputs": [
        {
          "output_type": "execute_result",
          "data": {
            "text/plain": [
              "{'가평': 'A01-09-30',\n",
              " '가평군': 'A01-09-30',\n",
              " '강남': 'A01-01-23',\n",
              " '강남구': 'A01-01-23',\n",
              " '강동': 'A01-01-25',\n",
              " '강동구': 'A01-01-25',\n",
              " '강릉': 'A01-10-03',\n",
              " '강릉시': 'A01-10-03',\n",
              " '강북': 'A01-01-09',\n",
              " '강북구': 'A01-01-09',\n",
              " '강서': 'A01-02-12',\n",
              " '강서구': 'A01-02-12',\n",
              " '강진': 'A01-14-13',\n",
              " '강진군': 'A01-14-13',\n",
              " '강화': 'A01-04-09',\n",
              " '강화군': 'A01-04-09',\n",
              " '거제': 'A01-16-07',\n",
              " '거제시': 'A01-16-07',\n",
              " '거창': 'A01-16-17',\n",
              " '거창군': 'A01-16-17',\n",
              " '경산': 'A01-15-10',\n",
              " '경산시': 'A01-15-10',\n",
              " '경주': 'A01-15-02',\n",
              " '경주시': 'A01-15-02',\n",
              " '계룡': 'A01-12-07',\n",
              " '계룡시': 'A01-12-07',\n",
              " '계양': 'A01-04-07',\n",
              " '계양구': 'A01-04-07',\n",
              " '고령': 'A01-15-17',\n",
              " '고령군': 'A01-15-17',\n",
              " '고성': 'A01-16-12',\n",
              " '고성군': 'A01-16-12',\n",
              " '고양': 'A01-09-03',\n",
              " '고양시': 'A01-09-03',\n",
              " '고창': 'A01-13-13',\n",
              " '고창군': 'A01-13-13',\n",
              " '고흥': 'A01-14-09',\n",
              " '고흥군': 'A01-14-09',\n",
              " '곡성': 'A01-14-07',\n",
              " '곡성군': 'A01-14-07',\n",
              " '공주': 'A01-12-02',\n",
              " '공주시': 'A01-12-02',\n",
              " '과천': 'A01-09-29',\n",
              " '과천시': 'A01-09-29',\n",
              " '관악': 'A01-01-21',\n",
              " '관악구': 'A01-01-21',\n",
              " '광명': 'A01-09-14',\n",
              " '광명시': 'A01-09-14',\n",
              " '광산': 'A01-05-05',\n",
              " '광산구': 'A01-05-05',\n",
              " '광양': 'A01-14-05',\n",
              " '광양시': 'A01-14-05',\n",
              " '광주': 'A01-09-17',\n",
              " '광주시': 'A01-09-17',\n",
              " '광진': 'A01-01-05',\n",
              " '광진구': 'A01-01-05',\n",
              " '괴산': 'A01-11-08',\n",
              " '괴산군': 'A01-11-08',\n",
              " '구례': 'A01-14-08',\n",
              " '구례군': 'A01-14-08',\n",
              " '구로': 'A01-01-17',\n",
              " '구로구': 'A01-01-17',\n",
              " '구리': 'A01-09-21',\n",
              " '구리시': 'A01-09-21',\n",
              " '구미': 'A01-15-05',\n",
              " '구미시': 'A01-15-05',\n",
              " '군산': 'A01-13-02',\n",
              " '군산시': 'A01-13-02',\n",
              " '군위': 'A01-15-11',\n",
              " '군위군': 'A01-15-11',\n",
              " '군포': 'A01-09-16',\n",
              " '군포시': 'A01-09-16',\n",
              " '금산': 'A01-12-09',\n",
              " '금산군': 'A01-12-09',\n",
              " '금정': 'A01-02-11',\n",
              " '금정구': 'A01-02-11',\n",
              " '금천': 'A01-01-18',\n",
              " '금천구': 'A01-01-18',\n",
              " '기장': 'A01-02-16',\n",
              " '기장군': 'A01-02-16',\n",
              " '김제': 'A01-13-06',\n",
              " '김제시': 'A01-13-06',\n",
              " '김천': 'A01-15-03',\n",
              " '김천시': 'A01-15-03',\n",
              " '김포': 'A01-09-15',\n",
              " '김포시': 'A01-09-15',\n",
              " '김해': 'A01-16-05',\n",
              " '김해시': 'A01-16-05',\n",
              " '나주': 'A01-14-04',\n",
              " '나주시': 'A01-14-04',\n",
              " '남구': 'A01-07-02',\n",
              " '남동': 'A01-04-05',\n",
              " '남동구': 'A01-04-05',\n",
              " '남양주': 'A01-09-08',\n",
              " '남양주시': 'A01-09-08',\n",
              " '남원': 'A01-13-05',\n",
              " '남원시': 'A01-13-05',\n",
              " '남해': 'A01-16-13',\n",
              " '남해군': 'A01-16-13',\n",
              " '노원': 'A01-01-11',\n",
              " '노원구': 'A01-01-11',\n",
              " '논산': 'A01-12-06',\n",
              " '논산시': 'A01-12-06',\n",
              " '단양': 'A01-11-10',\n",
              " '단양군': 'A01-11-10',\n",
              " '달서': 'A01-03-07',\n",
              " '달서구': 'A01-03-07',\n",
              " '달성': 'A01-03-08',\n",
              " '달성군': 'A01-03-08',\n",
              " '담양': 'A01-14-06',\n",
              " '담양군': 'A01-14-06',\n",
              " '당진': 'A01-12-08',\n",
              " '당진시': 'A01-12-08',\n",
              " '대덕': 'A01-06-05',\n",
              " '대덕구': 'A01-06-05',\n",
              " '도봉': 'A01-01-10',\n",
              " '도봉구': 'A01-01-10',\n",
              " '동구': 'A01-07-03',\n",
              " '동대문': 'A01-01-06',\n",
              " '동대문구': 'A01-01-06',\n",
              " '동두천': 'A01-09-28',\n",
              " '동두천시': 'A01-09-28',\n",
              " '동래': 'A01-02-06',\n",
              " '동래구': 'A01-02-06',\n",
              " '동작': 'A01-01-20',\n",
              " '동작구': 'A01-01-20',\n",
              " '동해': 'A01-10-04',\n",
              " '동해시': 'A01-10-04',\n",
              " '마포': 'A01-01-14',\n",
              " '마포구': 'A01-01-14',\n",
              " '목포': 'A01-14-01',\n",
              " '목포시': 'A01-14-01',\n",
              " '무안': 'A01-14-16',\n",
              " '무안군': 'A01-14-16',\n",
              " '무주': 'A01-13-09',\n",
              " '무주군': 'A01-13-09',\n",
              " '문경': 'A01-15-09',\n",
              " '문경시': 'A01-15-09',\n",
              " '미추홀': 'A01-04-03',\n",
              " '미추홀구': 'A01-04-03',\n",
              " '밀양': 'A01-16-06',\n",
              " '밀양시': 'A01-16-06',\n",
              " '보령': 'A01-12-03',\n",
              " '보령시': 'A01-12-03',\n",
              " '보성': 'A01-14-10',\n",
              " '보성군': 'A01-14-10',\n",
              " '보은': 'A01-11-04',\n",
              " '보은군': 'A01-11-04',\n",
              " '봉화': 'A01-15-21',\n",
              " '봉화군': 'A01-15-21',\n",
              " '부산진': 'A01-02-05',\n",
              " '부산진구': 'A01-02-05',\n",
              " '부안': 'A01-13-14',\n",
              " '부안군': 'A01-13-14',\n",
              " '부여': 'A01-12-10',\n",
              " '부여군': 'A01-12-10',\n",
              " '부천': 'A01-09-05',\n",
              " '부천시': 'A01-09-05',\n",
              " '부평': 'A01-04-06',\n",
              " '부평구': 'A01-04-06',\n",
              " '북구': 'A01-07-04',\n",
              " '사상': 'A01-02-15',\n",
              " '사상구': 'A01-02-15',\n",
              " '사천': 'A01-16-04',\n",
              " '사천시': 'A01-16-04',\n",
              " '사하': 'A01-02-10',\n",
              " '사하구': 'A01-02-10',\n",
              " '산청': 'A01-16-15',\n",
              " '산청군': 'A01-16-15',\n",
              " '삼척': 'A01-10-07',\n",
              " '삼척시': 'A01-10-07',\n",
              " '상주': 'A01-15-08',\n",
              " '상주시': 'A01-15-08',\n",
              " '서구': 'A01-06-03',\n",
              " '서귀포': 'A01-17-01',\n",
              " '서귀포시': 'A01-17-01',\n",
              " '서대문': 'A01-01-13',\n",
              " '서대문구': 'A01-01-13',\n",
              " '서산': 'A01-12-05',\n",
              " '서산시': 'A01-12-05',\n",
              " '서천': 'A01-12-11',\n",
              " '서천군': 'A01-12-11',\n",
              " '서초': 'A01-01-22',\n",
              " '서초구': 'A01-01-22',\n",
              " '성남': 'A01-09-02',\n",
              " '성남시': 'A01-09-02',\n",
              " '성동': 'A01-01-04',\n",
              " '성동구': 'A01-01-04',\n",
              " '성북': 'A01-01-08',\n",
              " '성북구': 'A01-01-08',\n",
              " '성주': 'A01-15-18',\n",
              " '성주군': 'A01-15-18',\n",
              " '세종시 전체': 'A01-08-00',\n",
              " '속초': 'A01-10-06',\n",
              " '속초시': 'A01-10-06',\n",
              " '송파': 'A01-01-24',\n",
              " '송파구': 'A01-01-24',\n",
              " '수성': 'A01-03-06',\n",
              " '수성구': 'A01-03-06',\n",
              " '수영': 'A01-02-14',\n",
              " '수영구': 'A01-02-14',\n",
              " '수원': 'A01-09-01',\n",
              " '수원시': 'A01-09-01',\n",
              " '순창': 'A01-13-12',\n",
              " '순창군': 'A01-13-12',\n",
              " '순천': 'A01-14-03',\n",
              " '순천시': 'A01-14-03',\n",
              " '시흥': 'A01-09-12',\n",
              " '시흥시': 'A01-09-12',\n",
              " '신안': 'A01-14-22',\n",
              " '신안군': 'A01-14-22',\n",
              " '아산': 'A01-12-04',\n",
              " '아산시': 'A01-12-04',\n",
              " '안동': 'A01-15-04',\n",
              " '안동시': 'A01-15-04',\n",
              " '안산': 'A01-09-06',\n",
              " '안산시': 'A01-09-06',\n",
              " '안성': 'A01-09-22',\n",
              " '안성시': 'A01-09-22',\n",
              " '안양': 'A01-09-07',\n",
              " '안양시': 'A01-09-07',\n",
              " '양구': 'A01-10-15',\n",
              " '양구군': 'A01-10-15',\n",
              " '양산': 'A01-16-08',\n",
              " '양산시': 'A01-16-08',\n",
              " '양양': 'A01-10-18',\n",
              " '양양군': 'A01-10-18',\n",
              " '양주': 'A01-09-19',\n",
              " '양주시': 'A01-09-19',\n",
              " '양천': 'A01-01-15',\n",
              " '양천구': 'A01-01-15',\n",
              " '양평': 'A01-09-27',\n",
              " '양평군': 'A01-09-27',\n",
              " '여수': 'A01-14-02',\n",
              " '여수시': 'A01-14-02',\n",
              " '여주': 'A01-09-26',\n",
              " '여주시': 'A01-09-26',\n",
              " '연수': 'A01-04-04',\n",
              " '연수구': 'A01-04-04',\n",
              " '연제': 'A01-02-13',\n",
              " '연제구': 'A01-02-13',\n",
              " '연천': 'A01-09-31',\n",
              " '연천군': 'A01-09-31',\n",
              " '영광': 'A01-14-18',\n",
              " '영광군': 'A01-14-18',\n",
              " '영덕': 'A01-15-15',\n",
              " '영덕군': 'A01-15-15',\n",
              " '영도': 'A01-02-04',\n",
              " '영도구': 'A01-02-04',\n",
              " '영동': 'A01-11-06',\n",
              " '영동군': 'A01-11-06',\n",
              " '영등포': 'A01-01-19',\n",
              " '영등포구': 'A01-01-19',\n",
              " '영암': 'A01-14-15',\n",
              " '영암군': 'A01-14-15',\n",
              " '영양': 'A01-15-14',\n",
              " '영양군': 'A01-15-14',\n",
              " '영월': 'A01-10-10',\n",
              " '영월군': 'A01-10-10',\n",
              " '영주': 'A01-15-06',\n",
              " '영주시': 'A01-15-06',\n",
              " '영천': 'A01-15-07',\n",
              " '영천시': 'A01-15-07',\n",
              " '예산': 'A01-12-14',\n",
              " '예산군': 'A01-12-14',\n",
              " '예천': 'A01-15-20',\n",
              " '예천군': 'A01-15-20',\n",
              " '오산': 'A01-09-20',\n",
              " '오산시': 'A01-09-20',\n",
              " '옥천': 'A01-11-05',\n",
              " '옥천군': 'A01-11-05',\n",
              " '옹진': 'A01-04-10',\n",
              " '옹진군': 'A01-04-10',\n",
              " '완도': 'A01-14-20',\n",
              " '완도군': 'A01-14-20',\n",
              " '완주': 'A01-13-07',\n",
              " '완주군': 'A01-13-07',\n",
              " '용산': 'A01-01-03',\n",
              " '용산구': 'A01-01-03',\n",
              " '용인': 'A01-09-04',\n",
              " '용인시': 'A01-09-04',\n",
              " '울릉': 'A01-15-23',\n",
              " '울릉군': 'A01-15-23',\n",
              " '울주': 'A01-07-05',\n",
              " '울주군': 'A01-07-05',\n",
              " '울진': 'A01-15-22',\n",
              " '울진군': 'A01-15-22',\n",
              " '원주': 'A01-10-02',\n",
              " '원주시': 'A01-10-02',\n",
              " '유성': 'A01-06-04',\n",
              " '유성구': 'A01-06-04',\n",
              " '은평': 'A01-01-12',\n",
              " '은평구': 'A01-01-12',\n",
              " '음성': 'A01-11-09',\n",
              " '음성군': 'A01-11-09',\n",
              " '의령': 'A01-16-09',\n",
              " '의령군': 'A01-16-09',\n",
              " '의성': 'A01-15-12',\n",
              " '의성군': 'A01-15-12',\n",
              " '의왕': 'A01-09-24',\n",
              " '의왕시': 'A01-09-24',\n",
              " '의정부': 'A01-09-11',\n",
              " '의정부시': 'A01-09-11',\n",
              " '이천': 'A01-09-18',\n",
              " '이천시': 'A01-09-18',\n",
              " '익산': 'A01-13-03',\n",
              " '익산시': 'A01-13-03',\n",
              " '인제': 'A01-10-16',\n",
              " '인제군': 'A01-10-16',\n",
              " '임실': 'A01-13-11',\n",
              " '임실군': 'A01-13-11',\n",
              " '장성': 'A01-14-19',\n",
              " '장성군': 'A01-14-19',\n",
              " '장수': 'A01-13-10',\n",
              " '장수군': 'A01-13-10',\n",
              " '장흥': 'A01-14-12',\n",
              " '장흥군': 'A01-14-12',\n",
              " '전주': 'A01-13-01',\n",
              " '전주시': 'A01-13-01',\n",
              " '정선': 'A01-10-12',\n",
              " '정선군': 'A01-10-12',\n",
              " '정읍': 'A01-13-04',\n",
              " '정읍시': 'A01-13-04',\n",
              " '제주시': 'A01-17-00',\n",
              " '제천': 'A01-11-03',\n",
              " '제천시': 'A01-11-03',\n",
              " '종로': 'A01-01-01',\n",
              " '종로구': 'A01-01-01',\n",
              " '중구': 'A01-07-01',\n",
              " '중랑': 'A01-01-07',\n",
              " '중랑구': 'A01-01-07',\n",
              " '증평': 'A01-11-11',\n",
              " '증평군': 'A01-11-11',\n",
              " '진도': 'A01-14-21',\n",
              " '진도군': 'A01-14-21',\n",
              " '진안': 'A01-13-08',\n",
              " '진안군': 'A01-13-08',\n",
              " '진주': 'A01-16-02',\n",
              " '진주시': 'A01-16-02',\n",
              " '진천': 'A01-11-07',\n",
              " '진천군': 'A01-11-07',\n",
              " '창녕': 'A01-16-11',\n",
              " '창녕군': 'A01-16-11',\n",
              " '창원': 'A01-16-01',\n",
              " '창원시': 'A01-16-01',\n",
              " '천안': 'A01-12-01',\n",
              " '천안시': 'A01-12-01',\n",
              " '철원': 'A01-10-13',\n",
              " '철원군': 'A01-10-13',\n",
              " '청도': 'A01-15-16',\n",
              " '청도군': 'A01-15-16',\n",
              " '청송': 'A01-15-13',\n",
              " '청송군': 'A01-15-13',\n",
              " '청양': 'A01-12-12',\n",
              " '청양군': 'A01-12-12',\n",
              " '청주': 'A01-11-01',\n",
              " '청주시': 'A01-11-01',\n",
              " '춘천': 'A01-10-01',\n",
              " '춘천시': 'A01-10-01',\n",
              " '충주': 'A01-11-02',\n",
              " '충주시': 'A01-11-02',\n",
              " '칠곡': 'A01-15-19',\n",
              " '칠곡군': 'A01-15-19',\n",
              " '태백': 'A01-10-05',\n",
              " '태백시': 'A01-10-05',\n",
              " '태안': 'A01-12-15',\n",
              " '태안군': 'A01-12-15',\n",
              " '통영': 'A01-16-03',\n",
              " '통영시': 'A01-16-03',\n",
              " '파주': 'A01-09-13',\n",
              " '파주시': 'A01-09-13',\n",
              " '평창': 'A01-10-11',\n",
              " '평창군': 'A01-10-11',\n",
              " '평택': 'A01-09-10',\n",
              " '평택시': 'A01-09-10',\n",
              " '포천': 'A01-09-23',\n",
              " '포천시': 'A01-09-23',\n",
              " '포항': 'A01-15-01',\n",
              " '포항시': 'A01-15-01',\n",
              " '하남': 'A01-09-25',\n",
              " '하남시': 'A01-09-25',\n",
              " '하동': 'A01-16-14',\n",
              " '하동군': 'A01-16-14',\n",
              " '함안': 'A01-16-10',\n",
              " '함안군': 'A01-16-10',\n",
              " '함양': 'A01-16-16',\n",
              " '함양군': 'A01-16-16',\n",
              " '함평': 'A01-14-17',\n",
              " '함평군': 'A01-14-17',\n",
              " '합천': 'A01-16-18',\n",
              " '합천군': 'A01-16-18',\n",
              " '해남': 'A01-14-14',\n",
              " '해남군': 'A01-14-14',\n",
              " '해운대': 'A01-02-09',\n",
              " '해운대구': 'A01-02-09',\n",
              " '홍성': 'A01-12-13',\n",
              " '홍성군': 'A01-12-13',\n",
              " '홍천': 'A01-10-08',\n",
              " '홍천군': 'A01-10-08',\n",
              " '화성': 'A01-09-09',\n",
              " '화성시': 'A01-09-09',\n",
              " '화순': 'A01-14-11',\n",
              " '화순군': 'A01-14-11',\n",
              " '화천': 'A01-10-14',\n",
              " '화천군': 'A01-10-14',\n",
              " '횡성': 'A01-10-09',\n",
              " '횡성군': 'A01-10-09'}"
            ]
          },
          "metadata": {},
          "execution_count": 30
        }
      ],
      "source": [
        "# 시군구\n",
        "region_zip2"
      ]
    },
    {
      "cell_type": "markdown",
      "metadata": {
        "id": "vhstXboPhghm"
      },
      "source": [
        "## df_sample 매칭시스템\n",
        "- 결측치가 없는 지번으로 매칭"
      ]
    },
    {
      "cell_type": "code",
      "execution_count": null,
      "metadata": {
        "colab": {
          "base_uri": "https://localhost:8080/"
        },
        "id": "1AJvKrSBwHcN",
        "outputId": "fb59ff9f-93b5-412c-b11f-1c5330aaa988"
      },
      "outputs": [
        {
          "output_type": "execute_result",
          "data": {
            "text/plain": [
              "Index(['섹터', '기업체명', '영문기업명', '사업자번호', '법인(주민)번호', '대표자명', '종업원수', '설립형태',\n",
              "       '설립일자', '기업형태', '기업규모', '전화번호', '팩스번호', '홈페이지', '이메일', '결산월', '기업공개일자',\n",
              "       '도로명', '지번', '업종(10차)', '업종(9차)', '주요제품(상품)', '무역업허가번호', '소속그룹',\n",
              "       '주채권기관', '당좌거래은행', '휴폐업정보', '법인등기정보'],\n",
              "      dtype='object')"
            ]
          },
          "metadata": {},
          "execution_count": 31
        }
      ],
      "source": [
        "df_sample.columns"
      ]
    },
    {
      "cell_type": "markdown",
      "metadata": {
        "id": "aAzGKdwIs-vg"
      },
      "source": [
        "### 지역매칭"
      ]
    },
    {
      "cell_type": "code",
      "source": [
        "policy_df['추출_시도1'].isnull().sum(), policy_df['추출_시군구1'].isnull().sum()"
      ],
      "metadata": {
        "colab": {
          "base_uri": "https://localhost:8080/"
        },
        "id": "lud59G_U7z0u",
        "outputId": "42e1a0c0-bd29-4dce-93a5-6551a8eebd2c"
      },
      "execution_count": null,
      "outputs": [
        {
          "output_type": "execute_result",
          "data": {
            "text/plain": [
              "(0, 0)"
            ]
          },
          "metadata": {},
          "execution_count": 32
        }
      ]
    },
    {
      "cell_type": "code",
      "execution_count": null,
      "metadata": {
        "id": "3tIbY1hyer0H"
      },
      "outputs": [],
      "source": [
        "# 정책데이터 결측치 제거하고 리스트로 만들기\n",
        "# policy_df['추출_시군구1'] = policy_df['추출_시군구1'].fillna('')\n",
        "\n",
        "# policy_df['추출_시도1'] = policy_df['추출_시도'].apply(lambda x : x.split(', '))\n",
        "# policy_df['추출_시군구1'] = policy_df['추출_시군구'].apply(lambda x:x.split(', '))"
      ]
    },
    {
      "cell_type": "code",
      "execution_count": null,
      "metadata": {
        "colab": {
          "base_uri": "https://localhost:8080/"
        },
        "id": "vr3_Prfan9xZ",
        "outputId": "7cae8cdf-fb9c-4dec-c659-de7ab8463035"
      },
      "outputs": [
        {
          "output_type": "stream",
          "name": "stdout",
          "text": [
            "['(07321)', '서울', '영등포구', '여의대로', '38', '(여의도동,금융감독원)']\n",
            "['(17396)', '경기', '이천시', '호법면', '덕평로', '236']\n",
            "['(04551)', '서울', '중구', '삼일대로', '340,', '9층', '(저동1가,나라키움저동빌딩)']\n",
            "['(06104)', '서울', '강남구', '언주로', '651,', '8층', '(논현동,삼원빌딩)']\n",
            "['(61949)', '광주', '서구', '상무시민로', '96,', '4층', '401호', '일부', '(치평동,종산타워)']\n",
            "['(44780)', '울산', '남구', '장생포고래로183번길', '15,', '2층', '(장생포동)']\n",
            "['(55068)', '전북', '전주시', '완산구', '콩쥐팥쥐로', '1696', '(효자동3가)']\n",
            "['(26456)', '강원', '원주시', '행구덕현길', '56', '(행구동)']\n",
            "['(26464)', '강원', '원주시', '세계로', '10', '(반곡동,한국관광공사)']\n",
            "['(05103)', '서울', '광진구', '자양로', '45', '(자양동)']\n",
            "['(06349)', '서울', '강남구', '밤고개로1길', '10,', '1123호', '(수서동,수서현대벤처빌)']\n",
            "['(62395)', '광주', '광산구', '고봉로', '261-4', '(장수동)']\n",
            "['(14297)', '경기', '광명시', '금오로', '823-21,', '17', '(옥길동)']\n",
            "['(21693)', '인천', '남동구', '아암대로', '1151', '(고잔동)']\n",
            "['(12638)', '경기', '여주시', '강변북로', '283,', '7호', '(현암동)']\n",
            "['-']\n",
            "['-']\n",
            "['-']\n",
            "['-']\n",
            "['(23011)', '인천', '강화군', '양사면', '인화로', '356', '(인화리)']\n",
            "['(26496)', '강원', '원주시', '귀래면', '방아실길', '51', '(귀래리)']\n",
            "['(25948)', '강원', '삼척시', '도계읍', '도상로', '512', '(상덕리,경동광업소)']\n",
            "['(50804)', '경남', '김해시', '상동면', '동북로437번길', '83-43', '(매리)']\n",
            "['(24554)', '강원', '양구군', '남면', '정중앙로', '621-1,', '2층', '(용하리)']\n",
            "['(18130)', '경기', '오산시', '오산천로', '128', '(오산동)']\n",
            "['(61480)', '광주', '동구', '충장로46번길', '3,', '5층', '(충장로4가,현대코아)']\n",
            "['(57248)', '전남', '장성군', '남면', '나노산단2로', '113', '(삼태리)']\n",
            "['(11905)', '경기', '구리시', '동구릉로389번길', '89-18', '(사노동)']\n",
            "['(03152)', '서울', '종로구', '종로1길', '42', '(수송동)']\n",
            "['(35229)', '대전', '서구', '대덕대로', '243', '(둔산동)']\n",
            "['(25934)', '강원', '삼척시', '근덕면', '덕산해변길', '48', '(덕산리)']\n",
            "['(28169)', '충북', '청주시', '흥덕구', '오송읍', '동평서평길', '79-41', '(동평리)']\n",
            "['(22342)', '인천', '중구', '서해대로', '17', '(항동7가)']\n",
            "['(06192)', '서울', '강남구', '테헤란로', '406,', 'A동', '2011호', '(대치동,샹제리제센터)']\n",
            "['(31933)', '충남', '서산시', '성연면', '일호리2길', '113', '(일람리)']\n",
            "['(27865)', '충북', '진천군', '문백면', '문진로', '586', '(태락리)']\n",
            "['(59014)', '전남', '해남군', '산이면', '관광레저로', '2003']\n",
            "['(58688)', '전남', '목포시', '통일대로', '63,', '바동', '(상동)']\n",
            "['(02055)', '서울', '중랑구', '신내역로3길', '40-36,', '지하2층', '에프비222호', '(신내동,신내데시앙', '플렉스)']\n",
            "['(42459)', '대구', '남구', '성당로', '182-1', '(대명동)']\n",
            "['-']\n",
            "['-']\n",
            "['(32201)', '충남', '홍성군', '갈산면', '수덕사로317번길', '137-42', '(가곡리)']\n",
            "['(61947)', '광주', '서구', '상무중앙로', '114,', '1045호', '(치평동,랜드피아오피스텔)']\n",
            "['(06162)', '서울', '강남구', '테헤란로', '401,', '601호', '(삼성동,남경빌딩)']\n",
            "['(38697)', '경북', '경산시', '남천면', '남성현로', '1009-38', '(하도리)']\n",
            "['(38697)', '경북', '경산시', '남천면', '남성현로', '1009-38', '(하도리)']\n",
            "['-']\n",
            "['-']\n",
            "['(18522)', '경기', '화성시', '정남면', '서봉로', '831', '(문학리)']\n",
            "['(03143)', '서울', '종로구', '율곡로2길', '7', '(수송동)']\n",
            "['(51326)', '경남', '창원시', '마산회원구', '3.15대로', '482', '(회원동)']\n",
            "['(40155)', '경북', '고령군', '우곡면', '우곡로', '670', '(월오리)']\n",
            "['(44918)', '울산', '울주군', '범서읍', '정지불길', '166', '(중리)']\n",
            "['(24211)', '강원', '춘천시', '동면', '금옥길', '228', '(월곡리)']\n",
            "['-']\n",
            "['-']\n",
            "['(51367)', '경남', '창원시', '의창구', '남산로9번길', '8', '(팔용동)']\n",
            "['(25034)', '강원', '양양군', '서면', '장승리', '산15번지']\n",
            "['(13550)', '경기', '성남시', '분당구', '대왕판교로', '352,', '3층', '(궁내동,도원빌딩)']\n",
            "['(22665)', '인천', '서구', '보듬로', '11', '(오류동)']\n",
            "['(31534)', '충남', '아산시', '신창면', '서부북로682번길', '15', '(신달리)']\n",
            "['(46047)', '부산', '기장군', '일광면', '기장대로', '1157', '(청광리)']\n",
            "['(11520)', '경기', '양주시', '장흥면', '호국로', '152', '(일영리)']\n",
            "['(37730)', '경북', '포항시', '남구', '운하로251번길', '37', '(송도동)']\n",
            "['(41843)', '대구', '서구', '평리로35길', '20', '(중리동)']\n",
            "['(11151)', '경기', '포천시', '군내면', '틀못이길', '235', '(하성북리)']\n",
            "['(11154)', '경기', '포천시', '군내면', '솔밭길', '3,', '106호', '(용정리)']\n",
            "['(07995)', '서울', '양천구', '목동서로', '225,', '10층', '1020호', '(목동,대한민국예술인센터)']\n",
            "['-']\n",
            "['-']\n",
            "['(06164)', '서울', '강남구', '영동대로', '517,', '37층', '3768호', '(삼성동,아셈타워)']\n",
            "['(12459)', '경기', '가평군', '설악면', '유명로', '2320', '(회곡리)']\n",
            "['(06131)', '서울', '강남구', '테헤란로25길', '15-3,', '4층', '401호', '(역삼동,대원빌딩)']\n",
            "['(46757)', '부산', '강서구', '녹산산단262로59번길', '27', '(송정동)']\n",
            "['(08536)', '서울', '금천구', '시흥대로152길', '25,', '상가', '104호', '(독산동,신도아파트)']\n",
            "['(06212)', '서울', '강남구', '테헤란로', '336,', '6층', '(역삼동,두올빌딩)']\n",
            "['(04001)', '서울', '마포구', '월드컵북로5가길', '8-6', '(서교동)']\n",
            "['(36907)', '경북', '문경시', '산북면', '종곡길', '158-258', '(종곡리,문경신소재)']\n",
            "['-']\n",
            "['-']\n",
            "['(04516)', '서울', '중구', '서소문로', '101', '(서소문동)']\n",
            "['(32532)', '충남', '공주시', '우성면', '공수원로', '281-3', '(방흥리)']\n",
            "['(52854)', '경남', '진주시', '사들로', '52,', '202호', '(충무공동,배재1빌딩)']\n",
            "['(05585)', '서울', '송파구', '백제고분로', '266,', '8층', '(삼전동)']\n",
            "['(52009)', '경남', '함안군', '칠서면', '삼칠로', '767', '(태곡리)']\n",
            "['(33486)', '충남', '보령시', '성주면', '만수로', '878-123', '(개화리)']\n",
            "['(33183)', '충남', '부여군', '장암면', '장암로', '113-41', '(원문리)']\n",
            "['(26021)', '강원', '태백시', '황지로', '78', '(황지동,한국광물자원공사)']\n",
            "['(50902)', '경남', '김해시', '해반천로130번길', '39,', '207호', '(삼계동,코아루센텀오피스텔)']\n",
            "['(26414)', '강원', '원주시', '평원로', '90-8', '(평원동)']\n",
            "['(07263)', '서울', '영등포구', '선유동1로', '22,', '10층', '(당산동2가,', '진덕빌딩)']\n",
            "['(06181)', '서울', '강남구', '테헤란로98길', '16,', '601호', '(대치동,제주장학회관)']\n",
            "['(26243)', '강원', '영월군', '중동면', '도화동길', '156', '(녹전리)']\n",
            "['(11100)', '경기', '포천시', '관인면', '창동로1230번길', '94', '(삼율리)']\n",
            "['(17118)', '경기', '용인시', '처인구', '남사면', '서촌로', '197,', '102호', '(통삼리)']\n",
            "['(25933)', '강원', '삼척시', '근덕면', '시목길', '225', '(교곡리)']\n",
            "['(22337)', '인천', '중구', '축항대로166번길', '18', '(항동7가)']\n",
            "['(06026)', '서울', '강남구', '도산대로', '237,', '1102호', '(신사동,현대벨로스오피스텔)']\n",
            "['(06710)', '서울', '서초구', '반포대로', '37', '(서초동)']\n",
            "['(06710)', '서울', '서초구', '반포대로', '37', '(서초동)']\n",
            "['(28102)', '충북', '청주시', '흥덕구', '옥산면', '국사오산로', '332', '(동림리)']\n",
            "['(27681)', '충북', '음성군', '금왕읍', '덕금로', '793-29', '(봉곡리)']\n",
            "['(07558)', '서울', '강서구', '공항대로', '607', '(염창동)']\n",
            "['(06142)', '서울', '강남구', '테헤란로33길', '18,', '6층', '(역삼동,서울빌딩)']\n",
            "['(16827)', '경기', '용인시', '수지구', '문인로', '30,', '4층', '현대그린푸드', '(동천동)']\n",
            "['(11773)', '경기', '의정부시', '부용로210번길', '20,', '1층', '(신곡동)']\n",
            "['(01333)', '서울', '도봉구', '도봉로', '710,', 'G동', '1층', '1호', '(방학동,호텔베이204)']\n",
            "['(48039)', '부산', '해운대구', '반여로41번길', '36', '(반여동)']\n",
            "['(26144)', '강원', '정선군', '남면', '칠현로', '504']\n",
            "['(32607)', '충남', '공주시', '이인면', '검바위로', '95-39', '(달산리)']\n",
            "['(22342)', '인천', '중구', '서해대로', '3', '(항동7가)']\n",
            "['(36347)', '경북', '울진군', '기성면', '기성로', '1104', '(사동리)']\n",
            "['(06235)', '서울', '강남구', '논현로87길', '41,', '11층', '1104호', '(역삼동,신일유토빌)']\n",
            "['(39847)', '경북', '칠곡군', '석적읍', '소학로', '92', '(망정리)']\n",
            "['(12769)', '경기', '광주시', '직동로', '19-12(직동)']\n",
            "['(49455)', '부산', '사하구', '감천항로405번길', '115', '(구평동)']\n",
            "['(63631)', '제주', '서귀포시', '성산읍', '중산간동로', '3512', '(수산리)']\n",
            "['(06052)', '서울', '강남구', '학동로31길', '12,', 'A동', '7층', '731호', '(논현동,벤처캐슬빌딩)']\n",
            "['(59626)', '전남', '여수시', '대학로', '50,', '산학연구관', '517호', '(둔덕동,전남대학교여수캠퍼스)']\n",
            "['(18545)', '경기', '화성시', '송산면', '송산포도로', '601-5', '(마산리)']\n",
            "['(32701)', '충남', '금산군', '복수면', '적선길', '98-24', '(구례리,(주)신덕개발)']\n",
            "['(31776)', '충남', '당진시', '교동1길', '7-20,', '2층', '(읍내동)']\n",
            "['(38406)', '경북', '경산시', '하양읍', '대곡로', '245', '(대곡리)']\n",
            "['(25744)', '강원', '동해시', '효자로', '246', '(삼화동)']\n",
            "['(37304)', '경북', '의성군', '다인면', '가원농공길', '92', '(가원리)']\n",
            "['(26248)', '강원', '영월군', '상동읍', '중석길', '79-50', '(구래리)']\n",
            "['(06100)', '서울', '강남구', '봉은사로51길', '41', '(논현동)']\n",
            "['(07327)', '서울', '영등포구', '국제금융로2길', '37,', '2003호', '(여의도동,에스트레뉴)']\n",
            "['(03184)', '서울', '종로구', '새문안로', '68,', '9층', '(신문로1가,흥국생명빌딩)']\n",
            "['(28176)', '충북', '청주시', '흥덕구', '강내면', '저산태성로', '227-43', '(산단리)']\n",
            "['(03188)', '서울', '종로구', '종로', '26', '(서린동)']\n",
            "['(11022)', '경기', '연천군', '청산면', '순욱길', '126', '(대전리)']\n",
            "['(50561)', '경남', '양산시', '상북면', '석계산단2길', '114', '(석계리)']\n",
            "['(48083)', '부산', '해운대구', '좌동순환로', '76', '(좌동)']\n",
            "['(06173)', '서울', '강남구', '테헤란로103길', '14,', '3층', '엘에스.04', '(삼성동)']\n",
            "['(06177)', '서울', '강남구', '영동대로', '324,', '707호', '(대치동,타워크리스탈)']\n",
            "['(48244)', '부산', '수영구', '연수로392번길', '45', '(광안동,광안리치빌)']\n",
            "['(53013)', '경남', '통영시', '광도면', '죽림4로', '23-96,', '3층', '322호', '(죽림리,다임리더스빌)']\n",
            "['(59603)', '전남', '여수시', '율촌면', '중산길', '67-289', '(가장리)']\n",
            "['(63344)', '제주', '제주시', '조천읍', '대와상길', '49-6']\n",
            "['(46038)', '부산', '기장군', '장안읍', '해맞이로', '173', '(임랑리)']\n",
            "['(59603)', '전남', '여수시', '율촌면', '중산길', '67-289', '(가장리)']\n",
            "['(06649)', '서울', '서초구', '반포대로20길', '29,', '5층', '(서초동,예당빌딩)']\n",
            "['(36422)', '경북', '영덕군', '축산면', '고경길', '120', '(경정리)']\n",
            "['(06751)', '서울', '서초구', '바우뫼로', '91,', '203호', '(양재동,성보프라자)']\n",
            "['(63037)', '제주', '제주시', '애월읍', '광상로', '633-51', '(소길리)']\n",
            "['(31428)', '충남', '아산시', '영인면', '월선서길', '111', '(월선리)']\n",
            "['(17088)', '경기', '용인시', '기흥구', '지삼로', '89', '(지곡동)']\n",
            "['(02580)', '서울', '동대문구', '한빛로', '12,', '1층', '(신설동,우성빌딩)']\n",
            "['(36811)', '경북', '예천군', '감천면', '충효로', '934', '(덕율리)']\n",
            "['(11041)', '경기', '연천군', '전곡읍', '양연로548번길', '262,', '2층', '(간파리)']\n",
            "['(49444)', '부산', '사하구', '을숙도대로', '617']\n",
            "['(22755)', '인천', '서구', '장도로', '63-2', '(경서동,장강산업개발(주))']\n",
            "['(12919)', '경기', '하남시', '조정대로', '71,', '1634호', '(풍산동,인스타시티)']\n",
            "['(06142)', '서울', '강남구', '테헤란로', '237,', '9층', '(역삼동,삼부빌딩)']\n",
            "['(07327)', '서울', '영등포구', '국제금융로', '24', '(여의도동)']\n",
            "['-']\n",
            "['-']\n",
            "['(07071)', '서울', '동작구', '보라매로5길', '51,', '5층', '(신대방동,롯데관악타워)']\n",
            "['(28625)', '충북', '청주시', '서원구', '산남로62번길', '35,', '7층', '708호', '(산남동,신성미소시티블루2)']\n",
            "['(12665)', '경기', '여주시', '점동면', '안평로', '94', '(장안리)']\n",
            "['(16897)', '경기', '용인시', '기흥구', '죽전로', '17,', '8층', '(보정동,풍산프라자)']\n",
            "['(57208)', '전남', '장성군', '북하면', '단풍로', '1048-90', '(대악리)']\n",
            "['(04598)', '서울', '중구', '다산로11길', '19,', '5층', '(신당동,백석빌딩)']\n",
            "['(32998)', '충남', '논산시', '은진면', '대학로', '132,', '1층', '(와야리)']\n",
            "['(51602)', '경남', '창원시', '진해구', '신항남로', '2']\n",
            "['(13446)', '경기', '성남시', '수정구', '동판교로', '314,', '3층', '(사송동)']\n",
            "['(53331)', '경남', '거제시', '동부면', '율포로', '408-31', '(부춘리)']\n",
            "['(06698)', '서울', '서초구', '효령로', '22,', '5층', '506호', '(방배동,맴버스뷰)']\n",
            "['(38609)', '경북', '경산시', '삼성현로', '614-26', '(평산동)']\n",
            "['(25538)', '강원', '강릉시', '경강로', '2044,', '2층', '(명주동)']\n",
            "['(25210)', '강원', '횡성군', '횡성읍', '경강로학곡2길', '132', '(학곡리,청우산업)']\n",
            "['(06164)', '서울', '강남구', '테헤란로87길', '36', '(삼성동,도심공항타워)']\n",
            "['(18541)', '경기', '화성시', '마도면', '신남로', '16-40', '(쌍송리)']\n",
            "['(31208)', '충남', '천안시', '동남구', '통정9로', '27,', '201호', '(신방동,방산빌딩)']\n",
            "['(41062)', '대구', '동구', '첨단로', '120', '(신서동)']\n",
            "['(32420)', '충남', '예산군', '신암면', '용산로', '82-17', '(조곡리)']\n",
            "['(04334)', '서울', '용산구', '한강대로', '350,', '7층', '(갈월동,갑을빌딩)']\n",
            "['(11184)', '경기', '포천시', '소흘읍', '호국로287번길', '17-19,', '7동', '108호', '(이동교리,포천공구유통단지)']\n",
            "['(26029)', '강원', '태백시', '강원남부로', '484', '(통동)']\n",
            "['(25384)', '강원', '평창군', '미탄면', '수청길', '227', '(수청리)']\n",
            "['(22756)', '인천', '서구', '장도로', '63-2', '(경서동)']\n",
            "['(44918)', '울산', '울주군', '범서읍', '정지불길', '119', '(중리)']\n",
            "['(22348)', '인천', '중구', '연안부두로33번길', '16,', '2층', '209호', '(항동7가,라이프비취상가)']\n",
            "['(07021)', '서울', '동작구', '남부순환로255나길', '4', '(사당동)']\n",
            "['(10036)', '경기', '김포시', '통진읍', '김포대로', '1979', '(도사리)']\n",
            "['(31789)', '충남', '당진시', '원구룡길', '56', '(구룡동)']\n",
            "['(06178)', '서울', '강남구', '테헤란로84길', '14,', '10층', '1025호', '(대치동,지어로빌딩)']\n",
            "['(06050)', '서울', '강남구', '언주로', '711', '(논현동)']\n",
            "['(06151)', '서울', '강남구', '테헤란로43길', '8,', '11층', '(역삼동)']\n",
            "['(44538)', '울산', '중구', '종가로', '305', '(우정동,한국석유공사)']\n",
            "['(22769)', '인천', '서구', '건지로', '45-42', '(석남동)']\n",
            "['(26141)', '강원', '정선군', '신동읍', '조동1길', '154', '(조동리)']\n",
            "['(26460)', '강원', '원주시', '배울로', '85', '(반곡동,대한석탄공사)']\n",
            "['(04531)', '서울', '중구', '세종대로18길', '32', '(소공동,삼원빌딩)']\n",
            "['(22007)', '인천', '연수구', '인천타워대로', '323,', 'B동', '202호', '(송도동,송도', '센트로드)']\n",
            "['(44779)', '울산', '남구', '장생포로', '389', '(매암동)']\n",
            "['(15477)', '경기', '안산시', '단원구', '광덕대로', '138,', '408호', '(고잔동)']\n",
            "['(36371)', '경북', '울진군', '후포면', '쇠골2길', '93', '(금음리,KMC㈜금음선별장)']\n",
            "['(28102)', '충북', '청주시', '흥덕구', '옥산면', '국사오산로', '384', '(금계리)']\n",
            "['(15288)', '경기', '안산시', '상록구', '예술광장로', '35,', '201호', '(월피동,에스엘타운)']\n",
            "['(15288)', '경기', '안산시', '상록구', '예술광장로', '35,', '201호', '(월피동,에스엘타운)']\n",
            "['(17384)', '경기', '이천시', '마장면', '서이천로337번길', '55', '(표교리)']\n",
            "['(06240)', '서울', '강남구', '테헤란로4길', '39', '(역삼동,강남대성빌딩)']\n",
            "['(06181)', '서울', '강남구', '영동대로85길', '20-9,', '1층,2층,3층,4층,5층1호,6층,7층2호,8층,9층', '(대치동,강안교육빌딩)']\n",
            "['(16227)', '경기', '수원시', '영통구', '광교산로', '154-42', '(이의동,경기대학교)']\n",
            "['(57215)', '전남', '장성군', '장성읍', '단풍로', '105,', '102호', '(유탕리)']\n",
            "['(03157)', '서울', '종로구', '종로5길', '7,', '1601호', '(청진동,TOWER8빌딩)']\n",
            "['(03157)', '서울', '종로구', '종로5길', '7,', '1601호', '(청진동,TOWER8빌딩)']\n",
            "['(06739)', '서울', '서초구', '남부순환로364길', '8-9,', '6층', '(양재동,우리빌딩)']\n",
            "['(41584)', '대구', '북구', '침산남로', '154,', '801호', '(침산동,메이저타워)']\n",
            "['(12197)', '경기', '남양주시', '화도읍', '수레로', '1131,', '3층', '(차산리)']\n",
            "['(07558)', '서울', '강서구', '공항대로', '607', '(염창동,서울도시가스사옥)']\n",
            "['(02582)', '서울', '동대문구', '왕산로', '14,', '7층', '(신설동,글로리아타워)']\n",
            "['(02582)', '서울', '동대문구', '왕산로', '14,', '신설동', '98-30', '글로리아타워]', '제11층', '제1101호', '(신설동)']\n",
            "['(06209)', '서울', '강남구', '도곡로', '457,', '5층', '(대치동,진흥빌딩)']\n",
            "['(03188)', '서울', '종로구', '종로', '34,', '3층', '(서린동,알파빌딩)']\n",
            "['(03994)', '서울', '마포구', '양화로19길', '22-8,', '4층', '403호', '(동교동,류석빌딩)']\n",
            "['(13561)', '경기', '성남시', '분당구', '불정로', '6', '(정자동,그린팩토리)']\n",
            "['(08507)', '서울', '금천구', '가산디지털1로', '128,', '10층', '1006호', '(가산동,에스티엑스브이타워)']\n",
            "['(06103)', '서울', '강남구', '봉은사로', '317,', '4층', '(논현동,삼우빌딩)']\n",
            "['(06083)', '서울', '강남구', '영동대로', '602,', '6층', '에프72', '(삼성동,미켈란107)']\n",
            "['(13597)', '경기', '성남시', '분당구', '내정로', '167,', '402,403,404호', '(수내동,양지프라임)']\n",
            "['(08708)', '서울', '관악구', '보라매로3길', '23', '(봉천동)']\n",
            "['(08708)', '서울', '관악구', '보라매로3길', '23', '(봉천동,대교타워)']\n",
            "['(08708)', '서울', '관악구', '보라매로3길', '23,', '3층', '(봉천동,대교타워)']\n",
            "['(07071)', '서울', '동작구', '보라매로5길', '51', '(신대방동,롯데관악타워)']\n",
            "['(06634)', '서울', '서초구', '서초대로52길', '28', '(서초동)']\n",
            "['(12025)', '경기', '남양주시', '수동면', '외방로135번길', '12-30', '(외방리)']\n",
            "['(06634)', '서울', '서초구', '서초중앙로', '118,', '8층', '(서초동,카이스시스템빌딩)']\n",
            "['(06928)', '서울', '동작구', '노량진로', '120', '(노량진동)']\n",
            "['-']\n",
            "['-']\n",
            "['(03369)', '서울', '은평구', '진흥로16길', '16-1,', '301호', '(녹번동,늘푸른주택)']\n",
            "['(05606)', '서울', '송파구', '삼전로', '84,', '2층', '(삼전동,신이빌딩)']\n",
            "['(06142)', '서울', '강남구', '테헤란로', '231,', '6층', '7층', '(역삼동,센터필드', '웨스트)']\n",
            "['(07301)', '서울', '영등포구', '영신로34길', '10,', '5층', '(영등포동4가,영남빌딩)']\n",
            "['(05300)', '서울', '강동구', '명일로26길', '25']\n",
            "['(06129)', '서울', '강남구', '테헤란로5길', '31,', '1층', '(역삼동,금성빌딩)']\n",
            "['(12740)', '경기', '광주시', '초월읍', '설월길', '8', '(지월리)']\n",
            "['(07304)', '서울', '영등포구', '영중로', '12,', '6층', '(영등포동3가,에쉐르쇼핑몰)']\n",
            "['(06280)', '서울', '강남구', '남부순환로', '2917,', '402호', '(대치동,청실상가)']\n",
            "['(06572)', '서울', '서초구', '방배로', '181,', '6층', ',7층,8층', '(방배동,단우빌딩)']\n",
            "['(04059)', '서울', '마포구', '와우산로', '138', '(창전동)']\n",
            "['(10380)', '경기', '고양시', '일산서구', '중앙로', '1547,', '5층', '503호', '(대화동,킨텍스존)']\n",
            "['(06162)', '서울', '강남구', '테헤란로', '407,', '5층', '(삼성동,이케이타워)']\n",
            "['(04400)', '서울', '용산구', '이태원로54길', '74,', '3층', '(한남동)']\n",
            "['(06626)', '서울', '서초구', '서초대로78길', '52,', '5층', '(서초동,강남역인앤인)']\n",
            "['(08381)', '서울', '구로구', '디지털로', '285,', '403호', '(구로동,에이스트윈타워1차)']\n",
            "['(06196)', '서울', '강남구', '역삼로', '447', '(대치동,리틀팍스)']\n",
            "['(01019)', '서울', '강북구', '삼각산로', '36', '(수유동)']\n",
            "['(06236)', '서울', '강남구', '테헤란로20길', '9,', '3층,', '13층', '(역삼동,동궁빌딩)']\n",
            "['(06233)', '서울', '강남구', '테헤란로', '116,', 'K동', '10층', '1090호', '(역삼동,동경빌딩)']\n",
            "['(06152)', '서울', '강남구', '언주로', '508,', '14층', '(역삼동)']\n",
            "['(06732)', '서울', '서초구', '서운로', '19,', '2층', '(서초동,서초월드)']\n",
            "['(06643)', '서울', '서초구', '효령로', '321', '(서초동,덕원빌딩)']\n",
            "['(04715)', '서울', '성동구', '왕십리로', '303', '(행당동,서울성동우체국)']\n",
            "['(03472)', '서울', '은평구', '은평로', '216', '(응암동)']\n",
            "['(06278)', '서울', '강남구', '도곡로', '408,', '2층', '207호,', '208호,', '209호,', '210호,', '211호', '(대치동,디마크타워)']\n",
            "['(01062)', '서울', '강북구', '도봉로', '328,', '1724호', '(번동,가든타워빌딩)']\n",
            "['(06132)', '서울', '강남구', '테헤란로25길', '20,', '707호', '(역삼동,역삼벤처텔)']\n",
            "['(08003)', '서울', '양천구', '오목로', '282', '(목동)']\n",
            "['(42179)', '대구', '수성구', '청수로', '270,', '4층', '(황금동)']\n",
            "['(16914)', '경기', '용인시', '기흥구', '구성로', '357,', 'B동', '201호', '~비211호,비213호', '(청덕동,용인테크노밸리)']\n",
            "['(06532)', '서울', '서초구', '신반포로', '311,', '2층', '201호', '(잠원동,신영빌딩)']\n",
            "['(04410)', '서울', '용산구', '한남대로11길', '12,', '6층', '(한남동,고뫄스빌딩)']\n",
            "['(12541)', '경기', '양평군', '지평면', '월산저수지길', '21', '(월산리)']\n",
            "['(24606)', '강원', '인제군', '북면', '십이선녀탕길', '165', '(용대리,미리내캠프)']\n",
            "['(06236)', '서울', '강남구', '테헤란로26길', '14,', '4층', '(역삼동,대세빌딩)']\n",
            "['(10831)', '경기', '파주시', '광탄면', '부흥로', '242', '(창만리)']\n",
            "['(04419)', '서울', '용산구', '독서당로', '121', '(한남동,TETRAPAK)']\n",
            "['(06749)', '서울', '서초구', '강남대로', '213', '(양재동)']\n",
            "['(06913)', '서울', '동작구', '노량진로', '166', '(노량진동)']\n",
            "['(47281)', '부산', '부산진구', '가야대로', '734', '(부전동,Busan', 'Global', 'Village)']\n",
            "['(51622)', '경남', '창원시', '진해구', '어은로', '32', '(죽곡동)']\n",
            "['(04790)', '서울', '성동구', '성수일로', '89,', '605호', '(성수동1가,메타모르포빌딩)']\n",
            "['(04790)', '서울', '성동구', '성수일로', '89,', '605호', '(성수동1가,메타모르포빌딩)']\n",
            "['(08377)', '서울', '구로구', '디지털로33길', '48,', '14층', '(구로동,대륭포스트7차)']\n",
            "['(06719)', '서울', '서초구', '반포대로4길', '58,', '외', '1필지', '(서초동)']\n",
            "['(10454)', '경기', '고양시', '덕양구', '대주로', '439', '(주교동)']\n",
            "['(06626)', '서울', '서초구', '서초대로74길', '45', '(서초동)']\n",
            "['(47744)', '부산', '동래구', '시실로', '60', '(명륜동)']\n",
            "['(47319)', '부산', '부산진구', '가야대로', '406(개금동)']\n",
            "['(08826)', '서울', '관악구', '관악로', '1', '(신림동,서울대학교)']\n",
            "['(04378)', '서울', '용산구', '한강대로', '69', '(한강로2가,용산푸르지오써밋)']\n",
            "['(04378)', '서울', '용산구', '한강대로', '69', '(한강로2가,용산푸르지오써밋)']\n",
            "['(06191)', '서울', '강남구', '삼성로', '306,', '4층', '(대치동,아이비타워)']\n",
            "['(05372)', '서울', '강동구', '양재대로', '1378', '(둔촌동)']\n",
            "['(06541)', '서울', '서초구', '사평대로', '371,', '6층', '(반포동,현철빌딩)']\n",
            "['(05627)', '서울', '송파구', '위례성대로', '34', '(방이동)']\n",
            "['(06292)', '서울', '강남구', '언주로30길', '39,', '15층', '(도곡동,에스이아이타워)']\n",
            "['(02801)', '서울', '성북구', '정릉로48길', '13', '(돈암동)']\n",
            "['(42052)', '대구', '수성구', '충의로', '20', '(만촌동)']\n",
            "['(03625)', '서울', '서대문구', '세무서길', '108,', '2층', '희중약국', '(홍제동)']\n",
            "['(06193)', '서울', '강남구', '테헤란로70길', '14-8,', '814호', '(대치동,세왕개발빌딩)']\n",
            "['(22338)', '인천', '중구', '축항대로', '220,', '402호', '(항동7가)']\n",
            "['(31982)', '충남', '서산시', '서령로', '20', '(동문동)']\n",
            "['(16520)', '경기', '수원시', '영통구', '중부대로', '452', '(원천동,수원현대자동차운전전문학원)']\n",
            "['(03186)', '서울', '종로구', '세종대로', '149,', '17층', '(세종로,광화문빌딩)']\n",
            "['(03190)', '서울', '종로구', '삼일대로17길', '16', '(관철동)']\n",
            "['(03191)', '서울', '종로구', '종로', '98', '(종로2가)']\n",
            "['(06626)', '서울', '서초구', '서초대로78길', '42,', '현대기림', '오피스텔', '(서초동)']\n",
            "['(06153)', '서울', '강남구', '봉은사로', '442,', '10층', '일부', '(삼성동,75에비뉴빌딩)']\n",
            "['-']\n",
            "['-']\n",
            "['(06593)', '서울', '서초구', '서초중앙로33길', '6-6', '(반포동)']\n",
            "['(08093)', '서울', '양천구', '목동서로', '389,', '8층', '(신정동,테마프라자)']\n",
            "['(07505)', '서울', '강서구', '하늘길', '210', '(공항동,화물터미널', '게이트8)']\n",
            "['(51659)', '경남', '창원시', '진해구', '동진로21번길', '18', '(이동)']\n",
            "['(06164)', '서울', '강남구', '테헤란로', '521,', '21층', '(삼성동,파르나스타워)']\n",
            "['(06227)', '서울', '강남구', '역삼로', '218,', '6층', '(역삼동,재승빌딩)']\n",
            "['(07270)', '서울', '영등포구', '양산로', '43,', '210호', '(양평동3가,우림e-BIZ센터)']\n",
            "['(13638)', '경기', '성남시', '분당구', '구미로', '8,', '2층', '(구미동,분당엠타워)']\n",
            "['(06132)', '서울', '강남구', '논현로', '509,', '917호', '(역삼동,송암2빌딩)']\n",
            "['(06126)', '서울', '강남구', '논현로', '553,', '6층', '(역삼동,역삼삼정빌딩)']\n",
            "['(57932)', '전남', '순천시', '왕지로', '6,', '3층']\n",
            "['(06611)', '서울', '서초구', '서초대로77길', '61,', '11층,', '12층', '(서초동)']\n",
            "['(13600)', '경기', '성남시', '분당구', '돌마로', '364,', '2층', '42호,43호,44호', '(수내동,현대제일상가)']\n",
            "['(06729)', '서울', '서초구', '강남대로', '279', '(서초동,백향빌딩)']\n",
            "['(06729)', '서울', '서초구', '강남대로', '279', '(서초동,백향빌딩)']\n",
            "['(03163)', '서울', '종로구', '인사동길', '12,', '9층', '(인사동,대일빌딩)']\n",
            "['(06604)', '서울', '서초구', '서초대로51길', '14,', '지하1층', '(서초동,JH엘로펌애비뉴빌딩)']\n",
            "['(04614)', '서울', '중구', '장충단로8길', '11-18,', '지층', '(장충동1가)']\n",
            "['(04614)', '서울', '중구', '장충단로8길', '11-16', '(장충동1가)']\n",
            "['(06621)', '서울', '서초구', '서초대로78길', '36,', '9층', '(서초동,강남지웰타워)']\n",
            "['(16554)', '경기', '수원시', '권선구', '동수원로', '218-39,', '지하1층', '(권선동,권선종합프라자)']\n",
            "['(06301)', '서울', '강남구', '논현로28길', '27,', '3층', '(도곡동,신우빌딩)']\n",
            "['(14083)', '경기', '안양시', '동안구', '엘에스로144번길', '132', '(호계동)']\n",
            "['(07207)', '서울', '영등포구', '양평로21길', '26,', '2401호', '2402호2403호2404호', '(양평동5가,아이에스비즈타워)']\n",
            "['(13486)', '경기', '성남시', '분당구', '판교로', '253,', '비동', '701-2,', '3호', '(삼평동,판교이노밸리)']\n",
            "['(06242)', '서울', '강남구', '강남대로78길', '12,', '4층', '(역삼동)']\n",
            "['(06173)', '서울', '강남구', '영동대로96길', '26,', '3층,', '4층', '(삼성동)']\n",
            "['(12579)', '경기', '양평군', '양서면', '교골길', '59-2', '(부용리,중앙기숙학원)']\n",
            "['(03923)', '서울', '마포구', '월드컵북로56길', '9,', '6층', '(상암동,우리기술빌딩)']\n",
            "['(10111)', '경기', '김포시', '사우중로74번길', '29,', '702-2호', '(사우동,시그마프라자)']\n",
            "['(18139)', '경기', '오산시', '대원로', '57,', '4층', '401호', '(원동,중앙씨티월3)']\n",
            "['(06207)', '서울', '강남구', '도곡로', '413', '(대치동,삼환쏘굿아파트)']\n",
            "['(08378)', '서울', '구로구', '디지털로34길', '55,', '코오롱싸이언스밸리2차', '310호(구로동)']\n",
            "['(06259)', '서울', '강남구', '도곡로6길', '10,', '4층', '(도곡동)']\n",
            "['(15277)', '경기', '안산시', '상록구', '시낭북로2길', '11', '(부곡동)']\n",
            "['(06233)', '서울', '강남구', '강남대로84길', '23,', '1205호,', '1206호', '(역삼동,한라클래식)']\n",
            "['(44629)', '울산', '남구', '북부순환도로', '45', '(무거동)']\n",
            "['(06028)', '서울', '강남구', '압구정로', '106', '(신사동)']\n",
            "['(06131)', '서울', '강남구', '테헤란로19길', '38,', '지하층,', '1층,', '2층', '(역삼동)']\n",
            "['(07238)', '서울', '영등포구', '국회대로74길', '12,', '7층,', '8층,', '9층,', '10층', '(여의도동,남중빌딩)']\n",
            "['(05854)', '서울', '송파구', '법원로', '114,', 'A동', '910호', '(문정동,엠스테이트)']\n",
            "['(06182)', '서울', '강남구', '영동대로', '417,', '3층', '(대치동,오토웨이타워)']\n",
            "['(06596)', '서울', '서초구', '서초중앙로', '149-5', '(서초동,에이앤씨빌딩)']\n",
            "['(05854)', '서울', '송파구', '송파대로', '201,', '송파테라타워2', 'A동', 'A-214호', '(문정동)']\n",
            "['(06239)', '서울', '강남구', '논현로79길', '72,', '1층', '(역삼동,올림피아센터)']\n",
            "['(08814)', '서울', '관악구', '신림로', '97', '(신림동)']\n",
            "['(03383)', '서울', '은평구', '은평로21길', '17,', '103호', '(녹번동)']\n",
            "['(12603)', '경기', '여주시', '산북면', '금품1로', '124-1', '(후리)']\n",
            "['(06276)', '서울', '강남구', '선릉로', '225,', '도곡렉슬상가', '(도곡동)']\n",
            "['(47161)', '부산', '부산진구', '백양관문로', '60', '(당감동)']\n",
            "['(08594)', '서울', '금천구', '가산디지털1로', '19,', '607호', '(가산동,대륭테크노타운18차)']\n",
            "['(06640)', '서울', '서초구', '사임당로', '64,', '3층', '(서초동,교대벤처타워)']\n",
            "['(08506)', '서울', '금천구', '가산디지털1로', '137,', '8층', '(가산동,아이티캐슬2차)']\n",
            "['(03191)', '서울', '종로구', '종로', '104', '(종로2가)']\n",
            "['(03191)', '서울', '종로구', '종로', '104', '(종로2가)']\n",
            "['(03191)', '서울', '종로구', '종로', '104', '(종로2가)']\n",
            "['(41937)', '대구', '중구', '국채보상로', '582,', '3층', '(남일동,미도빌딩)']\n",
            "['(16704)', '경기', '수원시', '영통구', '반달로7번길', '40', '(영통동)']\n",
            "['(16634)', '경기', '수원시', '권선구', '매송고색로506번길', '18', '(오목천동)']\n",
            "['(06153)', '서울', '강남구', '선릉로', '574,', '301호', '(삼성동,자진빌딩)']\n",
            "['(03149)', '서울', '종로구', '인사동9길', '27', '(견지동)']\n",
            "['(10881)', '경기', '파주시', '회동길', '20', '(문발동)']\n",
            "['(03159)', '서울', '종로구', '종로', '33,', '6층', '(청진동,그랑서울타워1)']\n",
            "['(06744)', '서울', '서초구', '바우뫼로37길', '30', '(양재동,위메스빌딩)']\n",
            "['(07255)', '서울', '영등포구', '선유로', '146,', '220호', '(양평동3가,이앤씨드림타워)']\n",
            "['(50846)', '경남', '김해시', '한림면', '한림로638번길', '16-36', '(시산리)']\n",
            "['(06611)', '서울', '서초구', '서초대로77길', '55,', '11층', '(서초동,에이프로스퀘어)']\n",
            "['(08587)', '서울', '금천구', '범안로', '1155', '(독산동)']\n",
            "['(06640)', '서울', '서초구', '서초중앙로', '52,', '1층', '(서초동,영진닷컴빌딩)']\n",
            "['(17906)', '경기', '평택시', '조개터로37번길', '3,', '1층', '(합정동)']\n",
            "['(07238)', '서울', '영등포구', '국회대로70길', '15-1,', 'R동', '562호', '(여의도동,극동브이아이피빌딩)']\n",
            "['(12428)', '경기', '가평군', '가평읍', '북한강변로', '360-71', '(금대리)']\n",
            "['(05652)', '서울', '송파구', '양재대로', '1160,', '1,2층', '(오금동,용진빌딩)']\n",
            "['(06100)', '서울', '강남구', '선릉로119길', '15', '(논현동)']\n",
            "['(06134)', '서울', '강남구', '강남대로94길', '30', '(역삼동)']\n",
            "['(06768)', '서울', '서초구', '양재대로2길', '22-16', '(우면동,호반파크1관)']\n",
            "['(13589)', '경기', '성남시', '분당구', '돌마로', '481,', '309호,316-2호', '(서현동,분당우성프라자)']\n",
            "['(06624)', '서울', '서초구', '사임당로', '143,', '5층', '501호-505호,', '511호-513호', '(서초동,크로스143타워)']\n",
            "['(16334)', '경기', '수원시', '장안구', '대평로', '80,', '10층', '(정자동,정연프라자)']\n",
            "['(06283)', '서울', '강남구', '영동대로', '229', '(대치동)']\n",
            "['(44221)', '울산', '북구', '산업로', '1450', '(신천동)']\n",
            "['(06902)', '서울', '동작구', '노량진로23가길', '23,', '상가동', '201,202호', '(본동,래미안트윈파크)']\n",
            "['(06197)', '서울', '강남구', '선릉로86길', '38', '(대치동)']\n",
            "['(07299)', '서울', '영등포구', '경인로', '775,', '1동', '9층', '908호,909호', '(문래동3가,에이스하이테크시티)']\n",
            "['(63644)', '제주', '서귀포시', '대정읍', '글로벌에듀로145번길', '33', '(구억리,노스런던컬리지에잇스쿨)']\n",
            "['(01394)', '서울', '도봉구', '도봉로133길', '41,', '3,4층', '(쌍문동)']\n",
            "['(01394)', '서울', '도봉구', '도봉로133길', '41', '(쌍문동)']\n",
            "['(03174)', '서울', '종로구', '새문안로3길', '23,', '10층', '(내수동,교보문고빌딩)']\n",
            "['(06074)', '서울', '강남구', '삼성로', '710', '(청담동)']\n",
            "['(24257)', '강원', '춘천시', '춘천로', '249', '(효자동)']\n",
            "['(08782)', '서울', '관악구', '남부순환로', '1694,', '4층', '410호', '(봉천동,종남빌딩)']\n",
            "['(61052)', '광주', '북구', '설죽로336번길', '7', '(오치동)']\n",
            "['(34372)', '대전', '대덕구', '대전로', '1263', '(대화동)']\n",
            "['(05616)', '서울', '송파구', '송파대로', '437', '(석촌동)']\n",
            "['(06620)', '서울', '서초구', '서초대로78길', '5,', '5층', '(서초동,대각빌딩)']\n",
            "['(05051)', '서울', '광진구', '자양로', '88', '(자양동)']\n",
            "['(10375)', '경기', '고양시', '일산서구', '일산로', '563', '(일산동)']\n",
            "['(16837)', '경기', '용인시', '수지구', '풍덕천로129번길', '16-1,', '제103호,제104호,2-9층', '(풍덕천동,현성빌딩)']\n",
            "['(51401)', '경남', '창원시', '의창구', '차상로150번길', '78', '(팔용동)']\n",
            "['(06616)', '서울', '서초구', '강남대로61길', '23,', '203호', '(서초동)']\n",
            "['(06164)', '서울', '강남구', '테헤란로', '521,', '21층', '(삼성동,파르나스타워)']\n",
            "['(07714)', '서울', '강서구', '강서로', '183', '(화곡동,대사빌딩)']\n",
            "['(05627)', '서울', '송파구', '위례성대로', '34,', '4층', '(방이동,지산빌딩)']\n",
            "['(41080)', '대구', '동구', '안심로65길', '34', '(각산동)']\n",
            "['(06634)', '서울', '서초구', '서초중앙로', '118', '(서초동)']\n",
            "['(04399)', '서울', '용산구', '이태원로', '268-20', '(한남동)']\n",
            "['(06120)', '서울', '강남구', '강남대로', '488,', '9층(논현동,대남빌딩)']\n",
            "['(06770)', '서울', '서초구', '매헌로8길', '39', '(양재동)']\n",
            "['(03138)', '서울', '종로구', '돈화문로', '26,', '4층', '(묘동,단성골드빌딩)']\n",
            "['(04517)', '서울', '중구', '통일로', '92,', '12층', '(순화동,케이지타워)']\n",
            "['(07218)', '서울', '영등포구', '선유동2로', '29,', 'B동', '3호', '(양평동3가,', '현대2차아파트)']\n",
            "['(06258)', '서울', '강남구', '강남대로', '286,', ',', '3,4층', '(도곡동)']\n",
            "['(02855)', '서울', '성북구', '고려대로22길', '35,', '코원', '(안암동5가)']\n",
            "['(62223)', '광주', '광산구', '장덕로', '48,', '201호,301호', '(장덕동)']\n",
            "['(06153)', '서울', '강남구', '봉은사로', '442,', '3층~12층', '(삼성동)']\n",
            "['(47511)', '부산', '연제구', '법원로', '38', '(거제동,로펌빌딩)']\n",
            "['(04799)', '서울', '성동구', '광나루로', '310', '(성수동2가)']\n",
            "['(13591)', '경기', '성남시', '분당구', '황새울로312번길', '20,', '402호', '(서현동,분당태성빌딩)']\n",
            "['(06593)', '서울', '서초구', '고무래로', '6-6,', '2층', '(반포동,선경빌딩)']\n",
            "['(05643)', '서울', '송파구', '가락로', '231,', '5층', '(방이동,트니트니빌딩)']\n",
            "['(16072)', '경기', '의왕시', '오전공업길', '19,', '11층', '(오전동,대현테크노월드)']\n",
            "['(06193)', '서울', '강남구', '선릉로86길', '31,', '1909호', '(대치동,롯데골드로즈2)']\n",
            "['(06209)', '서울', '강남구', '도곡로', '445,', '2층', '(대치동,현민빌딩)']\n",
            "['(06614)', '서울', '서초구', '강남대로', '419', '(서초동,파고다)']\n",
            "['(06614)', '서울', '서초구', '강남대로', '419', '(서초동)']\n",
            "['(03191)', '서울', '종로구', '청계천로', '93,', ',40-1,33-6', '(관철동)']\n",
            "['(27181)', '충북', '제천시', '의병대로32안길', '24', '(동현동)']\n",
            "['(16802)', '경기', '용인시', '수지구', '동천로358번길', '16', '(동천동)']\n",
            "['(21985)', '인천', '연수구', '송도과학로', '100', '(송도동)']\n",
            "['(37666)', '경북', '포항시', '남구', '지곡로', '120', '(지곡동)']\n",
            "['(07995)', '서울', '양천구', '목동동로', '233-3,', '12층', '(목동,삼성화재서비스빌딩)']\n",
            "['(06022)', '서울', '강남구', '논현로', '854,', '본관', '4층', '(신사동,케이티', '신사지사)']\n",
            "['(35234)', '대전', '서구', '대덕대로', '198', '(둔산동)']\n",
            "['(04516)', '서울', '중구', '서소문로9길', '28,', '201동', '712호', '(순화동,덕수궁롯데캐슬)']\n",
            "['(13595)', '경기', '성남시', '분당구', '황새울로200번길', '26,', '2층', '(수내동,엔타워)']\n",
            "['(06098)', '서울', '강남구', '학동로42길', '23', '(논현동)']\n",
            "['(06201)', '서울', '강남구', '역삼로', '448,', '1층', '(대치동,황우거빌딩)']\n",
            "['(17336)', '경기', '이천시', '부발읍', '경충대로', '2091', '(아미리,현대엘리베이터)']\n",
            "['(16843)', '경기', '용인시', '수지구', '포은대로', '319,', '3층', '(풍덕천동,중앙빌딩)']\n",
            "['(06279)', '서울', '강남구', '도곡로', '460,', '2층', '(대치동,동선빌딩)']\n",
            "['(04799)', '서울', '성동구', '광나루로', '310', '(성수동2가,한불모터스(주))']\n",
            "['(04799)', '서울', '성동구', '광나루로', '310', '(성수동2가,한불모터스(주))']\n",
            "['(38859)', '경북', '영천시', '호국로', '83', '(야사동)']\n",
            "['(41937)', '대구', '중구', '중앙대로', '394', '(남일동)']\n",
            "['(34141)', '대전', '유성구', '대학로', '291', '(구성동)']\n",
            "['(03767)', '서울', '서대문구', '신촌로', '197', '(대현동)']\n",
            "['(21404)', '인천', '부평구', '경원대로', '1404,', '501호,', '601호', '내지', '610호', '(부평동,그랑프리)']\n",
            "['(07301)', '서울', '영등포구', '영신로34길', '10,', '601호', '(영등포동4가,영남빌딩)']\n",
            "['(06271)', '서울', '강남구', '남부순환로', '2645,', '501-1호', '(도곡동,한독빌딩)']\n",
            "['(12431)', '경기', '가평군', '조종면', '명지산로', '540', '(상판리)']\n",
            "['-']\n",
            "['-']\n",
            "['(03908)', '서울', '마포구', '월드컵북로', '361', '(상암동,DMC이안오피스텔2단지)']\n",
            "['(03190)', '서울', '종로구', '삼일대로', '395,', '7,8층', '(종로2가,종로빌딩)']\n",
            "['-']\n",
            "['-']\n",
            "['(08591)', '서울', '금천구', '가산디지털1로', '30,', '에이스하이엔드타워10', '1902호', '(가산동)']\n",
            "['(41869)', '대구', '서구', '달서로', '31', '(내당동)']\n",
            "['(06616)', '서울', '서초구', '강남대로61길', '23,', '1층', '(서초동,현대성우주상복합아파트)']\n",
            "['(41438)', '대구', '북구', '칠곡중앙대로', '426,', '5,6층', '(읍내동,동부빌딩)']\n",
            "['(03715)', '서울', '서대문구', '수색로', '43,', '209호', '(남가좌동,사회적경제', '마을자치센터)']\n",
            "['(04336)', '서울', '용산구', '후암로4길', '10', '(후암동,헤럴드스퀘어)']\n",
            "['(63208)', '제주', '제주시', '중앙로', '217,', '스카이', '파트너', '스페이스', '(이도이동,', '제주벤처마루', '제주창조경제혁신센터)']\n",
            "['(07448)', '서울', '영등포구', '도림천로19길', '12-2', '(대림동,(주)현대건설기술직업전문학교)']\n",
            "['(06182)', '서울', '강남구', '영동대로', '417,', '3층', '(대치동,오토웨이타워)']\n",
            "['(17394)', '경기', '이천시', '호법면', '이섭대천로527번길', '25', '(후안리)']\n",
            "['(04915)', '서울', '광진구', '능동로', '351,', '3층', '(중곡동,성학빌딩)']\n",
            "['-']\n",
            "['-']\n",
            "['(08389)', '서울', '구로구', '디지털로26길', '5,', '에이스', '하이-엔드타워', '816호,', '817호,', '818호,', '919호', '(구로동)']\n",
            "['(13616)', '경기', '성남시', '분당구', '정자일로', '1', '(금곡동)']\n",
            "['(07321)', '서울', '영등포구', '여의대로', '38', '(여의도동,금융감독원)']\n",
            "['(17396)', '경기', '이천시', '호법면', '덕평로', '236']\n",
            "['(04551)', '서울', '중구', '삼일대로', '340,', '9층', '(저동1가,나라키움저동빌딩)']\n",
            "['(06104)', '서울', '강남구', '언주로', '651,', '8층', '(논현동,삼원빌딩)']\n",
            "['(61949)', '광주', '서구', '상무시민로', '96,', '4층', '401호', '일부', '(치평동,종산타워)']\n",
            "['(44780)', '울산', '남구', '장생포고래로183번길', '15,', '2층', '(장생포동)']\n",
            "['(55068)', '전북', '전주시', '완산구', '콩쥐팥쥐로', '1696', '(효자동3가)']\n",
            "['(26456)', '강원', '원주시', '행구덕현길', '56', '(행구동)']\n",
            "['(26464)', '강원', '원주시', '세계로', '10', '(반곡동,한국관광공사)']\n",
            "['(05103)', '서울', '광진구', '자양로', '45', '(자양동)']\n",
            "['(06349)', '서울', '강남구', '밤고개로1길', '10,', '1123호', '(수서동,수서현대벤처빌)']\n",
            "['(62395)', '광주', '광산구', '고봉로', '261-4', '(장수동)']\n",
            "['(14297)', '경기', '광명시', '금오로', '823-21,', '17', '(옥길동)']\n",
            "['(21693)', '인천', '남동구', '아암대로', '1151', '(고잔동)']\n",
            "['(12638)', '경기', '여주시', '강변북로', '283,', '7호', '(현암동)']\n",
            "['-']\n",
            "['-']\n",
            "['-']\n",
            "['-']\n",
            "['(23011)', '인천', '강화군', '양사면', '인화로', '356', '(인화리)']\n",
            "['(26496)', '강원', '원주시', '귀래면', '방아실길', '51', '(귀래리)']\n",
            "['(25948)', '강원', '삼척시', '도계읍', '도상로', '512', '(상덕리,경동광업소)']\n",
            "['(50804)', '경남', '김해시', '상동면', '동북로437번길', '83-43', '(매리)']\n",
            "['(24554)', '강원', '양구군', '남면', '정중앙로', '621-1,', '2층', '(용하리)']\n",
            "['(18130)', '경기', '오산시', '오산천로', '128', '(오산동)']\n",
            "['(61480)', '광주', '동구', '충장로46번길', '3,', '5층', '(충장로4가,현대코아)']\n",
            "['(57248)', '전남', '장성군', '남면', '나노산단2로', '113', '(삼태리)']\n",
            "['(11905)', '경기', '구리시', '동구릉로389번길', '89-18', '(사노동)']\n",
            "['(03152)', '서울', '종로구', '종로1길', '42', '(수송동)']\n",
            "['(35229)', '대전', '서구', '대덕대로', '243', '(둔산동)']\n",
            "['(25934)', '강원', '삼척시', '근덕면', '덕산해변길', '48', '(덕산리)']\n",
            "['(28169)', '충북', '청주시', '흥덕구', '오송읍', '동평서평길', '79-41', '(동평리)']\n",
            "['(22342)', '인천', '중구', '서해대로', '17', '(항동7가)']\n",
            "['(06192)', '서울', '강남구', '테헤란로', '406,', 'A동', '2011호', '(대치동,샹제리제센터)']\n",
            "['(31933)', '충남', '서산시', '성연면', '일호리2길', '113', '(일람리)']\n",
            "['(27865)', '충북', '진천군', '문백면', '문진로', '586', '(태락리)']\n",
            "['(59014)', '전남', '해남군', '산이면', '관광레저로', '2003']\n",
            "['(58688)', '전남', '목포시', '통일대로', '63,', '바동', '(상동)']\n",
            "['(02055)', '서울', '중랑구', '신내역로3길', '40-36,', '지하2층', '에프비222호', '(신내동,신내데시앙', '플렉스)']\n",
            "['(42459)', '대구', '남구', '성당로', '182-1', '(대명동)']\n",
            "['-']\n",
            "['-']\n",
            "['(32201)', '충남', '홍성군', '갈산면', '수덕사로317번길', '137-42', '(가곡리)']\n",
            "['(61947)', '광주', '서구', '상무중앙로', '114,', '1045호', '(치평동,랜드피아오피스텔)']\n",
            "['(06162)', '서울', '강남구', '테헤란로', '401,', '601호', '(삼성동,남경빌딩)']\n",
            "['(38697)', '경북', '경산시', '남천면', '남성현로', '1009-38', '(하도리)']\n",
            "['(38697)', '경북', '경산시', '남천면', '남성현로', '1009-38', '(하도리)']\n",
            "['-']\n",
            "['-']\n"
          ]
        }
      ],
      "source": [
        "# 어떻게 이루어져 있는지 파악\n",
        "for i in range(len(df_sample['도로명'])):\n",
        "    li=df_sample['도로명'][i].split(' ')\n",
        "    print(li)\n",
        "    if len(li) < 3:\n",
        "        print(li)"
      ]
    },
    {
      "cell_type": "code",
      "execution_count": null,
      "metadata": {
        "colab": {
          "base_uri": "https://localhost:8080/",
          "height": 600
        },
        "id": "WhACR4e2seHQ",
        "outputId": "5341f0c2-7935-47c0-a180-a17f01f25f89"
      },
      "outputs": [
        {
          "output_type": "stream",
          "name": "stdout",
          "text": [
            "(17, 28)\n"
          ]
        },
        {
          "output_type": "execute_result",
          "data": {
            "text/html": [
              "\n",
              "  <div id=\"df-5498a20a-0b00-4292-b7bf-6382c0697b58\">\n",
              "    <div class=\"colab-df-container\">\n",
              "      <div>\n",
              "<style scoped>\n",
              "    .dataframe tbody tr th:only-of-type {\n",
              "        vertical-align: middle;\n",
              "    }\n",
              "\n",
              "    .dataframe tbody tr th {\n",
              "        vertical-align: top;\n",
              "    }\n",
              "\n",
              "    .dataframe thead th {\n",
              "        text-align: right;\n",
              "    }\n",
              "</style>\n",
              "<table border=\"1\" class=\"dataframe\">\n",
              "  <thead>\n",
              "    <tr style=\"text-align: right;\">\n",
              "      <th></th>\n",
              "      <th>도로명</th>\n",
              "      <th>지번</th>\n",
              "    </tr>\n",
              "  </thead>\n",
              "  <tbody>\n",
              "    <tr>\n",
              "      <th>15</th>\n",
              "      <td>-</td>\n",
              "      <td>(38216) 경북 경주시 양남면 환서리 1011번지</td>\n",
              "    </tr>\n",
              "    <tr>\n",
              "      <th>16</th>\n",
              "      <td>-</td>\n",
              "      <td>(33504) 충남 보령시 웅천읍 수부리 산6-2번지</td>\n",
              "    </tr>\n",
              "    <tr>\n",
              "      <th>38</th>\n",
              "      <td>-</td>\n",
              "      <td>() 강원도 정선군 사북읍 동탄길 38-13</td>\n",
              "    </tr>\n",
              "    <tr>\n",
              "      <th>44</th>\n",
              "      <td>-</td>\n",
              "      <td>(38029) 경북 경주시 안강읍 두류리 797번지</td>\n",
              "    </tr>\n",
              "    <tr>\n",
              "      <th>51</th>\n",
              "      <td>-</td>\n",
              "      <td>(31962) 충남 서산시 해미면 대곡리 867-5번지</td>\n",
              "    </tr>\n",
              "    <tr>\n",
              "      <th>64</th>\n",
              "      <td>-</td>\n",
              "      <td>(99999) 경기도 성남시 분당구 정자동6 파크뷰제 20층 제상가 2003호, 2004호</td>\n",
              "    </tr>\n",
              "    <tr>\n",
              "      <th>73</th>\n",
              "      <td>-</td>\n",
              "      <td>(36927) 경북 문경시 호계면 선암리 236-1번지</td>\n",
              "    </tr>\n",
              "    <tr>\n",
              "      <th>150</th>\n",
              "      <td>-</td>\n",
              "      <td>(12075) 경기 남양주시 진접읍 내곡리 33-16 내 약500평</td>\n",
              "    </tr>\n",
              "    <tr>\n",
              "      <th>224</th>\n",
              "      <td>-</td>\n",
              "      <td>(38160) 경북 경주시 인왕동 696-9번지</td>\n",
              "    </tr>\n",
              "    <tr>\n",
              "      <th>295</th>\n",
              "      <td>-</td>\n",
              "      <td>(44232) 울산 북구 신명동 104-7번지</td>\n",
              "    </tr>\n",
              "    <tr>\n",
              "      <th>446</th>\n",
              "      <td>-</td>\n",
              "      <td>() 서울 동작구 노량진동 71-2외 10필지 이데아빌딩 4층, 5층, 6층, 11층</td>\n",
              "    </tr>\n",
              "    <tr>\n",
              "      <th>449</th>\n",
              "      <td>-</td>\n",
              "      <td>(57228) 전남 장성군 황룡면 와룡리 504-2번지</td>\n",
              "    </tr>\n",
              "    <tr>\n",
              "      <th>461</th>\n",
              "      <td>-</td>\n",
              "      <td>(99999) 서울특별시 영등포구 당산동 33-1 한강포스빌 716호</td>\n",
              "    </tr>\n",
              "    <tr>\n",
              "      <th>479</th>\n",
              "      <td>-</td>\n",
              "      <td>(38216) 경북 경주시 양남면 환서리 1011번지</td>\n",
              "    </tr>\n",
              "    <tr>\n",
              "      <th>480</th>\n",
              "      <td>-</td>\n",
              "      <td>(33504) 충남 보령시 웅천읍 수부리 산6-2번지</td>\n",
              "    </tr>\n",
              "    <tr>\n",
              "      <th>502</th>\n",
              "      <td>-</td>\n",
              "      <td>() 강원도 정선군 사북읍 동탄길 38-13</td>\n",
              "    </tr>\n",
              "    <tr>\n",
              "      <th>508</th>\n",
              "      <td>-</td>\n",
              "      <td>(38029) 경북 경주시 안강읍 두류리 797번지</td>\n",
              "    </tr>\n",
              "  </tbody>\n",
              "</table>\n",
              "</div>\n",
              "      <button class=\"colab-df-convert\" onclick=\"convertToInteractive('df-5498a20a-0b00-4292-b7bf-6382c0697b58')\"\n",
              "              title=\"Convert this dataframe to an interactive table.\"\n",
              "              style=\"display:none;\">\n",
              "        \n",
              "  <svg xmlns=\"http://www.w3.org/2000/svg\" height=\"24px\"viewBox=\"0 0 24 24\"\n",
              "       width=\"24px\">\n",
              "    <path d=\"M0 0h24v24H0V0z\" fill=\"none\"/>\n",
              "    <path d=\"M18.56 5.44l.94 2.06.94-2.06 2.06-.94-2.06-.94-.94-2.06-.94 2.06-2.06.94zm-11 1L8.5 8.5l.94-2.06 2.06-.94-2.06-.94L8.5 2.5l-.94 2.06-2.06.94zm10 10l.94 2.06.94-2.06 2.06-.94-2.06-.94-.94-2.06-.94 2.06-2.06.94z\"/><path d=\"M17.41 7.96l-1.37-1.37c-.4-.4-.92-.59-1.43-.59-.52 0-1.04.2-1.43.59L10.3 9.45l-7.72 7.72c-.78.78-.78 2.05 0 2.83L4 21.41c.39.39.9.59 1.41.59.51 0 1.02-.2 1.41-.59l7.78-7.78 2.81-2.81c.8-.78.8-2.07 0-2.86zM5.41 20L4 18.59l7.72-7.72 1.47 1.35L5.41 20z\"/>\n",
              "  </svg>\n",
              "      </button>\n",
              "      \n",
              "  <style>\n",
              "    .colab-df-container {\n",
              "      display:flex;\n",
              "      flex-wrap:wrap;\n",
              "      gap: 12px;\n",
              "    }\n",
              "\n",
              "    .colab-df-convert {\n",
              "      background-color: #E8F0FE;\n",
              "      border: none;\n",
              "      border-radius: 50%;\n",
              "      cursor: pointer;\n",
              "      display: none;\n",
              "      fill: #1967D2;\n",
              "      height: 32px;\n",
              "      padding: 0 0 0 0;\n",
              "      width: 32px;\n",
              "    }\n",
              "\n",
              "    .colab-df-convert:hover {\n",
              "      background-color: #E2EBFA;\n",
              "      box-shadow: 0px 1px 2px rgba(60, 64, 67, 0.3), 0px 1px 3px 1px rgba(60, 64, 67, 0.15);\n",
              "      fill: #174EA6;\n",
              "    }\n",
              "\n",
              "    [theme=dark] .colab-df-convert {\n",
              "      background-color: #3B4455;\n",
              "      fill: #D2E3FC;\n",
              "    }\n",
              "\n",
              "    [theme=dark] .colab-df-convert:hover {\n",
              "      background-color: #434B5C;\n",
              "      box-shadow: 0px 1px 3px 1px rgba(0, 0, 0, 0.15);\n",
              "      filter: drop-shadow(0px 1px 2px rgba(0, 0, 0, 0.3));\n",
              "      fill: #FFFFFF;\n",
              "    }\n",
              "  </style>\n",
              "\n",
              "      <script>\n",
              "        const buttonEl =\n",
              "          document.querySelector('#df-5498a20a-0b00-4292-b7bf-6382c0697b58 button.colab-df-convert');\n",
              "        buttonEl.style.display =\n",
              "          google.colab.kernel.accessAllowed ? 'block' : 'none';\n",
              "\n",
              "        async function convertToInteractive(key) {\n",
              "          const element = document.querySelector('#df-5498a20a-0b00-4292-b7bf-6382c0697b58');\n",
              "          const dataTable =\n",
              "            await google.colab.kernel.invokeFunction('convertToInteractive',\n",
              "                                                     [key], {});\n",
              "          if (!dataTable) return;\n",
              "\n",
              "          const docLinkHtml = 'Like what you see? Visit the ' +\n",
              "            '<a target=\"_blank\" href=https://colab.research.google.com/notebooks/data_table.ipynb>data table notebook</a>'\n",
              "            + ' to learn more about interactive tables.';\n",
              "          element.innerHTML = '';\n",
              "          dataTable['output_type'] = 'display_data';\n",
              "          await google.colab.output.renderOutput(dataTable, element);\n",
              "          const docLink = document.createElement('div');\n",
              "          docLink.innerHTML = docLinkHtml;\n",
              "          element.appendChild(docLink);\n",
              "        }\n",
              "      </script>\n",
              "    </div>\n",
              "  </div>\n",
              "  "
            ],
            "text/plain": [
              "    도로명                                                  지번\n",
              "15    -                       (38216) 경북 경주시 양남면 환서리 1011번지\n",
              "16    -                       (33504) 충남 보령시 웅천읍 수부리 산6-2번지\n",
              "38    -                            () 강원도 정선군 사북읍 동탄길 38-13\n",
              "44    -                        (38029) 경북 경주시 안강읍 두류리 797번지\n",
              "51    -                      (31962) 충남 서산시 해미면 대곡리 867-5번지\n",
              "64    -  (99999) 경기도 성남시 분당구 정자동6 파크뷰제 20층 제상가 2003호, 2004호\n",
              "73    -                      (36927) 경북 문경시 호계면 선암리 236-1번지\n",
              "150   -               (12075) 경기 남양주시 진접읍 내곡리 33-16 내 약500평\n",
              "224   -                          (38160) 경북 경주시 인왕동 696-9번지\n",
              "295   -                           (44232) 울산 북구 신명동 104-7번지\n",
              "446   -     () 서울 동작구 노량진동 71-2외 10필지 이데아빌딩 4층, 5층, 6층, 11층\n",
              "449   -                      (57228) 전남 장성군 황룡면 와룡리 504-2번지\n",
              "461   -              (99999) 서울특별시 영등포구 당산동 33-1 한강포스빌 716호\n",
              "479   -                       (38216) 경북 경주시 양남면 환서리 1011번지\n",
              "480   -                       (33504) 충남 보령시 웅천읍 수부리 산6-2번지\n",
              "502   -                            () 강원도 정선군 사북읍 동탄길 38-13\n",
              "508   -                        (38029) 경북 경주시 안강읍 두류리 797번지"
            ]
          },
          "metadata": {},
          "execution_count": 35
        }
      ],
      "source": [
        "print(df_sample[df_sample['도로명']=='-'].shape)  # 도로명이 기재되지 않은 회사 17개(지번은 있음)\n",
        "df_sample[df_sample['도로명']=='-'][['도로명','지번']]"
      ]
    },
    {
      "cell_type": "code",
      "execution_count": null,
      "metadata": {
        "colab": {
          "base_uri": "https://localhost:8080/"
        },
        "id": "qrosJImQtiR-",
        "outputId": "5bde7ef0-536f-4268-f41c-859f054a7cd3"
      },
      "outputs": [
        {
          "output_type": "stream",
          "name": "stdout",
          "text": [
            "['(07321)', '서울', '영등포구', '여의도동', '27번지', '금융감독원']\n",
            "['(17396)', '경기', '이천시', '호법면', '매곡리', '990-8번지']\n",
            "['(04551)', '서울', '중구', '저동1가', '1-2번지', '나라키움저동빌딩', '9층']\n",
            "['(06104)', '서울', '강남구', '논현2동', '210-1번지', '삼원빌딩', '8층']\n",
            "['(61949)', '광주', '서구', '치평동', '1217-10번지', '종산타워', '4층', '401호', '일부']\n",
            "['(44780)', '울산', '남구', '장생포동', '203번지', '2층']\n",
            "['(55068)', '전북', '전주시', '완산구', '효자동3가', '1052-1번지']\n",
            "['(26456)', '강원', '원주시', '행구동', '1008-4번지']\n",
            "['(26464)', '강원', '원주시', '반곡동', '1914-6번지', '한국관광공사']\n",
            "['(05103)', '서울', '광진구', '자양2동', '679-30번지']\n",
            "['(06349)', '서울', '강남구', '수서동', '713번지', '수서현대벤처빌', '1123호']\n",
            "['(62395)', '광주', '광산구', '장수동', '427번지']\n",
            "['(14297)', '경기', '광명시', '옥길동', '133-4번지', '17']\n",
            "['(21693)', '인천', '남동구', '고잔동', '731-10번지']\n",
            "['(12638)', '경기', '여주시', '현암동', '586-22번지', '7호']\n",
            "['(38216)', '경북', '경주시', '양남면', '환서리', '1011번지']\n",
            "['(33504)', '충남', '보령시', '웅천읍', '수부리', '산6-2번지']\n",
            "['(23011)', '인천', '강화군', '양사면', '인화리', '844-6번지']\n",
            "['(26496)', '강원', '원주시', '귀래면', '귀래리', '1746번지']\n",
            "['(25948)', '강원', '삼척시', '도계읍', '상덕리', '4번지']\n",
            "['(50804)', '경남', '김해시', '상동면', '매리', '산140-8번지', '외']\n",
            "['(24554)', '강원', '양구군', '남면', '용하리', '429-19번지', '2층']\n",
            "['(18130)', '경기', '오산시', '오산동', '637번지']\n",
            "['(61480)', '광주', '동구', '충장로4가', '53번지', '현대코아', '5층']\n",
            "['(57248)', '전남', '장성군', '남면', '삼태리', '863-6번지']\n",
            "['(11905)', '경기', '구리시', '사노동', '287-10번지']\n",
            "['(03152)', '서울', '종로구', '수송동', '146-1번지']\n",
            "['(35229)', '대전', '서구', '둔산2동', '1026번지']\n",
            "['(25934)', '강원', '삼척시', '근덕면', '덕산리', '122-4번지']\n",
            "['(28169)', '충북', '청주시', '흥덕구', '오송읍', '동평리', '169-4번지']\n",
            "['(22342)', '인천', '중구', '항동7가', '114번지']\n",
            "['(06192)', '서울', '강남구', '대치4동', '889-5번지', '샹제리제센터', 'A동', '2011호']\n",
            "['(31933)', '충남', '서산시', '성연면', '일람리', '903-9번지']\n",
            "['(27865)', '충북', '진천군', '문백면', '태락리', '731번지']\n",
            "['(59014)', '전남', '해남군', '산이면', '구성리', '산', '24']\n",
            "['(58688)', '전남', '목포시', '상동', '1036번지', '바동']\n",
            "['(02055)', '서울', '중랑구', '신내1동', '262-1번지', '신내데시앙', '플렉스', '지하2층', '에프비222호']\n",
            "['(42459)', '대구', '남구', '대명4동', '3036-20번지']\n",
            "['()', '강원도', '정선군', '사북읍', '동탄길', '38-13']\n",
            "['(32201)', '충남', '홍성군', '갈산면', '가곡리', '180번지']\n",
            "['(61947)', '광주', '서구', '치평동', '1202-2번지', '랜드피아오피스텔', '1045호']\n",
            "['(06162)', '서울', '강남구', '삼성2동', '141-35번지', '남경빌딩', '601호']\n",
            "['(38697)', '경북', '경산시', '남천면', '하도리', '777번지']\n",
            "['(38697)', '경북', '경산시', '남천면', '하도리', '777번지']\n",
            "['(38029)', '경북', '경주시', '안강읍', '두류리', '797번지']\n",
            "['(18522)', '경기', '화성시', '정남면', '문학리', '674-28번지']\n",
            "['(03143)', '서울', '종로구', '수송동', '85번지']\n",
            "['(51326)', '경남', '창원시', '마산회원구', '회원동', '68-45번지']\n",
            "['(40155)', '경북', '고령군', '우곡면', '월오리', '산27-1번지']\n",
            "['(44918)', '울산', '울주군', '범서읍', '중리', '362-1번지']\n",
            "['(24211)', '강원', '춘천시', '동면', '월곡리', '241번지']\n",
            "['(31962)', '충남', '서산시', '해미면', '대곡리', '867-5번지']\n",
            "['(51367)', '경남', '창원시', '의창구', '팔용동', '177-9번지']\n",
            "['(25034)', '강원', '양양군', '서면', '장승리', '산15번지']\n",
            "['(13550)', '경기', '성남시', '분당구', '궁내동', '383번지', '도원빌딩', '3층']\n",
            "['(22665)', '인천', '서구', '오류동', '1612-11']\n",
            "['(31534)', '충남', '아산시', '신창면', '신달리', '286-14번지']\n",
            "['(46047)', '부산', '기장군', '일광면', '청광리', '178번지']\n",
            "['(11520)', '경기', '양주시', '장흥면', '일영리', '161-2번지']\n",
            "['(37730)', '경북', '포항시', '남구', '송도동', '253-55번지']\n",
            "['(41843)', '대구', '서구', '중리동', '1136-162번지']\n",
            "['(11151)', '경기', '포천시', '군내면', '하성북리', '산44-2번지']\n",
            "['(11154)', '경기', '포천시', '군내면', '용정리', '2-8번지', '106호']\n",
            "['(07995)', '서울', '양천구', '목1동', '923-6번지', '대한민국예술인센터', '10층', '1020호']\n",
            "['(99999)', '경기도', '성남시', '분당구', '정자동6', '파크뷰제', '20층', '제상가', '2003호,', '2004호']\n",
            "['(06164)', '서울', '강남구', '삼성1동', '159번지', '아셈타워', '37층', '3768호']\n",
            "['(12459)', '경기', '가평군', '설악면', '회곡리', '447-8번지']\n",
            "['(06131)', '서울', '강남구', '역삼1동', '644-8번지', '대원빌딩', '4층', '401호']\n",
            "['(46757)', '부산', '강서구', '송정동', '1761-7번지']\n",
            "['(08536)', '서울', '금천구', '독산3동', '955번지', '신도아파트', '상가', '104호']\n",
            "['(06212)', '서울', '강남구', '역삼2동', '708-41번지', '두올빌딩', '6층']\n",
            "['(04001)', '서울', '마포구', '서교동', '448-19번지']\n",
            "['(36907)', '경북', '문경시', '산북면', '종곡리', '28-1번지']\n",
            "['(36927)', '경북', '문경시', '호계면', '선암리', '236-1번지']\n",
            "['(04516)', '서울', '중구', '서소문동', '57-7번지']\n",
            "['(32532)', '충남', '공주시', '우성면', '방흥리', '235-6번지']\n",
            "['(52854)', '경남', '진주시', '충무공동', '331-3번지', '배재1빌딩', '202호']\n",
            "['(05585)', '서울', '송파구', '삼전동', '180-2번지', '8층']\n",
            "['(52009)', '경남', '함안군', '칠서면', '태곡리', '320번지']\n",
            "['(33486)', '충남', '보령시', '성주면', '개화리', '610-1번지']\n",
            "['(33183)', '충남', '부여군', '장암면', '원문리', '산25번지']\n",
            "['(26021)', '강원', '태백시', '황지동', '77-4번지']\n",
            "['(50902)', '경남', '김해시', '삼계동', '1505-4번지', '코아루센텀오피스텔', '207호']\n",
            "['(26414)', '강원', '원주시', '평원동', '184-5번지']\n",
            "['(07263)', '서울', '영등포구', '당산동2가', '160-2번지', '진덕빌딩', '10층']\n",
            "['(06181)', '서울', '강남구', '대치2동', '945-15번지', '제주장학회관', '601호']\n",
            "['(26243)', '강원', '영월군', '중동면', '녹전리', '산1번지']\n",
            "['(11100)', '경기', '포천시', '관인면', '삼율리', '산144-1번지']\n",
            "['(17118)', '경기', '용인시', '처인구', '남사면', '통삼리', '640-2번지', '102호']\n",
            "['(25933)', '강원', '삼척시', '근덕면', '교곡리', '산319번지']\n",
            "['(22337)', '인천', '중구', '항동7가', '100번지']\n",
            "['(06026)', '서울', '강남구', '신사동', '629-26번지', '현대벨로스오피스텔', '1102호']\n",
            "['(06710)', '서울', '서초구', '서초3동', '1460-5번지']\n",
            "['(06710)', '서울', '서초구', '서초3동', '1460-5번지']\n",
            "['(28102)', '충북', '청주시', '흥덕구', '옥산면', '동림리', '247-7번지']\n",
            "['(27681)', '충북', '음성군', '금왕읍', '봉곡리', '산40-8번지']\n",
            "['(07558)', '서울', '강서구', '염창동', '281번지']\n",
            "['(06142)', '서울', '강남구', '역삼1동', '677번지', '서울빌딩', '6층']\n",
            "['(16827)', '경기', '용인시', '수지구', '동천동', '853-1번지', '4층', '현대그린푸드']\n",
            "['(11773)', '경기', '의정부시', '신곡2동', '786-10번지', '1층']\n",
            "['(01333)', '서울', '도봉구', '방학1동', '705-13번지', '호텔베이204', 'G동', '1층', '1호']\n",
            "['(48039)', '부산', '해운대구', '반여1동', '1401-1번지']\n",
            "['(26144)', '강원', '정선군', '남면', '유평리', '산21번지']\n",
            "['(32607)', '충남', '공주시', '이인면', '달산리', '34-1번지']\n",
            "['(22342)', '인천', '중구', '항동7가', '116번지']\n",
            "['(36347)', '경북', '울진군', '기성면', '사동리', '756-1번지']\n",
            "['(06235)', '서울', '강남구', '역삼1동', '735-11번지', '신일유토빌', '11층', '1104호']\n",
            "['(39847)', '경북', '칠곡군', '석적읍', '망정리', '산21-3번지']\n",
            "['(12769)', '경기', '광주시', '직동', '99-1']\n",
            "['(49455)', '부산', '사하구', '구평동', '495-20번지']\n",
            "['(63631)', '제주', '서귀포시', '성산읍', '수산리', '1779-1번지']\n",
            "['(06052)', '서울', '강남구', '논현2동', '82-17번지', '벤처캐슬빌딩', 'A동', '7층', '731호']\n",
            "['(59626)', '전남', '여수시', '둔덕동', '산96-1번지', '전남대학교여수캠퍼스', '산학연구관', '517호']\n",
            "['(18545)', '경기', '화성시', '송산면', '마산리', '290-41번지']\n",
            "['(32701)', '충남', '금산군', '복수면', '구례리', '51번지']\n",
            "['(31776)', '충남', '당진시', '읍내동', '192-18번지', '2층']\n",
            "['(38406)', '경북', '경산시', '하양읍', '대곡리', '44-1번지']\n",
            "['(25744)', '강원', '동해시', '삼화동', '200번지']\n",
            "['(37304)', '경북', '의성군', '다인면', '가원리', '133-7번지']\n",
            "['(26248)', '강원', '영월군', '상동읍', '구래리', '114-4번지']\n",
            "['(06100)', '서울', '강남구', '논현2동', '266-11번지']\n",
            "['(07327)', '서울', '영등포구', '여의도동', '26번지', '에스트레뉴', '2003호']\n",
            "['(03184)', '서울', '종로구', '신문로1가', '226번지', '흥국생명빌딩', '9층']\n",
            "['(28176)', '충북', '청주시', '흥덕구', '강내면', '산단리', '240-5번지']\n",
            "['(03188)', '서울', '종로구', '서린동', '99번지']\n",
            "['(11022)', '경기', '연천군', '청산면', '대전리', '221번지']\n",
            "['(50561)', '경남', '양산시', '상북면', '석계리', '1117-3번지']\n",
            "['(48083)', '부산', '해운대구', '좌3동', '1270-3번지']\n",
            "['(06173)', '서울', '강남구', '삼성1동', '169-1번지', '3층', '엘에스.04']\n",
            "['(06177)', '서울', '강남구', '대치2동', '1008-1번지', '타워크리스탈', '707호']\n",
            "['(48244)', '부산', '수영구', '광안3동', '1063-6번지']\n",
            "['(53013)', '경남', '통영시', '광도면', '죽림리', '1570-8번지', '다임리더스빌', '3층', '322호']\n",
            "['(59603)', '전남', '여수시', '율촌면', '가장리', '산4번지']\n",
            "['(63344)', '제주', '제주시', '조천읍', '와흘리', '561']\n",
            "['(46038)', '부산', '기장군', '장안읍', '임랑리', '111-1번지']\n",
            "['(59603)', '전남', '여수시', '율촌면', '가장리', '산4번지']\n",
            "['(06649)', '서울', '서초구', '서초3동', '1563-10번지', '예당빌딩', '5층']\n",
            "['(36422)', '경북', '영덕군', '축산면', '경정리', '742-2번지']\n",
            "['(06751)', '서울', '서초구', '양재1동', '153번지', '성보프라자', '203호']\n",
            "['(63037)', '제주', '제주시', '애월읍', '소길리', '1337-1번지']\n",
            "['(31428)', '충남', '아산시', '영인면', '월선리', '384번지']\n",
            "['(17088)', '경기', '용인시', '기흥구', '지곡동', '531번지']\n",
            "['(02580)', '서울', '동대문구', '신설동', '76-34번지', '우성빌딩', '1층']\n",
            "['(36811)', '경북', '예천군', '감천면', '덕율리', '829-4번지']\n",
            "['(11041)', '경기', '연천군', '전곡읍', '간파리', '8-4번지', '2층']\n",
            "['(49444)', '부산', '사하구', '신평1동', '574번지']\n",
            "['(22755)', '인천', '서구', '경서동', '677번지']\n",
            "['(12919)', '경기', '하남시', '풍산동', '527번지', '인스타시티', '1634호']\n",
            "['(06142)', '서울', '강남구', '역삼1동', '676번지', '삼부빌딩', '9층']\n",
            "['(07327)', '서울', '영등포구', '여의도동', '24-3번지']\n",
            "['(12075)', '경기', '남양주시', '진접읍', '내곡리', '33-16', '내', '약500평']\n",
            "['(07071)', '서울', '동작구', '신대방2동', '395-67번지', '롯데관악타워', '5층']\n",
            "['(28625)', '충북', '청주시', '서원구', '산남동', '592번지', '신성미소시티블루2', '7층', '708호']\n",
            "['(12665)', '경기', '여주시', '점동면', '장안리', '611-1']\n",
            "['(16897)', '경기', '용인시', '기흥구', '보정동', '1197-2번지', '풍산프라자', '8층']\n",
            "['(57208)', '전남', '장성군', '북하면', '대악리', '산4번지']\n",
            "['(04598)', '서울', '중구', '신당2동', '355-8번지', '백석빌딩', '5층']\n",
            "['(32998)', '충남', '논산시', '은진면', '와야리', '125-13번지', '1층']\n",
            "['(51602)', '경남', '창원시', '진해구', '가주동', '22-4번지']\n",
            "['(13446)', '경기', '성남시', '수정구', '사송동', '329-1번지', '3층']\n",
            "['(53331)', '경남', '거제시', '동부면', '부춘리', '산72번지']\n",
            "['(06698)', '서울', '서초구', '방배3동', '477-1번지', '맴버스뷰', '5층', '506호']\n",
            "['(38609)', '경북', '경산시', '평산동', '542-16번지']\n",
            "['(25538)', '강원', '강릉시', '명주동', '30-9번지', '2층']\n",
            "['(25210)', '강원', '횡성군', '횡성읍', '학곡리', '778번지']\n",
            "['(06164)', '서울', '강남구', '삼성1동', '159번지', '도심공항타워']\n",
            "['(18541)', '경기', '화성시', '마도면', '쌍송리', '141-13번지']\n",
            "['(31208)', '충남', '천안시', '동남구', '신방동', '1450번지', '방산빌딩', '201호']\n",
            "['(41062)', '대구', '동구', '신서동', '1141번지']\n",
            "['(32420)', '충남', '예산군', '신암면', '조곡리', '9-27']\n",
            "['(04334)', '서울', '용산구', '갈월동', '2-5번지', '갑을빌딩', '7층']\n",
            "['(11184)', '경기', '포천시', '소흘읍', '이동교리', '374-74번지', '포천공구유통단지', '7동', '108호']\n",
            "['(26029)', '강원', '태백시', '통동', '산67-1번지']\n",
            "['(25384)', '강원', '평창군', '미탄면', '수청리', '137-1번지']\n",
            "['(22756)', '인천', '서구', '경서동', '677번지']\n",
            "['(44918)', '울산', '울주군', '범서읍', '중리', '산103번지']\n",
            "['(22348)', '인천', '중구', '항동7가', '58-4번지', '라이프비취', '상가', '2층', '209호']\n",
            "['(07021)', '서울', '동작구', '사당1동', '449-26번지']\n",
            "['(10036)', '경기', '김포시', '통진읍', '도사리', '843-12번지']\n",
            "['(31789)', '충남', '당진시', '구룡동', '799-3번지']\n",
            "['(06178)', '서울', '강남구', '대치2동', '942-19번지', '지어로빌딩', '10층', '1025호']\n",
            "['(06050)', '서울', '강남구', '논현2동', '71-2번지']\n",
            "['(06151)', '서울', '강남구', '역삼1동', '702-1번지', '11층']\n",
            "['(44538)', '울산', '중구', '우정동', '526번지', '한국석유공사']\n",
            "['(22769)', '인천', '서구', '석남동', '642-12번지']\n",
            "['(26141)', '강원', '정선군', '신동읍', '조동리', '335-8번지']\n",
            "['(26460)', '강원', '원주시', '반곡동', '1860-6번지']\n",
            "['(04531)', '서울', '중구', '소공동', '112-5번지', '삼원빌딩']\n",
            "['(22007)', '인천', '연수구', '송도4동', '30-3번지', '송도센트로드', 'B동', '202호']\n",
            "['(44779)', '울산', '남구', '매암동', '139-18번지']\n",
            "['(15477)', '경기', '안산시', '단원구', '고잔동', '772-2번지', '408호']\n",
            "['(36371)', '경북', '울진군', '후포면', '금음리', '산75번지']\n",
            "['(28102)', '충북', '청주시', '흥덕구', '옥산면', '금계리', '682-2번지']\n",
            "['(15288)', '경기', '안산시', '상록구', '월피동', '445-29번지', '에스엘타운', '201호']\n",
            "['(15288)', '경기', '안산시', '상록구', '월피동', '445-29번지', '에스엘타운', '201호']\n",
            "['(17384)', '경기', '이천시', '마장면', '표교리', '527-5번지']\n",
            "['(06240)', '서울', '강남구', '역삼1동', '827-15번지', '강남대성빌딩']\n",
            "['(06181)', '서울', '강남구', '대치2동', '945-24번지', '강안교육빌딩', '1층', ',2층,3층,4층,5층1호,6층,7층2호,8층,9층']\n",
            "['(16227)', '경기', '수원시', '영통구', '이의동', '산94-6번지', '경기대학교']\n",
            "['(57215)', '전남', '장성군', '장성읍', '유탕리', '1521-4번지', '102호']\n",
            "['(03157)', '서울', '종로구', '청진동', '128번지', '타워8빌딩1601호']\n",
            "['(03157)', '서울', '종로구', '청진동', '128번지', '타워8빌딩1601호']\n",
            "['(06739)', '서울', '서초구', '양재1동', '2-14번지', '우리빌딩', '6층']\n",
            "['(41584)', '대구', '북구', '침산2동', '265-11번지', '메이저타워', '801호']\n",
            "['(12197)', '경기', '남양주시', '화도읍', '차산리', '94-2번지', '3층']\n",
            "['(07558)', '서울', '강서구', '염창동', '281번지']\n",
            "['(02582)', '서울', '동대문구', '신설동', '98-30번지', '글로리아타워', '7층']\n",
            "['(02582)', '서울', '동대문구', '신설동', '98-30', '글로리아타워]', '제11층', '제1101호']\n",
            "['(06209)', '서울', '강남구', '대치4동', '941-19번지', '진흥빌딩', '5층']\n",
            "['(03188)', '서울', '종로구', '서린동', '70번지', '알파빌딩', '3층']\n",
            "['(03994)', '서울', '마포구', '동교동', '154-23번지', '류석빌딩', '4층', '403호']\n",
            "['(13561)', '경기', '성남시', '분당구', '정자동', '178-1번지', '그린팩토리']\n",
            "['(08507)', '서울', '금천구', '가산동', '371-37번지', '에스티엑스브이타워', '10층', '1006호']\n",
            "['(06103)', '서울', '강남구', '논현2동', '277-20번지', '삼우빌딩', '4층']\n",
            "['(06083)', '서울', '강남구', '삼성1동', '107번지', '미켈란107', '6층', '에프72']\n",
            "['(13597)', '경기', '성남시', '분당구', '수내1동', '28-2번지', '양지프라임', '402,403,404호']\n",
            "['(08708)', '서울', '관악구', '보라매동', '729-21번지', '대교타워']\n",
            "['(08708)', '서울', '관악구', '보라매동', '729-21번지', '대교타워']\n",
            "['(08708)', '서울', '관악구', '보라매동', '729-21번지', '대교타워', '3층']\n",
            "['(07071)', '서울', '동작구', '신대방2동', '395-67번지', '롯데관악타워']\n",
            "['(06634)', '서울', '서초구', '서초1동', '1657-7번지']\n",
            "['(12025)', '경기', '남양주시', '수동면', '외방리', '150-1번지']\n",
            "['(06634)', '서울', '서초구', '서초1동', '1657-5번지', '카이스시스템빌딩', '8층']\n",
            "['(06928)', '서울', '동작구', '노량진1동', '46-6번지']\n",
            "['(38160)', '경북', '경주시', '인왕동', '696-9번지']\n",
            "['(03369)', '서울', '은평구', '녹번동', '1-30번지', '늘푸른주택', '301호']\n",
            "['(05606)', '서울', '송파구', '삼전동', '5번지', '신이빌딩', '2층']\n",
            "['(06142)', '서울', '강남구', '역삼1동', '676번지', '센터필드', '웨스트', '6층', '7층']\n",
            "['(07301)', '서울', '영등포구', '영등포동4가', '155-1번지', '영남빌딩', '5층']\n",
            "['(05300)', '서울', '강동구', '길동', '52-2번지']\n",
            "['(06129)', '서울', '강남구', '역삼1동', '817-27번지', '금성빌딩', '1층']\n",
            "['(12740)', '경기', '광주시', '초월읍', '지월리', '781-1번지']\n",
            "['(07304)', '서울', '영등포구', '영등포동3가', '9-13번지', '에쉐르쇼핑몰', '6층']\n",
            "['(06280)', '서울', '강남구', '대치1동', '626번지', '청실', '상가', '402호']\n",
            "['(06572)', '서울', '서초구', '방배4동', '852-22번지', '단우빌딩', '6층', ',7층,8층']\n",
            "['(04059)', '서울', '마포구', '창전동', '6-4번지']\n",
            "['(10380)', '경기', '고양시', '일산서구', '대화동', '2239번지', '킨텍스존', '5층', '503호']\n",
            "['(06162)', '서울', '강남구', '삼성2동', '141-31번지', '이케이타워', '5층']\n",
            "['(04400)', '서울', '용산구', '한남동', '684-51번지', '3층']\n",
            "['(06626)', '서울', '서초구', '서초2동', '1330-12번지', '강남역인앤인', '5층']\n",
            "['(08381)', '서울', '구로구', '구로3동', '212-1번지', '에이스트윈타워1차', '403호']\n",
            "['(06196)', '서울', '강남구', '대치4동', '904-14번지', '리틀팍스']\n",
            "['(01019)', '서울', '강북구', '인수동', '522-31번지']\n",
            "['(06236)', '서울', '강남구', '역삼1동', '736-17번지', '동궁빌딩', '3층,', '13층']\n",
            "['(06233)', '서울', '강남구', '역삼1동', '824-19번지', '동경빌딩', 'K동', '10층', '1090호']\n",
            "['(06152)', '서울', '강남구', '역삼동', '701번지', '14층']\n",
            "['(06732)', '서울', '서초구', '서초2동', '1355-3번지', '서초월드', '2층']\n",
            "['(06643)', '서울', '서초구', '서초동', '1603-54번지', '덕원빌딩']\n",
            "['(04715)', '서울', '성동구', '행당1동', '284번지']\n",
            "['(03472)', '서울', '은평구', '응암1동', '64-3번지']\n",
            "['(06278)', '서울', '강남구', '대치1동', '1024번지', '디마크타워', '2층', '207호', ',', '208호,', '209호,', '210호,', '211호']\n",
            "['(01062)', '서울', '강북구', '번1동', '446-13번지', '가든타워빌딩', '1724호']\n",
            "['(06132)', '서울', '강남구', '역삼1동', '642-1번지', '역삼벤처텔', '707호']\n",
            "['(08003)', '서울', '양천구', '목1동', '408-121번지']\n",
            "['(42179)', '대구', '수성구', '황금1동', '204-1번지', '4층']\n",
            "['(16914)', '경기', '용인시', '기흥구', '청덕동', '556번지', '용인테크노밸리', '비201호', '~비211호,비213호']\n",
            "['(06532)', '서울', '서초구', '잠원동', '46-10번지', '신영빌딩', '2층', '201호']\n",
            "['(04410)', '서울', '용산구', '한남동', '123번지', '고뫄스빌딩', '6층']\n",
            "['(12541)', '경기', '양평군', '지평면', '월산리', '582번지']\n",
            "['(24606)', '강원', '인제군', '북면', '용대리', '1528-12번지']\n",
            "['(06236)', '서울', '강남구', '역삼1동', '736-58번지', '대세빌딩', '4층']\n",
            "['(10831)', '경기', '파주시', '광탄면', '창만리', '166-5번지']\n",
            "['(04419)', '서울', '용산구', '한남동', '49-3번지']\n",
            "['(06749)', '서울', '서초구', '양재1동', '24번지']\n",
            "['(06913)', '서울', '동작구', '노량진1동', '117-2번지']\n",
            "['(47281)', '부산', '부산진구', '부전2동', '389-25번지']\n",
            "['(51622)', '경남', '창원시', '진해구', '죽곡동', '142번지']\n",
            "['(04790)', '서울', '성동구', '성수1가2동', '13-189번지', '메타모르포빌딩', '605호']\n",
            "['(04790)', '서울', '성동구', '성수1가2동', '13-189번지', '메타모르포빌딩', '605호']\n",
            "['(08377)', '서울', '구로구', '구로동', '170-10번지', '대륭포스트타워7차', '14층']\n",
            "['(06719)', '서울', '서초구', '서초3동', '1449-9번지', '외', '1필지']\n",
            "['(10454)', '경기', '고양시', '덕양구', '주교동', '990-3번지']\n",
            "['(06626)', '서울', '서초구', '서초2동', '1330-3번지']\n",
            "['(47744)', '부산', '동래구', '명륜동', '96-5번지']\n",
            "['(47319)', '부산', '부산진구', '개금2동', '639번지']\n",
            "['(08826)', '서울', '관악구', '신림동', '산56-1번지']\n",
            "['(04378)', '서울', '용산구', '한강로2가', '420번지', '용산푸르지오써밋']\n",
            "['(04378)', '서울', '용산구', '한강로2가', '420번지', '용산푸르지오써밋']\n",
            "['(06191)', '서울', '강남구', '대치2동', '988-13번지', '아이비타워', '4층']\n",
            "['(05372)', '서울', '강동구', '둔촌2동', '517-3번지']\n",
            "['(06541)', '서울', '서초구', '반포1동', '748-8번지', '현철빌딩', '6층']\n",
            "['(05627)', '서울', '송파구', '방이2동', '180-7번지']\n",
            "['(06292)', '서울', '강남구', '도곡2동', '467-14번지', '에스이아이타워', '15층']\n",
            "['(02801)', '서울', '성북구', '돈암1동', '7-10번지']\n",
            "['(42052)', '대구', '수성구', '만촌2동', '992-20번지']\n",
            "['(03625)', '서울', '서대문구', '홍제3동', '273-33번지', '2층', '희중약국']\n",
            "['(06193)', '서울', '강남구', '대치4동', '890-34번지', '세왕개발빌딩', '814호']\n",
            "['(22338)', '인천', '중구', '항동7가', '91-6번지', '402호']\n",
            "['(31982)', '충남', '서산시', '동문동', '770-3번지']\n",
            "['(16520)', '경기', '수원시', '영통구', '원천동', '272-1번지']\n",
            "['(03186)', '서울', '종로구', '세종로', '211번지', '광화문빌딩', '17층']\n",
            "['(03190)', '서울', '종로구', '관철동', '13-4번지']\n",
            "['(03191)', '서울', '종로구', '종로2가', '56-16번지']\n",
            "['(06626)', '서울', '서초구', '서초2동', '1330-18번지', '현대기림', '오피스텔']\n",
            "['(06153)', '서울', '강남구', '삼성2동', '114-8번지', '75에비뉴빌딩', '10층', '일부']\n",
            "['(44232)', '울산', '북구', '신명동', '104-7번지']\n",
            "['(06593)', '서울', '서초구', '반포4동', '52-3번지']\n",
            "['(08093)', '서울', '양천구', '신정동', '323-7번지', '테마프라자', '8층']\n",
            "['(07505)', '서울', '강서구', '공항동', '1373번지', '화물터미널', '게이트8']\n",
            "['(51659)', '경남', '창원시', '진해구', '이동', '3-5번지']\n",
            "['(06164)', '서울', '강남구', '삼성1동', '159-8번지', '파르나스타워', '21층']\n",
            "['(06227)', '서울', '강남구', '역삼2동', '770-6번지', '재승빌딩', '6층']\n",
            "['(07270)', '서울', '영등포구', '양평동3가', '16번지', '우림e-BIZ센터', '210호']\n",
            "['(13638)', '경기', '성남시', '분당구', '구미동', '188번지', '분당엠타워', '2층']\n",
            "['(06132)', '서울', '강남구', '역삼1동', '642-10번지', '송암2빌딩', '917호']\n",
            "['(06126)', '서울', '강남구', '역삼1동', '607-13번지', '역삼삼정빌딩', '6층']\n",
            "['(57932)', '전남', '순천시', '왕지동', '863-2번지', '3층']\n",
            "['(06611)', '서울', '서초구', '서초4동', '1309번지', '11층,', '12층']\n",
            "['(13600)', '경기', '성남시', '분당구', '수내3동', '79-2번지', '현대제일상가', '2층', '42호', ',43호,44호']\n",
            "['(06729)', '서울', '서초구', '서초2동', '1357-35번지', '백향빌딩']\n",
            "['(06729)', '서울', '서초구', '서초2동', '1357-35번지', '백향빌딩']\n",
            "['(03163)', '서울', '종로구', '인사동', '43번지', '대일빌딩', '9층']\n",
            "['(06604)', '서울', '서초구', '서초4동', '1695-5번지', 'JH엘로펌애비뉴빌딩', '지하1층']\n",
            "['(04614)', '서울', '중구', '장충동1가', '33-2번지', '지층']\n",
            "['(04614)', '서울', '중구', '장충동1가', '33-7번지']\n",
            "['(06621)', '서울', '서초구', '서초4동', '1327-13번지', '강남지웰타워', '9층']\n",
            "['(16554)', '경기', '수원시', '권선구', '권선동', '1311-8번지', '권선종합프라자', '지하1층']\n",
            "['(06301)', '서울', '강남구', '도곡2동', '517-13번지', '신우빌딩', '3층']\n",
            "['(14083)', '경기', '안양시', '동안구', '호계2동', '170-6번지']\n",
            "['(07207)', '서울', '영등포구', '양평동5가', '1-1번지', '아이에스비즈타워', '2401호', '2402호2403호2404호']\n",
            "['(13486)', '경기', '성남시', '분당구', '삼평동', '621번지', '판교이노밸리', '비동', '701-2,', '3호']\n",
            "['(06242)', '서울', '강남구', '역삼1동', '831-24번지,', '4층']\n",
            "['(06173)', '서울', '강남구', '삼성1동', '169-8번지', '3층,', '4층']\n",
            "['(12579)', '경기', '양평군', '양서면', '부용리', '96-1번지', '중앙기숙학원']\n",
            "['(03923)', '서울', '마포구', '상암동', '1593번지', '우리기술빌딩', '6층']\n",
            "['(10111)', '경기', '김포시', '사우동', '880번지', '시그마프라자', '702-2호']\n",
            "['(18139)', '경기', '오산시', '원동', '813-5번지', '중앙씨티월3', '4층', '401호']\n",
            "['(06207)', '서울', '강남구', '대치4동', '938-16번지', '삼환쏘굿아파트']\n",
            "['(08378)', '서울', '구로구', '구로3동', '811번지', '코오롱싸이언스밸리2차', '310호']\n",
            "['(06259)', '서울', '강남구', '도곡1동', '944-4번지', '4층']\n",
            "['(15277)', '경기', '안산시', '상록구', '부곡동', '733-6번지']\n",
            "['(06233)', '서울', '강남구', '역삼1동', '824-11번지', '한라클래식', '1205호,', '1206호']\n",
            "['(44629)', '울산', '남구', '무거동', '220-5번지']\n",
            "['(06028)', '서울', '강남구', '신사동', '528-8번지']\n",
            "['(06131)', '서울', '강남구', '역삼1동', '638-4번지', '지하층,', '1층,', '2층']\n",
            "['(07238)', '서울', '영등포구', '여의도동', '13-19번지', '남중빌딩', '7층', ',', '8층,', '9층,', '10층']\n",
            "['(05854)', '서울', '송파구', '문정2동', '643-1번지', '엠스테이트', 'A동', '910호']\n",
            "['(06182)', '서울', '강남구', '대치2동', '948', '오토웨이타워', '3층']\n",
            "['(06596)', '서울', '서초구', '서초3동', '1714-9번지', '에이앤씨빌딩']\n",
            "['(05854)', '서울', '송파구', '문정2동', '642번지', '송파테라타워2', 'A동', 'A-214호']\n",
            "['(06239)', '서울', '강남구', '역삼1동', '828-10번지', '올림피아센터', '1층']\n",
            "['(08814)', '서울', '관악구', '대학동', '240-3번지']\n",
            "['(03383)', '서울', '은평구', '녹번동', '73-3번지', '103호']\n",
            "['(12603)', '경기', '여주시', '산북면', '후리', '168번지']\n",
            "['(06276)', '서울', '강남구', '도곡동', '527-3번지', '도곡렉슬상가']\n",
            "['(47161)', '부산', '부산진구', '당감동', '614-12번지']\n",
            "['(08594)', '서울', '금천구', '가산동', '670-2번지', '대륭테크노타운18차', '607호']\n",
            "['(06640)', '서울', '서초구', '서초1동', '1627-1번지', '교대벤처타워', '3층']\n",
            "['(08506)', '서울', '금천구', '가산동', '371-16번지', '아이티캐슬2차', '8층']\n",
            "['(03191)', '서울', '종로구', '종로2가', '55-1번지']\n",
            "['(03191)', '서울', '종로구', '종로2가', '55-1번지']\n",
            "['(03191)', '서울', '종로구', '종로2가', '55-1번지']\n",
            "['(41937)', '대구', '중구', '남일동', '36-1번지', '미도빌딩', '3층']\n",
            "['(16704)', '경기', '수원시', '영통구', '영통1동', '998-1번지']\n",
            "['(16634)', '경기', '수원시', '권선구', '오목천동', '386-6번지']\n",
            "['(06153)', '서울', '강남구', '삼성2동', '112-21번지', '자진빌딩', '301호']\n",
            "['(03149)', '서울', '종로구', '견지동', '87-1번지']\n",
            "['(10881)', '경기', '파주시', '문발동', '535-1번지']\n",
            "['(03159)', '서울', '종로구', '청진동', '70번지', '그랑서울타워1', '6층']\n",
            "['(06744)', '서울', '서초구', '양재1동', '16-6번지', '위메스빌딩']\n",
            "['(07255)', '서울', '영등포구', '양평동3가', '46번지', '이앤씨드림타워', '220호']\n",
            "['(50846)', '경남', '김해시', '한림면', '시산리', '1077-1번지']\n",
            "['(06611)', '서울', '서초구', '서초4동', '1309-9번지', '에이프로스퀘어', '11층']\n",
            "['(08587)', '서울', '금천구', '독산1동', '1001-5번지']\n",
            "['(06640)', '서울', '서초구', '서초1동', '1623-10번지', '영진닷컴빌딩', '1층']\n",
            "['(17906)', '경기', '평택시', '합정동', '908-6번지', '1층']\n",
            "['(07238)', '서울', '영등포구', '여의도동', '14-8번지', '극동브이아이피빌딩', 'R동', '562호']\n",
            "['(12428)', '경기', '가평군', '가평읍', '금대리', '55-130']\n",
            "['(05652)', '서울', '송파구', '오금동', '1-5번지', '용진빌딩', '1,2층']\n",
            "['(06100)', '서울', '강남구', '논현2동', '266-1번지']\n",
            "['(06134)', '서울', '강남구', '역삼1동', '649-1번지']\n",
            "['(06768)', '서울', '서초구', '우면동', '782번지', '호반파크1관']\n",
            "['(13589)', '경기', '성남시', '분당구', '서현동', '95번지', '분당우성프라자', '309호,316-2호']\n",
            "['(06624)', '서울', '서초구', '서초2동', '1332-4번지', '크로스143타워', '5층', '501호-505호,', '511호-513호']\n",
            "['(16334)', '경기', '수원시', '장안구', '정자3동', '877-4번지', '정연프라자', '10층']\n",
            "['(06283)', '서울', '강남구', '대치동', '994-4번지']\n",
            "['(44221)', '울산', '북구', '신천동', '425번지']\n",
            "['(06902)', '서울', '동작구', '본동', '494번지', '래미안트윈파크', '상가동', '201,202호']\n",
            "['(06197)', '서울', '강남구', '대치4동', '896-27번지']\n",
            "['(07299)', '서울', '영등포구', '문래동3가', '55-20', '에이스하이테크시티', '1동', '9층', '908호,909호']\n",
            "['(63644)', '제주', '서귀포시', '대정읍', '구억리', '1069번지']\n",
            "['(01394)', '서울', '도봉구', '쌍문2동', '44-1번지', '3,4층']\n",
            "['(01394)', '서울', '도봉구', '쌍문2동', '44-1번지']\n",
            "['(03174)', '서울', '종로구', '내수동', '73번지', '교보문고빌딩', '10층']\n",
            "['(06074)', '서울', '강남구', '청담동', '76-2번지']\n",
            "['(24257)', '강원', '춘천시', '효자3동', '756-6번지']\n",
            "['(08782)', '서울', '관악구', '청룡동', '947-8번지', '종남빌딩', '4층', '410호']\n",
            "['(61052)', '광주', '북구', '오치2동', '860-1번지']\n",
            "['(34372)', '대전', '대덕구', '대화동', '15-6번지']\n",
            "['(05616)', '서울', '송파구', '석촌동', '174-10번지']\n",
            "['(06620)', '서울', '서초구', '서초2동', '1319-5번지', '대각빌딩', '5층']\n",
            "['(05051)', '서울', '광진구', '자양2동', '680-4번지']\n",
            "['(10375)', '경기', '고양시', '일산서구', '일산3동', '1061-3번지']\n",
            "['(16837)', '경기', '용인시', '수지구', '풍덕천1동', '706-4번지', '현성빌딩', '제103호,제104호,2-9층']\n",
            "['(51401)', '경남', '창원시', '의창구', '팔용동', '15-1번지']\n",
            "['(06616)', '서울', '서초구', '서초동', '1316-13번지', '203호']\n",
            "['(06164)', '서울', '강남구', '삼성1동', '159-8번지', '파르나스타워', '21층']\n",
            "['(07714)', '서울', '강서구', '화곡3동', '1051-17번지', '대사빌딩']\n",
            "['(05627)', '서울', '송파구', '방이2동', '180-7번지', '지산빌딩', '4층']\n",
            "['(41080)', '대구', '동구', '각산동', '291-1번지']\n",
            "['(06634)', '서울', '서초구', '서초1동', '1657-5번지']\n",
            "['(04399)', '서울', '용산구', '한남동', '729-43번지']\n",
            "['(06120)', '서울', '강남구', '논현1동', '199', '대남빌딩', '9층']\n",
            "['(06770)', '서울', '서초구', '양재2동', '206-5번지']\n",
            "['(03138)', '서울', '종로구', '묘동', '56번지', '단성골드빌딩', '4층']\n",
            "['(04517)', '서울', '중구', '순화동', '1-170번지', '케이지타워', '12층']\n",
            "['(07218)', '서울', '영등포구', '양평동3가', '79-4번지', '현대2차아파트', 'B동', '3호']\n",
            "['(06258)', '서울', '강남구', '도곡1동', '946번지', ',', '3,4층']\n",
            "['(02855)', '서울', '성북구', '안암동5가', '102-90번지', '코원']\n",
            "['(62223)', '광주', '광산구', '장덕동', '1381번지', '201호,301호']\n",
            "['(06153)', '서울', '강남구', '삼성동', '114-8번지', '3층~12층']\n",
            "['(47511)', '부산', '연제구', '거제1동', '1486-5번지', '로펌빌딩']\n",
            "['(04799)', '서울', '성동구', '성수2가3동', '281-4번지']\n",
            "['(13591)', '경기', '성남시', '분당구', '서현동', '265-6번지', '분당태성빌딩', '402호']\n",
            "['(06593)', '서울', '서초구', '반포4동', '59-4번지', '선경빌딩', '2층']\n",
            "['(05643)', '서울', '송파구', '방이2동', '124-25번지', '트니트니빌딩', '5층']\n",
            "['(16072)', '경기', '의왕시', '오전동', '174번지', '대현테크노월드', '11층']\n",
            "['(06193)', '서울', '강남구', '대치4동', '890-59번지', '롯데골드로즈2', '1909호']\n",
            "['(06209)', '서울', '강남구', '대치4동', '941-26번지', '현민빌딩', '2층']\n",
            "['(06614)', '서울', '서초구', '서초4동', '1306-6번지']\n",
            "['(06614)', '서울', '서초구', '서초4동', '1306-6번지']\n",
            "['(03191)', '서울', '종로구', '관철동', '5-13번지', ',40-1,33-6']\n",
            "['(27181)', '충북', '제천시', '동현동', '268-1번지']\n",
            "['(16802)', '경기', '용인시', '수지구', '동천동', '592-5번지']\n",
            "['(21985)', '인천', '연수구', '송도동', '180-1번지']\n",
            "['(37666)', '경북', '포항시', '남구', '지곡동', '74-3번지']\n",
            "['(07995)', '서울', '양천구', '목동', '923-12번지', '삼성화재서비스빌딩', '12층']\n",
            "['(06022)', '서울', '강남구', '신사동', '603번지', '케이티', '신사지사', '본관', '4층']\n",
            "['(35234)', '대전', '서구', '둔산2동', '1164번지']\n",
            "['(04516)', '서울', '중구', '순화동', '217번지', '덕수궁롯데캐슬', '201동', '712호']\n",
            "['(13595)', '경기', '성남시', '분당구', '수내1동', '16-6번지', '엔타워', '2층']\n",
            "['(06098)', '서울', '강남구', '논현2동', '247-10번지']\n",
            "['(06201)', '서울', '강남구', '대치4동', '911-7번지', '황우거빌딩', '1층']\n",
            "['(17336)', '경기', '이천시', '부발읍', '아미리', '산136-1번지']\n",
            "['(16843)', '경기', '용인시', '수지구', '풍덕천1동', '239-3번지', '중앙빌딩', '3층']\n",
            "['(06279)', '서울', '강남구', '대치동', '1021-8번지', '동선빌딩', '2층']\n",
            "['(04799)', '서울', '성동구', '성수2가3동', '281-4번지']\n",
            "['(04799)', '서울', '성동구', '성수2가3동', '281-4번지']\n",
            "['(38859)', '경북', '영천시', '야사동', '136-7번지']\n",
            "['(41937)', '대구', '중구', '남일동', '109-2번지']\n",
            "['(34141)', '대전', '유성구', '구성동', '23번지']\n",
            "['(03767)', '서울', '서대문구', '대현동', '67-11번지']\n",
            "['(21404)', '인천', '부평구', '부평동', '185-8번지', '그랑프리', '501호,', '601호', '내지', '610호']\n",
            "['(07301)', '서울', '영등포구', '영등포동4가', '155-1번지', '영남빌딩', '601호']\n",
            "['(06271)', '서울', '강남구', '도곡1동', '909-3번지', '한독빌딩', '501-1호']\n",
            "['(12431)', '경기', '가평군', '조종면', '상판리', '80번지']\n",
            "['()', '서울', '동작구', '노량진동', '71-2외', '10필지', '이데아빌딩', '4층,', '5층,', '6층,', '11층']\n",
            "['(03908)', '서울', '마포구', '상암동', '1653번지', 'DMC이안오피스텔2단지']\n",
            "['(03190)', '서울', '종로구', '종로2가', '71-2번지', '종로빌딩', '7,8층']\n",
            "['(57228)', '전남', '장성군', '황룡면', '와룡리', '504-2번지']\n",
            "['(08591)', '서울', '금천구', '가산동', '660번지', '에이스하이엔드타워10', '1902호']\n",
            "['(41869)', '대구', '서구', '내당2.3동', '901-1번지']\n",
            "['(06616)', '서울', '서초구', '서초4동', '1316-15번지', '현대성우주상복합아파트', '1층']\n",
            "['(41438)', '대구', '북구', '읍내동', '1343-3번지', '동부빌딩', '5,6층']\n",
            "['(03715)', '서울', '서대문구', '남가좌1동', '296-13번지', '사회적경제마을자치센터', '209호']\n",
            "['(04336)', '서울', '용산구', '후암동', '255-9번지', '헤럴드스퀘어']\n",
            "['(63208)', '제주', '제주시', '이도이동', '1176-67번지', '제주벤처마루', '제주창조경제혁신센터', '스카이', '파트너', '스페이스']\n",
            "['(07448)', '서울', '영등포구', '대림2동', '1100-1번지']\n",
            "['(06182)', '서울', '강남구', '대치2동', '948번지', '오토웨이타워', '3층']\n",
            "['(17394)', '경기', '이천시', '호법면', '후안리', '240-1번지']\n",
            "['(04915)', '서울', '광진구', '중곡1동', '162-1번지', '성학빌딩', '3층']\n",
            "['(99999)', '서울특별시', '영등포구', '당산동', '33-1', '한강포스빌', '716호']\n",
            "['(08389)', '서울', '구로구', '구로동', '235-2번지', '에이스', '하이-엔드타워', '816호,', '817호,', '818호,', '919호']\n",
            "['(13616)', '경기', '성남시', '분당구', '금곡동', '210번지']\n",
            "['(07321)', '서울', '영등포구', '여의도동', '27번지', '금융감독원']\n",
            "['(17396)', '경기', '이천시', '호법면', '매곡리', '990-8번지']\n",
            "['(04551)', '서울', '중구', '저동1가', '1-2번지', '나라키움저동빌딩', '9층']\n",
            "['(06104)', '서울', '강남구', '논현2동', '210-1번지', '삼원빌딩', '8층']\n",
            "['(61949)', '광주', '서구', '치평동', '1217-10번지', '종산타워', '4층', '401호', '일부']\n",
            "['(44780)', '울산', '남구', '장생포동', '203번지', '2층']\n",
            "['(55068)', '전북', '전주시', '완산구', '효자동3가', '1052-1번지']\n",
            "['(26456)', '강원', '원주시', '행구동', '1008-4번지']\n",
            "['(26464)', '강원', '원주시', '반곡동', '1914-6번지', '한국관광공사']\n",
            "['(05103)', '서울', '광진구', '자양2동', '679-30번지']\n",
            "['(06349)', '서울', '강남구', '수서동', '713번지', '수서현대벤처빌', '1123호']\n",
            "['(62395)', '광주', '광산구', '장수동', '427번지']\n",
            "['(14297)', '경기', '광명시', '옥길동', '133-4번지', '17']\n",
            "['(21693)', '인천', '남동구', '고잔동', '731-10번지']\n",
            "['(12638)', '경기', '여주시', '현암동', '586-22번지', '7호']\n",
            "['(38216)', '경북', '경주시', '양남면', '환서리', '1011번지']\n",
            "['(33504)', '충남', '보령시', '웅천읍', '수부리', '산6-2번지']\n",
            "['(23011)', '인천', '강화군', '양사면', '인화리', '844-6번지']\n",
            "['(26496)', '강원', '원주시', '귀래면', '귀래리', '1746번지']\n",
            "['(25948)', '강원', '삼척시', '도계읍', '상덕리', '4번지']\n",
            "['(50804)', '경남', '김해시', '상동면', '매리', '산140-8번지', '외']\n",
            "['(24554)', '강원', '양구군', '남면', '용하리', '429-19번지', '2층']\n",
            "['(18130)', '경기', '오산시', '오산동', '637번지']\n",
            "['(61480)', '광주', '동구', '충장로4가', '53번지', '현대코아', '5층']\n",
            "['(57248)', '전남', '장성군', '남면', '삼태리', '863-6번지']\n",
            "['(11905)', '경기', '구리시', '사노동', '287-10번지']\n",
            "['(03152)', '서울', '종로구', '수송동', '146-1번지']\n",
            "['(35229)', '대전', '서구', '둔산2동', '1026번지']\n",
            "['(25934)', '강원', '삼척시', '근덕면', '덕산리', '122-4번지']\n",
            "['(28169)', '충북', '청주시', '흥덕구', '오송읍', '동평리', '169-4번지']\n",
            "['(22342)', '인천', '중구', '항동7가', '114번지']\n",
            "['(06192)', '서울', '강남구', '대치4동', '889-5번지', '샹제리제센터', 'A동', '2011호']\n",
            "['(31933)', '충남', '서산시', '성연면', '일람리', '903-9번지']\n",
            "['(27865)', '충북', '진천군', '문백면', '태락리', '731번지']\n",
            "['(59014)', '전남', '해남군', '산이면', '구성리', '산', '24']\n",
            "['(58688)', '전남', '목포시', '상동', '1036번지', '바동']\n",
            "['(02055)', '서울', '중랑구', '신내1동', '262-1번지', '신내데시앙', '플렉스', '지하2층', '에프비222호']\n",
            "['(42459)', '대구', '남구', '대명4동', '3036-20번지']\n",
            "['()', '강원도', '정선군', '사북읍', '동탄길', '38-13']\n",
            "['(32201)', '충남', '홍성군', '갈산면', '가곡리', '180번지']\n",
            "['(61947)', '광주', '서구', '치평동', '1202-2번지', '랜드피아오피스텔', '1045호']\n",
            "['(06162)', '서울', '강남구', '삼성2동', '141-35번지', '남경빌딩', '601호']\n",
            "['(38697)', '경북', '경산시', '남천면', '하도리', '777번지']\n",
            "['(38697)', '경북', '경산시', '남천면', '하도리', '777번지']\n",
            "['(38029)', '경북', '경주시', '안강읍', '두류리', '797번지']\n"
          ]
        }
      ],
      "source": [
        "# 지번은 결측치가 없음\n",
        "for i in range(len(df_sample['지번'])):\n",
        "    li=df_sample['지번'][i].split(' ')\n",
        "    print(li)\n",
        "    if len(li) < 3:\n",
        "        print(li)"
      ]
    },
    {
      "cell_type": "code",
      "execution_count": null,
      "metadata": {
        "id": "hHm02pY_wPUO"
      },
      "outputs": [],
      "source": [
        "# df_sample에서 시도 태그추출('지번'컬럼이 들어감)\n",
        "def address_matching_sample(address):\n",
        "    li_ad = address.split(' ')\n",
        "    try:\n",
        "      if li_ad[1] in region_zip1.keys():  # 문자열 스페이스단위로 분리 후 위치 1에 '시도'가 있음.\n",
        "          return region_zip1[li_ad[1]] # 딕셔너리의 value값 반환\n",
        "      else:\n",
        "          return region_zip1['전국']  # 해당사항 없는 경우 전국으로 추출 # 미기입이거나 외국이름이 적혀있는 경우 있음.\n",
        "    except:\n",
        "          return region_zip1['전국']"
      ]
    },
    {
      "cell_type": "code",
      "execution_count": null,
      "metadata": {
        "id": "OtTM3C_Shvsb"
      },
      "outputs": [],
      "source": [
        "# df_sample에서 시군구 태그 추출하는 함수\n",
        "def address_matching_sample_low(address):\n",
        "    li_ad = address.split(' ')\n",
        "    try:\n",
        "      if li_ad[2] in region_zip2.keys() :\n",
        "          return region_zip2[li_ad[2]]\n",
        "      else:\n",
        "          return ''  # 이 부분 안들어가주면 에러날 수 있음.\n",
        "    except:\n",
        "      return ''"
      ]
    },
    {
      "cell_type": "code",
      "execution_count": null,
      "metadata": {
        "id": "LxSzheY3cohS"
      },
      "outputs": [],
      "source": [
        "def region_sample(region):  # 이곳에는 df_sample의 '지번' 값이 들어오게된다. \n",
        "\n",
        "    li = []  # 인덱스를 담을 list\n",
        "\n",
        "    address1 = address_matching_sample(region)  # '시도' 태그추출함수\n",
        "    address2 = address_matching_sample_low(region)  # '시군구' 태그추출함수\n",
        "\n",
        "    for i in range(len(policy_df)):  #  policy_df갯수만큼  for문으로 돌림.\n",
        "        if policy_df['추출_시군구1'][i] == ['']:  # 시군구 값이 존재하지 않는 경우\n",
        "            if address1 in policy_df['추출_시도1'][i] :  # 시도 값만 맞춰서 반환\n",
        "                li.append(policy_df.index[i])\n",
        "        \n",
        "        else:  # 시군구 값이 존재하는 경우\n",
        "            if (address1 in policy_df['추출_시도1'][i]) & (address2 in policy_df['추출_시군구1'][i]):# 둘다 포함되었을 때만 인덱스값 추가\n",
        "                li.append(policy_df.index[i]) \n",
        "    \n",
        "    # df = policy_df.iloc[li,:] # li의 인덱스만 추출, 열은 전체 추출\n",
        "    return li"
      ]
    },
    {
      "cell_type": "code",
      "execution_count": null,
      "metadata": {
        "colab": {
          "base_uri": "https://localhost:8080/"
        },
        "id": "ZuWNFRJgjZyN",
        "outputId": "934c174e-33d3-4d29-f640-1bb3e827852b"
      },
      "outputs": [
        {
          "output_type": "execute_result",
          "data": {
            "text/plain": [
              "(6, 5)"
            ]
          },
          "metadata": {},
          "execution_count": 40
        }
      ],
      "source": [
        "len(region_sample(df_sample['지번'][0])), len(region_sample(df_sample['지번'][400]))  # 잘 추출되고 있음."
      ]
    },
    {
      "cell_type": "code",
      "execution_count": null,
      "metadata": {
        "id": "bF0WlmkFSu_t",
        "outputId": "18519978-c687-4552-c1b5-2d86bda5cc7b",
        "colab": {
          "base_uri": "https://localhost:8080/"
        }
      },
      "outputs": [
        {
          "output_type": "execute_result",
          "data": {
            "text/plain": [
              "[4442, 4443, 4446, 4500, 4526]"
            ]
          },
          "metadata": {},
          "execution_count": 41
        }
      ],
      "source": [
        "region_sample(df_sample['지번'][400])"
      ]
    },
    {
      "cell_type": "code",
      "execution_count": null,
      "metadata": {
        "colab": {
          "base_uri": "https://localhost:8080/",
          "height": 35
        },
        "id": "fMHJi_LSj8t3",
        "outputId": "086a0eeb-6000-42f4-f5e4-e60e451198a5"
      },
      "outputs": [
        {
          "output_type": "execute_result",
          "data": {
            "application/vnd.google.colaboratory.intrinsic+json": {
              "type": "string"
            },
            "text/plain": [
              "'(06634) 서울 서초구 서초1동 1657-5번지'"
            ]
          },
          "metadata": {},
          "execution_count": 42
        }
      ],
      "source": [
        "# 확인\n",
        "df_sample['지번'][400]  # 서울 영등포구에 해당하는 정책 갯수는?"
      ]
    },
    {
      "cell_type": "code",
      "execution_count": null,
      "metadata": {
        "colab": {
          "base_uri": "https://localhost:8080/"
        },
        "id": "4R-czpw5kA4d",
        "outputId": "ce621053-772a-44a4-cc10-489ad0e9b03f"
      },
      "outputs": [
        {
          "output_type": "stream",
          "name": "stdout",
          "text": [
            "(5, 28)\n"
          ]
        }
      ],
      "source": [
        "lis =[]\n",
        "for i in range(len(policy_df)):\n",
        "    if policy_df['추출_시군구1'][i] == ['']:\n",
        "        if (region_zip1['서울'] in policy_df['추출_시도1'][i]):\n",
        "            lis.append(policy_df.index[i])\n",
        "    else:\n",
        "        if (region_zip1['서울'] in policy_df['추출_시도1'][i])&(region_zip2['서초구'] in policy_df['추출_시군구1'][i]):\n",
        "            lis.append(policy_df.index[i])\n",
        "\n",
        "print(policy_df.iloc[lis,:].shape) # lis의 인덱스만 추출, 열은 전체 추출\n",
        "# 5개로 동일하게 추출"
      ]
    },
    {
      "cell_type": "markdown",
      "metadata": {
        "id": "gWaCizIstOsQ"
      },
      "source": [
        "### 종업원수 매칭"
      ]
    },
    {
      "cell_type": "code",
      "execution_count": null,
      "metadata": {
        "colab": {
          "base_uri": "https://localhost:8080/"
        },
        "id": "O2CJE-JJF6y-",
        "outputId": "dbe49135-1b7f-49af-fa3e-f4349ee18f96"
      },
      "outputs": [
        {
          "output_type": "execute_result",
          "data": {
            "text/plain": [
              "array(['1,589명', '17명', '67명', '65명', '1명', '62명', '74명', '명', '759명',\n",
              "       '132명', '8명', '10명', '3명', '22명', '19명', '51명', '38명', '666명',\n",
              "       '34명', '220명', '6명', '0명', '13명', '14명', '50명', '39명', '54명', '5명',\n",
              "       '21명', '2명', '46명', '35명', '4명', '23명', '32명', '20명', '15명', '61명',\n",
              "       '18명', '9명', '43명', '52명', '37명', '28명', '40명', '70명', '26명',\n",
              "       '30명', '104명', '7명', '24명', '78명', '175명', '25명', '289명', '11명',\n",
              "       '310명', '45명', '478명', '31명', '49명', '63명', '90명', '16명', '42명',\n",
              "       '1,448명', '36명', '141명', '129명', '207명', '27명', '144명', '116명',\n",
              "       '88명', '2,260명', '158명', '142명', '69명', '86명', '122명', '253명',\n",
              "       '41명', '454명', '29명', '446명', '107명', '106명', '857명', '1,808명',\n",
              "       '60명', '77명', '80명', '75명', '53명', '1,080명', '85명', '584명', '258명',\n",
              "       '47명', '146명', '554명', '270명', '800명', '198명', '888명', '1,054명',\n",
              "       '261명', '2,107명', '192명', '57명', '154명', '641명', '143명', '575명',\n",
              "       '12명', '277명', '717명', '160명', '209명', '109명', '44명', '552명',\n",
              "       '669명', '121명', '288명', '416명', '124명', '48명', '152명', '590명',\n",
              "       '123명', '250명', '1,759명', '795명', '79명', '150명', '300명'],\n",
              "      dtype=object)"
            ]
          },
          "metadata": {},
          "execution_count": 44
        }
      ],
      "source": [
        "df_sample['종업원수'].unique()"
      ]
    },
    {
      "cell_type": "code",
      "execution_count": null,
      "metadata": {
        "colab": {
          "base_uri": "https://localhost:8080/"
        },
        "id": "iR83NIhuJrpM",
        "outputId": "07268176-9103-4109-a2a9-093b21767c1e"
      },
      "outputs": [
        {
          "output_type": "execute_result",
          "data": {
            "text/plain": [
              "(117, 28)"
            ]
          },
          "metadata": {},
          "execution_count": 45
        }
      ],
      "source": [
        "df_sample[df_sample['종업원수']=='명'].shape   # 결측치 117row"
      ]
    },
    {
      "cell_type": "code",
      "execution_count": null,
      "metadata": {
        "id": "kdceEbeAGwjt"
      },
      "outputs": [],
      "source": [
        "# df_sample의 종업원수에 대해 int를 반환하는 함수 : 결측치 117row 에 대해서는 종업원수 관계없으므로 1 반환\n",
        "import re\n",
        "def em_num(x):\n",
        "    numbers = re.sub(r'[^0-9]', '', x)\n",
        "    if numbers != '' :\n",
        "        return int(numbers)\n",
        "    else:\n",
        "        return 1"
      ]
    },
    {
      "cell_type": "code",
      "execution_count": null,
      "metadata": {
        "id": "1A8iWaoRCFLy"
      },
      "outputs": [],
      "source": [
        "# df_sample['종업원수'][i](아직 str값인 상태) 값을 받아서 해당되는 데이터프레임을 반환하는 함수\n",
        "def employee_sample(df_num):\n",
        "    sample_num = em_num(df_num)  # 종업원수 str형을 int로 변환\n",
        "    sample_df = policy_df[(policy_df['추출_종업원수_최소']<= sample_num) & (sample_num <= policy_df['추출_종업원수_최대'])]\n",
        "    return sample_df.index   # sample_df의 index리스트를 반환"
      ]
    },
    {
      "cell_type": "code",
      "execution_count": null,
      "metadata": {
        "colab": {
          "base_uri": "https://localhost:8080/"
        },
        "id": "6cizZuU9DC2Y",
        "outputId": "4e7c0550-cc51-4e5a-a5c9-f3fd388e6bfb"
      },
      "outputs": [
        {
          "output_type": "execute_result",
          "data": {
            "text/plain": [
              "((9263,), (9523,))"
            ]
          },
          "metadata": {},
          "execution_count": 48
        }
      ],
      "source": [
        "employee_sample(df_sample['종업원수'][10]).shape, employee_sample(df_sample['종업원수'][12]).shape"
      ]
    },
    {
      "cell_type": "code",
      "execution_count": null,
      "metadata": {
        "colab": {
          "base_uri": "https://localhost:8080/"
        },
        "id": "ORv9NDcDusBo",
        "outputId": "0a5299f2-cf99-47be-a131-5593a003d5cb"
      },
      "outputs": [
        {
          "output_type": "execute_result",
          "data": {
            "text/plain": [
              "pandas.core.indexes.numeric.Int64Index"
            ]
          },
          "metadata": {},
          "execution_count": 49
        }
      ],
      "source": [
        "type(employee_sample(df_sample['종업원수'][10]))"
      ]
    },
    {
      "cell_type": "markdown",
      "metadata": {
        "id": "wNXvsSiZKI10"
      },
      "source": [
        "### 설립기간 매칭\n"
      ]
    },
    {
      "cell_type": "code",
      "execution_count": null,
      "metadata": {
        "id": "8ZDckM-hKI11"
      },
      "outputs": [],
      "source": [
        "# 설립기간 index를 반환하는 함수\n",
        "\n",
        "from datetime import date\n",
        "\n",
        "def foundate_sample(df_num):\n",
        "    if df_num == '-': # 값이 없을 때는 모든 인덱스 반환\n",
        "        return list(policy_df.index)\n",
        "    else:\n",
        "        fd_yrs = date.today().year - df_num.year # 이번 년도에서 설립일자를 뺀 기간 \n",
        "        sample_df = policy_df[(policy_df['추출_설립기간_최소'].astype(int)<= fd_yrs) & \\\n",
        "                              (fd_yrs <= policy_df['추출_설립기간_최대'].astype(int))]\n",
        "        return sample_df.index"
      ]
    },
    {
      "cell_type": "markdown",
      "metadata": {
        "id": "g-3TWUOJKI11"
      },
      "source": [
        "### 주요 업종 매칭"
      ]
    },
    {
      "cell_type": "code",
      "execution_count": null,
      "metadata": {
        "id": "6agV2b5qKI11"
      },
      "outputs": [],
      "source": [
        "def product_sample(df_num):\n",
        "    index = policy_df.index\n",
        "    if df_num == '-': # 값이 없을 때는 모든 인덱스 반환\n",
        "        return list(policy_df.index)\n",
        "    else:\n",
        "        field = df_num[2:4]\n",
        "\n",
        "        policy_df['주요업종_filtered'] = ['1' if (str(field) in x) \\\n",
        "                                      else '0' for x in policy_df['추출_주요업종']]\n",
        "        condition = policy_df['주요업종_filtered']=='1'\n",
        "        product_indices = index[condition]\n",
        "\n",
        "        return product_indices\n",
        "    "
      ]
    },
    {
      "cell_type": "markdown",
      "metadata": {
        "id": "pvtAhMLttlUR"
      },
      "source": [
        "### *적합한 df 추출하기"
      ]
    },
    {
      "cell_type": "code",
      "execution_count": null,
      "metadata": {
        "colab": {
          "base_uri": "https://localhost:8080/"
        },
        "id": "iXdwDsrNyklw",
        "outputId": "3f94a1ca-b521-4121-8229-bda9650db1f0"
      },
      "outputs": [
        {
          "output_type": "execute_result",
          "data": {
            "text/plain": [
              "(509, 28)"
            ]
          },
          "metadata": {},
          "execution_count": 52
        }
      ],
      "source": [
        "df_sample.shape"
      ]
    },
    {
      "cell_type": "code",
      "execution_count": null,
      "metadata": {
        "id": "EmpArZFftkuH"
      },
      "outputs": [],
      "source": [
        "# 인덱스 리스트간 교집합구하기\n",
        "def sample_matching(x): # x = df_sample의 인덱스\n",
        "\n",
        "    emp_lst = employee_sample(df_sample['종업원수'][x])  \n",
        "    region_lst = region_sample(df_sample['지번'][x])\n",
        "    foundate_lst = foundate_sample(df_sample['설립일자'][x])\n",
        "    product_lst = product_sample(df_sample['업종(10차)'][x])\n",
        "\n",
        "    # 인덱스리스트 교집합 구하기\n",
        "    intersection = list(set(emp_lst) & set(region_lst) & set(foundate_lst) & set(product_lst)) \n",
        "\n",
        "    # 적합한 row 추출\n",
        "    df = policy_df.iloc[intersection,:]   # policy_df에서 교집합 인덱스에 해당되는 것 반환\n",
        "\n",
        "    return df  #     set1 = [x for x in emp_lst if x in region_lst]\n"
      ]
    },
    {
      "cell_type": "code",
      "execution_count": null,
      "metadata": {
        "id": "GjtdeCFyCSCL"
      },
      "outputs": [],
      "source": [
        "# 인덱스 리스트간 교집합구하기\n",
        "def sample_matching2(x): # x = df_sample의 인덱스\n",
        "\n",
        "    emp_lst = employee_sample(df_sample['종업원수'][x])  \n",
        "    region_lst = region_sample(df_sample['지번'][x])\n",
        "    foundate_lst = foundate_sample(df_sample['설립일자'][x])\n",
        "    product_lst = product_sample(df_sample['업종(10차)'][x])\n",
        "\n",
        "#     # 인덱스리스트 교집합 구하기\n",
        "    intersection = list(set(emp_lst) & set(region_lst)& set(foundate_lst) & set(product_lst))\n",
        "\n",
        "#     # 적합한 row 추출\n",
        "    df = policy_df.iloc[intersection,:]   # policy_df에서 교집합 인덱스에 해당되는 것 반환\n",
        "\n",
        "    return df['정책ID'].values.tolist()"
      ]
    },
    {
      "cell_type": "code",
      "source": [
        "a = [1,2,3,4,5]\n",
        "b = [2,3,6,7,5]\n",
        "a or b"
      ],
      "metadata": {
        "colab": {
          "base_uri": "https://localhost:8080/"
        },
        "id": "cvMW43axRZuI",
        "outputId": "74efd3cf-7c5a-47ae-a925-9454550e1d3d"
      },
      "execution_count": null,
      "outputs": [
        {
          "output_type": "execute_result",
          "data": {
            "text/plain": [
              "[1, 2, 3, 4, 5]"
            ]
          },
          "metadata": {},
          "execution_count": 55
        }
      ]
    },
    {
      "cell_type": "code",
      "source": [
        "df_sample['추출_정책아이디'] = df_sample.reset_index()['index'].apply(sample_matching2)"
      ],
      "metadata": {
        "id": "QKYy0tCQJSHm"
      },
      "execution_count": null,
      "outputs": []
    },
    {
      "cell_type": "code",
      "source": [
        "df_sample['추출_정책아이디']"
      ],
      "metadata": {
        "id": "FpxZFPyBKYQk"
      },
      "execution_count": null,
      "outputs": []
    },
    {
      "cell_type": "code",
      "source": [
        "df_sample.columns"
      ],
      "metadata": {
        "id": "zXD9eIf5KrZf"
      },
      "execution_count": null,
      "outputs": []
    },
    {
      "cell_type": "code",
      "execution_count": null,
      "metadata": {
        "id": "tYA9T9jdwu8K"
      },
      "outputs": [],
      "source": [
        "sample_matching(8).shape, sample_matching(6).shape, sample_matching(0).shape"
      ]
    },
    {
      "cell_type": "code",
      "execution_count": null,
      "metadata": {
        "id": "IDmcoUhAKI12"
      },
      "outputs": [],
      "source": [
        "df_sample.loc[[0]][['기업체명', '도로명', '설립형태', '업종(10차)']]"
      ]
    },
    {
      "cell_type": "code",
      "execution_count": null,
      "metadata": {
        "id": "ktdH5NVzKI12",
        "scrolled": false
      },
      "outputs": [],
      "source": [
        "sample_matching(0)[['정책ID', '서비스명', '지원대상']]"
      ]
    },
    {
      "cell_type": "code",
      "execution_count": null,
      "metadata": {
        "id": "7QntbhwzKI12"
      },
      "outputs": [],
      "source": [
        "df_sample.loc[[8]][['기업체명', '도로명', '설립형태', '업종(10차)']]"
      ]
    },
    {
      "cell_type": "code",
      "execution_count": null,
      "metadata": {
        "id": "PpXdDkFXKI12"
      },
      "outputs": [],
      "source": [
        "sample_matching(8)[['정책ID', '서비스명', '지원대상']]"
      ]
    },
    {
      "cell_type": "code",
      "execution_count": null,
      "metadata": {
        "id": "k_PXsGVZCSCM"
      },
      "outputs": [],
      "source": [
        "len(temp_list)"
      ]
    },
    {
      "cell_type": "code",
      "source": [
        "sample_matching(8)[['정책ID']]"
      ],
      "metadata": {
        "id": "Qg9L03blHEd0"
      },
      "execution_count": null,
      "outputs": []
    },
    {
      "cell_type": "code",
      "source": [
        "sample_matching2(8)"
      ],
      "metadata": {
        "id": "uUOY2bN6HBCV"
      },
      "execution_count": null,
      "outputs": []
    },
    {
      "cell_type": "code",
      "source": [
        "df_sample.columns"
      ],
      "metadata": {
        "id": "3sbZ53WOjoxl"
      },
      "execution_count": null,
      "outputs": []
    },
    {
      "cell_type": "code",
      "source": [
        "# 엑셀로 저장하기\n",
        "# df_sample.to_excel(\"/content/drive/MyDrive/1팀/sample기업데이터 매칭완료.xlsx\", sheet_name='new_name', index=False)\n",
        "\n",
        "# 엑셀파일 읽기\n",
        "import pandas as pd\n",
        "df_sample = pd.read_excel(\"/content/drive/MyDrive/1팀/기업 데이터 (형태+학습) 정책 추천 완료.xlsx\")"
      ],
      "metadata": {
        "id": "zSyyTM-4jqvc"
      },
      "execution_count": 6,
      "outputs": []
    },
    {
      "cell_type": "code",
      "source": [
        "df_sample.columns"
      ],
      "metadata": {
        "colab": {
          "base_uri": "https://localhost:8080/"
        },
        "id": "v3z9jpY3saMZ",
        "outputId": "9fb22bb7-3c30-4534-ad60-8fc0361a8fa7"
      },
      "execution_count": 9,
      "outputs": [
        {
          "output_type": "execute_result",
          "data": {
            "text/plain": [
              "Index(['Unnamed: 0', '섹터', '기업체명', '영문기업명', '사업자번호', '법인(주민)번호', '대표자명',\n",
              "       '종업원수', '설립형태', '설립일자', '기업형태', '기업규모', '전화번호', '팩스번호', '홈페이지', '이메일',\n",
              "       '결산월', '기업공개일자', '도로명', '지번', '업종(10차)', '업종(9차)', '주요제품(상품)',\n",
              "       '무역업허가번호', '소속그룹', '주채권기관', '당좌거래은행', '휴폐업정보', '법인등기정보', '추천 정책'],\n",
              "      dtype='object')"
            ]
          },
          "metadata": {},
          "execution_count": 9
        }
      ]
    },
    {
      "cell_type": "code",
      "source": [
        "for i in df_sample['추천 정책']:\n",
        "    if len(i) >10:\n",
        "        print(len(i))"
      ],
      "metadata": {
        "colab": {
          "base_uri": "https://localhost:8080/"
        },
        "id": "kdQMpDkCsUTR",
        "outputId": "e55cfeea-70ea-4b80-bd32-23e6525e9d87"
      },
      "execution_count": 12,
      "outputs": [
        {
          "output_type": "stream",
          "name": "stdout",
          "text": [
            "12\n",
            "55\n",
            "113\n",
            "36\n",
            "14\n",
            "14\n",
            "14\n",
            "36\n",
            "14\n",
            "66\n",
            "19\n",
            "27\n",
            "12\n",
            "28\n",
            "14\n",
            "21\n",
            "424\n",
            "42\n",
            "13\n",
            "14\n",
            "21\n",
            "21\n",
            "14\n",
            "20\n",
            "42\n",
            "196\n",
            "35\n",
            "94\n",
            "28\n",
            "35\n",
            "28\n",
            "378\n",
            "28\n",
            "14\n",
            "12\n",
            "55\n",
            "113\n",
            "36\n",
            "14\n",
            "14\n"
          ]
        }
      ]
    },
    {
      "cell_type": "markdown",
      "metadata": {
        "id": "E-s912Ae17LN"
      },
      "source": [
        "## df_final 매칭시스템"
      ]
    },
    {
      "cell_type": "code",
      "source": [
        "df_final.fillna('', inplace=True)"
      ],
      "metadata": {
        "id": "OToerixDPIqk"
      },
      "execution_count": null,
      "outputs": []
    },
    {
      "cell_type": "markdown",
      "metadata": {
        "id": "4GVEkZsbt2vx"
      },
      "source": [
        "### 지역매칭"
      ]
    },
    {
      "cell_type": "code",
      "execution_count": null,
      "metadata": {
        "id": "VJWZdoufzEdy"
      },
      "outputs": [],
      "source": [
        "# # 정책데이터 결측치 제거하고 리스트로 만들기\n",
        "# policy_df['추출_시군구'] = policy_df['추출_시군구'].fillna('')\n",
        "\n",
        "# policy_df['추출_시도1'] = policy_df['추출_시도'].apply(lambda x : x.split(', '))\n",
        "# policy_df['추출_시군구1'] = policy_df['추출_시군구'].apply(lambda x:x.split(', '))"
      ]
    },
    {
      "cell_type": "code",
      "execution_count": null,
      "metadata": {
        "id": "Jfeb-6CyjsAM"
      },
      "outputs": [],
      "source": [
        "df_final.head(1)"
      ]
    },
    {
      "cell_type": "code",
      "execution_count": null,
      "metadata": {
        "id": "pS5YfOAd1-wP"
      },
      "outputs": [],
      "source": [
        "df_final['기업기본주소'].isnull().sum()"
      ]
    },
    {
      "cell_type": "code",
      "execution_count": null,
      "metadata": {
        "id": "xeZg4jWo2GK7"
      },
      "outputs": [],
      "source": [
        "df_final['기업상세주소'].isnull().sum()"
      ]
    },
    {
      "cell_type": "code",
      "execution_count": null,
      "metadata": {
        "id": "97I6xbeE240T"
      },
      "outputs": [],
      "source": [
        "# df_final의 시도태그 추출\n",
        "def address_match_final(address):\n",
        "    li_ad = address.split(' ')\n",
        "    if li_ad[0] in region_zip1.keys() :\n",
        "        return region_zip1[li_ad[0]]\n",
        "    else:\n",
        "        return region_zip1['전국']"
      ]
    },
    {
      "cell_type": "code",
      "execution_count": null,
      "metadata": {
        "id": "CIN2_ac46HTq"
      },
      "outputs": [],
      "source": [
        "# df_final의 시군구 태그 추출\n",
        "def address_match_final_low(address):\n",
        "    li_ad = address.split(' ')\n",
        "    if li_ad[1] in region_zip2.keys() :\n",
        "        return region_zip2[li_ad[1]]\n",
        "    else:\n",
        "        return ''   # ★ 이부분 필수"
      ]
    },
    {
      "cell_type": "code",
      "execution_count": null,
      "metadata": {
        "id": "tgB5uUQVzfi6"
      },
      "outputs": [],
      "source": [
        "def region_final(region):  # 이곳에는 df_sample의 '지번' 값이 들어오게된다. \n",
        "\n",
        "    li = []  # 인덱스를 담을 list\n",
        "\n",
        "    address1 = address_match_final(region)  # '시도' 태그추출함수\n",
        "    address2 = address_match_final_low(region)  # '시군구' 태그추출함수\n",
        "\n",
        "    for i in range(len(policy_df)):  #  policy_df갯수만큼  for문으로 돌림.\n",
        "        if policy_df['추출_시군구1'][i] == ['']:  # policy_df에 시군구 값이 존재하지 않는 경우\n",
        "            if address1 in policy_df['추출_시도1'][i] :  # 시도 값만 맞춰서 반환\n",
        "                li.append(policy_df.index[i])\n",
        "        \n",
        "        else:  # policy_df에 시군구 값이 존재하는 경우\n",
        "            if (address1 in policy_df['추출_시도1'][i]) & (address2 in policy_df['추출_시군구1'][i]):# 둘다 포함되었을 때만 인덱스값 추가 # ★여기서 address2가 None이 들어올 때 error\n",
        "                li.append(policy_df.index[i]) \n",
        "    \n",
        "    # df = policy_df.iloc[li,:] # li의 인덱스만 추출, 열은 전체 추출\n",
        "    return li"
      ]
    },
    {
      "cell_type": "code",
      "execution_count": null,
      "metadata": {
        "id": "cGoRRbBYzfi6"
      },
      "outputs": [],
      "source": [
        "len(region_final(df_final['기업기본주소'][0])), len(region_final(df_final['기업기본주소'][99]))  # 잘 추출되고 있음."
      ]
    },
    {
      "cell_type": "markdown",
      "metadata": {
        "id": "AZIlwGIPt4_Y"
      },
      "source": [
        "### 종업원수 매칭\n"
      ]
    },
    {
      "cell_type": "code",
      "execution_count": null,
      "metadata": {
        "id": "HTRU_bMiF8Rf"
      },
      "outputs": [],
      "source": [
        "df_final['종업원수'].unique()  # type = int 라서 따로 변환필요x"
      ]
    },
    {
      "cell_type": "code",
      "execution_count": null,
      "metadata": {
        "id": "vJzCTwacJ3w9"
      },
      "outputs": [],
      "source": [
        "df_final[df_final['종업원수']==1673]"
      ]
    },
    {
      "cell_type": "code",
      "execution_count": null,
      "metadata": {
        "id": "hMe7QhwVO4fz"
      },
      "outputs": [],
      "source": [
        "df_final['종업원수'].isnull().sum()  # 결측치 없음"
      ]
    },
    {
      "cell_type": "code",
      "execution_count": null,
      "metadata": {
        "id": "AwHg793BIU9l"
      },
      "outputs": [],
      "source": [
        "# df_sample['종업원수'][i](int) 값을 받아서 해당되는 데이터프레임을 반환하는 함수\n",
        "def employee_final(df_num):\n",
        "    if df_num == 0:  # 만약 0명이라면 직원수 무관 정책에 해당하니까 1명부터에 해당하는 기업(1인기업 등)도 추출되도록 1로 변환\n",
        "        df_num = 1\n",
        "    sample_df = policy_df[(policy_df['추출_종업원수_최소']<= df_num) & (df_num <= policy_df['추출_종업원수_최대'])]\n",
        "    return sample_df.index"
      ]
    },
    {
      "cell_type": "code",
      "execution_count": null,
      "metadata": {
        "id": "wJWqtrsoIwv4"
      },
      "outputs": [],
      "source": [
        "employee_final(df_final['종업원수'][0]).shape, employee_final(df_final['종업원수'][9086]).shape"
      ]
    },
    {
      "cell_type": "markdown",
      "metadata": {
        "id": "IiEOpeLBKI15"
      },
      "source": [
        "### 설립기간 매칭\n"
      ]
    },
    {
      "cell_type": "code",
      "execution_count": null,
      "metadata": {
        "id": "3LfUQS44KI14"
      },
      "outputs": [],
      "source": [
        "df_final['기업설립일자'][11051]"
      ]
    },
    {
      "cell_type": "code",
      "execution_count": null,
      "metadata": {
        "id": "kAVwiWNZKI15"
      },
      "outputs": [],
      "source": [
        "# 설립기간 index를 반환하는 함수\n",
        "\n",
        "from datetime import date\n",
        "\n",
        "def foundate_final(df_num):\n",
        "    if str(df_num) == '': # 값이 없을 때는 모든 인덱스 반환   # fillna 적용\n",
        "        return list(policy_df.index)\n",
        "    else:\n",
        "        fd_yrs = date.today().year - int(df_num//10000) # 이번 년도에서 설립일자를 뺀 기간 \n",
        "        sample_df = policy_df[(policy_df['추출_설립기간_최소'].astype(int)<= fd_yrs) & (fd_yrs <= policy_df['추출_설립기간_최대'].astype(int))]\n",
        "        return sample_df.index\n",
        "    "
      ]
    },
    {
      "cell_type": "markdown",
      "metadata": {
        "id": "lYCMjF3OKI15"
      },
      "source": [
        "### 주요 업종 매칭"
      ]
    },
    {
      "cell_type": "code",
      "execution_count": null,
      "metadata": {
        "id": "4o_9BbGEKI15"
      },
      "outputs": [],
      "source": [
        "def product_final(df_num):\n",
        "    index = policy_df.index\n",
        "    field = ''\n",
        "    if df_num == '':   # ★결측값 따로설정안해주면 에러\n",
        "        return list(policy_df.index)\n",
        "    elif str(df_num).isdigit() == False:  # ★업종 dtypes = object. 문자열 셀은 따로 처리\n",
        "        return list(policy_df.index)\n",
        "    else:\n",
        "        if str(int(df_num)).isdigit():\n",
        "            if int(df_num) < 10:\n",
        "                field = '0' + str(df_num)\n",
        "            else:\n",
        "                field = str(df_num)[:2]\n",
        "        else:\n",
        "            return list(policy_df.index)\n",
        "\n",
        "    policy_df['주요업종_filtered'] = ['1' if (str(field) in x) else '0' for x in policy_df['추출_주요업종']]\n",
        "    condition = policy_df['주요업종_filtered']=='1'\n",
        "    product_indices = index[condition]\n",
        "\n",
        "    return product_indices\n",
        "    "
      ]
    },
    {
      "cell_type": "code",
      "execution_count": null,
      "metadata": {
        "id": "tDK75o7_KI15"
      },
      "outputs": [],
      "source": [
        "product_lst = product_final(df_final['업종'][7])"
      ]
    },
    {
      "cell_type": "code",
      "execution_count": null,
      "metadata": {
        "id": "E88OD2rlKI15"
      },
      "outputs": [],
      "source": [
        "len(product_lst)"
      ]
    },
    {
      "cell_type": "code",
      "source": [
        "df_final.dtypes"
      ],
      "metadata": {
        "id": "RRqDSfwte_1i"
      },
      "execution_count": null,
      "outputs": []
    },
    {
      "cell_type": "markdown",
      "metadata": {
        "id": "xVOUt1ICt7t_"
      },
      "source": [
        "### *적합한 df 추출"
      ]
    },
    {
      "cell_type": "code",
      "execution_count": null,
      "metadata": {
        "id": "sREcaoTh3Ekn"
      },
      "outputs": [],
      "source": [
        "df_final.shape"
      ]
    },
    {
      "cell_type": "code",
      "execution_count": null,
      "metadata": {
        "id": "u3Re6SuH3Eko"
      },
      "outputs": [],
      "source": [
        "# 인덱스 리스트간 교집합구하기\n",
        "def final_matching(x): # x = df_final의 인덱스\n",
        "    # policy_df의 적합한 인덱스 리스트를 추출\n",
        "    emp_lst = employee_final(df_final['종업원수'][x])  \n",
        "    region_lst = region_final(df_final['기업기본주소'][x])\n",
        "    foundate_lst = foundate_final(df_final['기업설립일자'][x])\n",
        "    product_lst = product_final(df_final['업종'][x])\n",
        "\n",
        "    # 인덱스리스트 교집합 구하기\n",
        "    intersection = list(set(emp_lst) & set(region_lst) & set(foundate_lst) & set(product_lst))\n",
        "\n",
        "    # 적합한 row 추출\n",
        "    df = policy_df.iloc[intersection,:]   # policy_df에서 교집합 인덱스에 해당되는 것 반환\n",
        "\n",
        "    return df"
      ]
    },
    {
      "cell_type": "code",
      "source": [
        "# 인덱스 리스트간 교집합구하기\n",
        "def final_matching2(x): # x = df_sample의 인덱스\n",
        "\n",
        "    emp_lst = employee_final(df_final['종업원수'][x]) \n",
        "    region_lst = region_final(df_final['기업기본주소'][x])\n",
        "    foundate_lst = foundate_final(df_final['기업설립일자'][x])\n",
        "    product_lst = product_final(df_final['업종'][x])\n",
        "\n",
        "#     # 인덱스리스트 교집합 구하기\n",
        "    intersection = list(set(emp_lst) & set(region_lst) &set(foundate_lst) & set(product_lst))\n",
        "\n",
        "#     # 적합한 row 추출\n",
        "    df = policy_df.iloc[intersection,:]   # policy_df에서 교집합 인덱스에 해당되는 것 반환\n",
        "\n",
        "    return df['정책ID'].values.tolist()"
      ],
      "metadata": {
        "id": "5Q46du5bNUWg"
      },
      "execution_count": null,
      "outputs": []
    },
    {
      "cell_type": "code",
      "execution_count": null,
      "metadata": {
        "id": "FUpHawB_3Eko"
      },
      "outputs": [],
      "source": [
        "final_matching(10).shape, final_matching(0).shape, final_matching(9999).shape"
      ]
    },
    {
      "cell_type": "code",
      "source": [
        "df_final[['종업원수', '기업기본주소', '기업설립일자', '업종']].isnull().sum()"
      ],
      "metadata": {
        "id": "aFceZ560PZXJ"
      },
      "execution_count": null,
      "outputs": []
    },
    {
      "cell_type": "code",
      "source": [
        "df_final[57]"
      ],
      "metadata": {
        "id": "SpSeTcoWZgOp"
      },
      "execution_count": null,
      "outputs": []
    },
    {
      "cell_type": "code",
      "source": [
        "df_final['추출_정책아이디'] = df_final.reset_index()['index'].apply(final_matching2)"
      ],
      "metadata": {
        "id": "N0PWSWCVL37d"
      },
      "execution_count": null,
      "outputs": []
    },
    {
      "cell_type": "code",
      "source": [
        "df_final.columns"
      ],
      "metadata": {
        "id": "pCLcNVU-olZY"
      },
      "execution_count": null,
      "outputs": []
    },
    {
      "cell_type": "code",
      "source": [
        "df_final['추출_정책아이디']"
      ],
      "metadata": {
        "id": "eQxc7pDmkIG4"
      },
      "execution_count": null,
      "outputs": []
    },
    {
      "cell_type": "code",
      "source": [
        "# 엑셀로 저장하기\n",
        "# df_final.to_excel(\"/content/drive/MyDrive/1팀/final기업데이터 매칭완료.xlsx\", sheet_name='new_name', index=False)\n",
        "\n",
        "# 엑셀파일 읽기\n",
        "import pandas as pd\n",
        "df_final = pd.read_excel(\"/content/drive/MyDrive/1팀/final기업데이터 매칭완료.xlsx\")"
      ],
      "metadata": {
        "id": "CJC-FoDAkIG4"
      },
      "execution_count": 8,
      "outputs": []
    },
    {
      "cell_type": "code",
      "source": [
        "df_final.columns"
      ],
      "metadata": {
        "colab": {
          "base_uri": "https://localhost:8080/"
        },
        "id": "1LqRjwRxuSYa",
        "outputId": "48e9df86-c8ad-4c95-f08e-c0cb7b79f55e"
      },
      "execution_count": 14,
      "outputs": [
        {
          "output_type": "execute_result",
          "data": {
            "text/plain": [
              "Index(['회계감사인명', '감사보고서의견내용', '기준일자', '사업자등록번호', '법인구분코드', '법인구분코드명', '법인영문명',\n",
              "       '기업체명', '법인등록시장구분코드', '법인등록시장구분코드명', '법인등록번호', '종업원평균근속기간내용', '기업기본주소',\n",
              "       '기업상세주소', '종업원수', '기업설립일자', '기업팩스번호', '홈페이지', '기업코스닥상장폐지일자',\n",
              "       '기업코스닥상장일자', '기업KONEX상장폐지일자', '기업KONEX상장일자', '기업주요사업명', '기업주거래은행명',\n",
              "       '기업구우편번호', '기업공시회사명', '기업1인평균급여금액', '기업대표자성명', '기업결산월', '기업전화번호',\n",
              "       '기업거래소상장폐지일자', '기업거래소상장일자', '금융감독원법인변경일시', '금융감독원법인고유번호', '업종',\n",
              "       '중소기업여부', '추출_정책아이디'],\n",
              "      dtype='object')"
            ]
          },
          "metadata": {},
          "execution_count": 14
        }
      ]
    },
    {
      "cell_type": "code",
      "source": [
        "li = []\n",
        "for i in range(len(df_final['추출_정책아이디'])):\n",
        "    if len(df_final['추출_정책아이디'][i]) > 100:\n",
        "        # print('추출된 정책아이디 개수: ', len(df_final['추출_정책아이디'][i]))\n",
        "        li.append(df_final.index[i])\n",
        "        # print(df_final.loc[[i],['종업원수', '기업기본주소', '기업설립일자', '업종']])\n",
        "        print(df_final.loc[[i],['업종']])\n",
        "# 매칭정책갯수가 많은 기업의 공통점은 특별히 발견되지 않음."
      ],
      "metadata": {
        "colab": {
          "base_uri": "https://localhost:8080/"
        },
        "id": "hCcUb-dQuWv2",
        "outputId": "239da3c2-c777-4961-f36d-fb1fc6f52a08"
      },
      "execution_count": 27,
      "outputs": [
        {
          "output_type": "stream",
          "name": "stdout",
          "text": [
            "      업종\n",
            "132  NaN\n",
            "        업종\n",
            "155  22211\n",
            "      업종\n",
            "200  NaN\n",
            "        업종\n",
            "219  20119\n",
            "      업종\n",
            "226  NaN\n",
            "        업종\n",
            "322  64911\n",
            "       업종\n",
            "402  1012\n",
            "        업종\n",
            "471  15110\n",
            "      업종\n",
            "472  NaN\n",
            "        업종\n",
            "502  15190\n",
            "    업종\n",
            "511  F\n",
            "      업종\n",
            "544  NaN\n",
            "        업종\n",
            "586  20411\n",
            "        업종\n",
            "603  64999\n",
            "      업종\n",
            "624  NaN\n",
            "       업종\n",
            "629  4111\n",
            "        업종\n",
            "725  41210\n",
            "        업종\n",
            "731  15110\n",
            "     업종\n",
            "732  42\n",
            "        업종\n",
            "847  20129\n",
            "        업종\n",
            "977  28303\n",
            "         업종\n",
            "1090  64999\n",
            "         업종\n",
            "1135  15110\n",
            "         업종\n",
            "1281  20119\n",
            "         업종\n",
            "1313  20121\n",
            "         업종\n",
            "1348  29199\n",
            "       업종\n",
            "1355  NaN\n",
            "       업종\n",
            "1440  NaN\n",
            "         업종\n",
            "1470  29172\n",
            "         업종\n",
            "1508  15220\n",
            "        업종\n",
            "1534  2811\n",
            "         업종\n",
            "1535  41112\n",
            "       업종\n",
            "1641  NaN\n",
            "       업종\n",
            "1702  NaN\n",
            "         업종\n",
            "1750  23232\n",
            "       업종\n",
            "1834  NaN\n",
            "       업종\n",
            "1889  NaN\n",
            "       업종\n",
            "1949  NaN\n",
            "        업종\n",
            "1991  7512\n",
            "         업종\n",
            "1992  41210\n",
            "       업종\n",
            "2027  NaN\n",
            "       업종\n",
            "2082  NaN\n",
            "        업종\n",
            "2126  4112\n",
            "         업종\n",
            "2145  41112\n",
            "       업종\n",
            "2176  NaN\n",
            "         업종\n",
            "2203  64201\n",
            "         업종\n",
            "2205  64201\n",
            "        업종\n",
            "2219  1080\n",
            "         업종\n",
            "2240  75999\n",
            "       업종\n",
            "2260  NaN\n",
            "       업종\n",
            "2262  NaN\n",
            "         업종\n",
            "2275  41112\n",
            "       업종\n",
            "2276  NaN\n",
            "         업종\n",
            "2295  11112\n",
            "         업종\n",
            "2355  41229\n",
            "         업종\n",
            "2386  41221\n",
            "         업종\n",
            "2451  71531\n",
            "         업종\n",
            "2479  20202\n",
            "       업종\n",
            "2628  NaN\n",
            "       업종\n",
            "2630  NaN\n",
            "       업종\n",
            "2634  NaN\n",
            "       업종\n",
            "2636  NaN\n",
            "       업종\n",
            "2637  NaN\n",
            "         업종\n",
            "2745  68112\n",
            "         업종\n",
            "2755  28909\n",
            "         업종\n",
            "2766  64201\n",
            "        업종\n",
            "2789  4112\n",
            "      업종\n",
            "2833  42\n",
            "       업종\n",
            "2869  NaN\n",
            "         업종\n",
            "2878  11202\n",
            "        업종\n",
            "2886  7122\n",
            "       업종\n",
            "3006  NaN\n",
            "       업종\n",
            "3019  NaN\n",
            "       업종\n",
            "3020  NaN\n",
            "       업종\n",
            "3043  NaN\n",
            "       업종\n",
            "3065  NaN\n",
            "        업종\n",
            "3163  4111\n",
            "         업종\n",
            "3181  41112\n",
            "       업종\n",
            "3226  NaN\n",
            "       업종\n",
            "3247  NaN\n",
            "       업종\n",
            "3321  NaN\n",
            "       업종\n",
            "3338  NaN\n",
            "       업종\n",
            "3342  NaN\n",
            "         업종\n",
            "3431  41112\n",
            "         업종\n",
            "3437  20111\n",
            "         업종\n",
            "3556  41112\n",
            "         업종\n",
            "3802  20491\n",
            "         업종\n",
            "3897  10794\n",
            "         업종\n",
            "4036  68119\n",
            "         업종\n",
            "4175  23322\n",
            "         업종\n",
            "4303  22229\n",
            "        업종\n",
            "4366  7599\n",
            "         업종\n",
            "4399  12000\n",
            "       업종\n",
            "4458  NaN\n",
            "        업종\n",
            "4776  2311\n",
            "         업종\n",
            "4846  10794\n",
            "         업종\n",
            "4864  71531\n",
            "        업종\n",
            "4925  1030\n",
            "         업종\n",
            "5030  64992\n",
            "         업종\n",
            "5141  29142\n",
            "         업종\n",
            "5175  64999\n",
            "         업종\n",
            "5202  68121\n",
            "         업종\n",
            "5286  68129\n",
            "         업종\n",
            "5353  10796\n",
            "        업종\n",
            "5571  2919\n",
            "         업종\n",
            "5591  71531\n",
            "         업종\n",
            "5762  22299\n",
            "         업종\n",
            "5763  31114\n",
            "         업종\n",
            "5826  41112\n",
            "       업종\n",
            "5919  NaN\n",
            "         업종\n",
            "6055  41112\n",
            "         업종\n",
            "6070  68121\n",
            "        업종\n",
            "6133  3831\n",
            "         업종\n",
            "6352  29169\n",
            "       업종\n",
            "6653  292\n",
            "        업종\n",
            "6678  1012\n",
            "      업종\n",
            "6707  41\n",
            "       업종\n",
            "6743  292\n",
            "        업종\n",
            "6874  6619\n",
            "        업종\n",
            "6901  1220\n",
            "       업종\n",
            "7009  412\n",
            "         업종\n",
            "7120  41221\n",
            "         업종\n",
            "7273  31114\n",
            "         업종\n",
            "7527  41129\n",
            "         업종\n",
            "7658  29241\n",
            "         업종\n",
            "7691  41221\n",
            "     업종\n",
            "7772  F\n",
            "         업종\n",
            "7822  10402\n",
            "      업종\n",
            "7855  41\n",
            "         업종\n",
            "7982  10403\n",
            "         업종\n",
            "8871  41112\n",
            "         업종\n",
            "9047  68121\n",
            "         업종\n",
            "9133  11209\n",
            "        업종\n",
            "9792  1011\n",
            "        업종\n",
            "9799  6811\n",
            "         업종\n",
            "10284  7121\n",
            "          업종\n",
            "10351  13212\n",
            "         업종\n",
            "10609  7122\n",
            "        업종\n",
            "10901  NaN\n",
            "          업종\n",
            "10945  64999\n"
          ]
        }
      ]
    },
    {
      "cell_type": "code",
      "source": [
        "df_final.iloc[li,:][['종업원수', '기업기본주소', '기업설립일자', '업종']]"
      ],
      "metadata": {
        "colab": {
          "base_uri": "https://localhost:8080/",
          "height": 423
        },
        "id": "fo4UKKTO6DfK",
        "outputId": "c0edc2fd-4dca-4f29-f54f-701f24c4c188"
      },
      "execution_count": 22,
      "outputs": [
        {
          "output_type": "execute_result",
          "data": {
            "text/html": [
              "\n",
              "  <div id=\"df-42e7f5f5-da90-4ac0-b730-71750226d675\">\n",
              "    <div class=\"colab-df-container\">\n",
              "      <div>\n",
              "<style scoped>\n",
              "    .dataframe tbody tr th:only-of-type {\n",
              "        vertical-align: middle;\n",
              "    }\n",
              "\n",
              "    .dataframe tbody tr th {\n",
              "        vertical-align: top;\n",
              "    }\n",
              "\n",
              "    .dataframe thead th {\n",
              "        text-align: right;\n",
              "    }\n",
              "</style>\n",
              "<table border=\"1\" class=\"dataframe\">\n",
              "  <thead>\n",
              "    <tr style=\"text-align: right;\">\n",
              "      <th></th>\n",
              "      <th>종업원수</th>\n",
              "      <th>기업기본주소</th>\n",
              "      <th>기업설립일자</th>\n",
              "      <th>업종</th>\n",
              "    </tr>\n",
              "  </thead>\n",
              "  <tbody>\n",
              "    <tr>\n",
              "      <th>132</th>\n",
              "      <td>0</td>\n",
              "      <td>광주광역시 북구 양산동 405-13</td>\n",
              "      <td>NaN</td>\n",
              "      <td>NaN</td>\n",
              "    </tr>\n",
              "    <tr>\n",
              "      <th>155</th>\n",
              "      <td>0</td>\n",
              "      <td>충청북도 청원군 남이면 구미리 41번지</td>\n",
              "      <td>19931222.0</td>\n",
              "      <td>22211</td>\n",
              "    </tr>\n",
              "    <tr>\n",
              "      <th>200</th>\n",
              "      <td>0</td>\n",
              "      <td>경상북도 김천시 응명동 1016</td>\n",
              "      <td>NaN</td>\n",
              "      <td>NaN</td>\n",
              "    </tr>\n",
              "    <tr>\n",
              "      <th>219</th>\n",
              "      <td>0</td>\n",
              "      <td>경기도 양주군 은현면 용암리 73</td>\n",
              "      <td>19900109.0</td>\n",
              "      <td>20119</td>\n",
              "    </tr>\n",
              "    <tr>\n",
              "      <th>226</th>\n",
              "      <td>0</td>\n",
              "      <td>경기도 화성시 병점동 489-1</td>\n",
              "      <td>NaN</td>\n",
              "      <td>NaN</td>\n",
              "    </tr>\n",
              "    <tr>\n",
              "      <th>...</th>\n",
              "      <td>...</td>\n",
              "      <td>...</td>\n",
              "      <td>...</td>\n",
              "      <td>...</td>\n",
              "    </tr>\n",
              "    <tr>\n",
              "      <th>10284</th>\n",
              "      <td>0</td>\n",
              "      <td>서울특별시 영등포동2가 28-130</td>\n",
              "      <td>19600205.0</td>\n",
              "      <td>7121</td>\n",
              "    </tr>\n",
              "    <tr>\n",
              "      <th>10351</th>\n",
              "      <td>0</td>\n",
              "      <td>경상남도 마산시 회원구 봉암동 666-158번지</td>\n",
              "      <td>19560127.0</td>\n",
              "      <td>13212</td>\n",
              "    </tr>\n",
              "    <tr>\n",
              "      <th>10609</th>\n",
              "      <td>0</td>\n",
              "      <td>충청남도 당진군 당진읍 구룡리산44</td>\n",
              "      <td>20040401.0</td>\n",
              "      <td>7122</td>\n",
              "    </tr>\n",
              "    <tr>\n",
              "      <th>10901</th>\n",
              "      <td>0</td>\n",
              "      <td>인천광역시 남동구 고잔동 707-10</td>\n",
              "      <td>NaN</td>\n",
              "      <td>NaN</td>\n",
              "    </tr>\n",
              "    <tr>\n",
              "      <th>10945</th>\n",
              "      <td>0</td>\n",
              "      <td>서울특별시 영등포구63로 50</td>\n",
              "      <td>20111111.0</td>\n",
              "      <td>64999</td>\n",
              "    </tr>\n",
              "  </tbody>\n",
              "</table>\n",
              "<p>140 rows × 4 columns</p>\n",
              "</div>\n",
              "      <button class=\"colab-df-convert\" onclick=\"convertToInteractive('df-42e7f5f5-da90-4ac0-b730-71750226d675')\"\n",
              "              title=\"Convert this dataframe to an interactive table.\"\n",
              "              style=\"display:none;\">\n",
              "        \n",
              "  <svg xmlns=\"http://www.w3.org/2000/svg\" height=\"24px\"viewBox=\"0 0 24 24\"\n",
              "       width=\"24px\">\n",
              "    <path d=\"M0 0h24v24H0V0z\" fill=\"none\"/>\n",
              "    <path d=\"M18.56 5.44l.94 2.06.94-2.06 2.06-.94-2.06-.94-.94-2.06-.94 2.06-2.06.94zm-11 1L8.5 8.5l.94-2.06 2.06-.94-2.06-.94L8.5 2.5l-.94 2.06-2.06.94zm10 10l.94 2.06.94-2.06 2.06-.94-2.06-.94-.94-2.06-.94 2.06-2.06.94z\"/><path d=\"M17.41 7.96l-1.37-1.37c-.4-.4-.92-.59-1.43-.59-.52 0-1.04.2-1.43.59L10.3 9.45l-7.72 7.72c-.78.78-.78 2.05 0 2.83L4 21.41c.39.39.9.59 1.41.59.51 0 1.02-.2 1.41-.59l7.78-7.78 2.81-2.81c.8-.78.8-2.07 0-2.86zM5.41 20L4 18.59l7.72-7.72 1.47 1.35L5.41 20z\"/>\n",
              "  </svg>\n",
              "      </button>\n",
              "      \n",
              "  <style>\n",
              "    .colab-df-container {\n",
              "      display:flex;\n",
              "      flex-wrap:wrap;\n",
              "      gap: 12px;\n",
              "    }\n",
              "\n",
              "    .colab-df-convert {\n",
              "      background-color: #E8F0FE;\n",
              "      border: none;\n",
              "      border-radius: 50%;\n",
              "      cursor: pointer;\n",
              "      display: none;\n",
              "      fill: #1967D2;\n",
              "      height: 32px;\n",
              "      padding: 0 0 0 0;\n",
              "      width: 32px;\n",
              "    }\n",
              "\n",
              "    .colab-df-convert:hover {\n",
              "      background-color: #E2EBFA;\n",
              "      box-shadow: 0px 1px 2px rgba(60, 64, 67, 0.3), 0px 1px 3px 1px rgba(60, 64, 67, 0.15);\n",
              "      fill: #174EA6;\n",
              "    }\n",
              "\n",
              "    [theme=dark] .colab-df-convert {\n",
              "      background-color: #3B4455;\n",
              "      fill: #D2E3FC;\n",
              "    }\n",
              "\n",
              "    [theme=dark] .colab-df-convert:hover {\n",
              "      background-color: #434B5C;\n",
              "      box-shadow: 0px 1px 3px 1px rgba(0, 0, 0, 0.15);\n",
              "      filter: drop-shadow(0px 1px 2px rgba(0, 0, 0, 0.3));\n",
              "      fill: #FFFFFF;\n",
              "    }\n",
              "  </style>\n",
              "\n",
              "      <script>\n",
              "        const buttonEl =\n",
              "          document.querySelector('#df-42e7f5f5-da90-4ac0-b730-71750226d675 button.colab-df-convert');\n",
              "        buttonEl.style.display =\n",
              "          google.colab.kernel.accessAllowed ? 'block' : 'none';\n",
              "\n",
              "        async function convertToInteractive(key) {\n",
              "          const element = document.querySelector('#df-42e7f5f5-da90-4ac0-b730-71750226d675');\n",
              "          const dataTable =\n",
              "            await google.colab.kernel.invokeFunction('convertToInteractive',\n",
              "                                                     [key], {});\n",
              "          if (!dataTable) return;\n",
              "\n",
              "          const docLinkHtml = 'Like what you see? Visit the ' +\n",
              "            '<a target=\"_blank\" href=https://colab.research.google.com/notebooks/data_table.ipynb>data table notebook</a>'\n",
              "            + ' to learn more about interactive tables.';\n",
              "          element.innerHTML = '';\n",
              "          dataTable['output_type'] = 'display_data';\n",
              "          await google.colab.output.renderOutput(dataTable, element);\n",
              "          const docLink = document.createElement('div');\n",
              "          docLink.innerHTML = docLinkHtml;\n",
              "          element.appendChild(docLink);\n",
              "        }\n",
              "      </script>\n",
              "    </div>\n",
              "  </div>\n",
              "  "
            ],
            "text/plain": [
              "       종업원수                      기업기본주소      기업설립일자     업종\n",
              "132       0         광주광역시 북구 양산동 405-13         NaN    NaN\n",
              "155       0       충청북도 청원군 남이면 구미리 41번지  19931222.0  22211\n",
              "200       0           경상북도 김천시 응명동 1016         NaN    NaN\n",
              "219       0          경기도 양주군 은현면 용암리 73  19900109.0  20119\n",
              "226       0           경기도 화성시 병점동 489-1         NaN    NaN\n",
              "...     ...                         ...         ...    ...\n",
              "10284     0         서울특별시 영등포동2가 28-130  19600205.0   7121\n",
              "10351     0  경상남도 마산시 회원구 봉암동 666-158번지  19560127.0  13212\n",
              "10609     0         충청남도 당진군 당진읍 구룡리산44  20040401.0   7122\n",
              "10901     0        인천광역시 남동구 고잔동 707-10         NaN    NaN\n",
              "10945     0            서울특별시 영등포구63로 50  20111111.0  64999\n",
              "\n",
              "[140 rows x 4 columns]"
            ]
          },
          "metadata": {},
          "execution_count": 22
        }
      ]
    },
    {
      "cell_type": "code",
      "source": [
        "df_final[df_final['종업원수']==0].shape"
      ],
      "metadata": {
        "colab": {
          "base_uri": "https://localhost:8080/"
        },
        "id": "FGF-xz246qNZ",
        "outputId": "8edc87d2-d2a0-4b01-9b7a-06966e198a29"
      },
      "execution_count": 23,
      "outputs": [
        {
          "output_type": "execute_result",
          "data": {
            "text/plain": [
              "(11035, 37)"
            ]
          },
          "metadata": {},
          "execution_count": 23
        }
      ]
    },
    {
      "cell_type": "code",
      "source": [
        "df_final.shape"
      ],
      "metadata": {
        "colab": {
          "base_uri": "https://localhost:8080/"
        },
        "id": "AeNtNC3S6viB",
        "outputId": "970de789-0af5-4dc0-d27a-4c68e85fcc4a"
      },
      "execution_count": 24,
      "outputs": [
        {
          "output_type": "execute_result",
          "data": {
            "text/plain": [
              "(11056, 37)"
            ]
          },
          "metadata": {},
          "execution_count": 24
        }
      ]
    },
    {
      "cell_type": "markdown",
      "metadata": {
        "id": "fXMJBn4n717d"
      },
      "source": [
        "## df_dart 매칭시스템"
      ]
    },
    {
      "cell_type": "markdown",
      "metadata": {
        "id": "QZ4eRgBMuAWs"
      },
      "source": [
        "### 지역매칭"
      ]
    },
    {
      "cell_type": "code",
      "execution_count": null,
      "metadata": {
        "colab": {
          "base_uri": "https://localhost:8080/"
        },
        "id": "-1thc22_z8Gt",
        "outputId": "b94dd459-e32b-4c87-d93a-75f50ebed956"
      },
      "outputs": [
        {
          "output_type": "execute_result",
          "data": {
            "text/plain": [
              "Index(['회계감사인명', '감사보고서의견내용', '기준일자', '사업자등록번호', '법인구분코드', '법인구분코드명', '법인영문명',\n",
              "       '기업체명', '법인등록시장구분코드', '법인등록시장구분코드명', '법인등록번호', '종업원평균근속기간내용', '기업기본주소',\n",
              "       '기업상세주소', '종업원수', '기업설립일자', '기업팩스번호', '홈페이지', '기업코스닥상장폐지일자',\n",
              "       '기업코스닥상장일자', '기업KONEX상장폐지일자', '기업KONEX상장일자', '기업주요사업명', '기업주거래은행명',\n",
              "       '기업구우편번호', '기업공시회사명', '기업1인평균급여금액', '기업대표자성명', '기업결산월', '기업전화번호',\n",
              "       '기업거래소상장폐지일자', '기업거래소상장일자', '금융감독원법인변경일시', '금융감독원법인고유번호', '업종',\n",
              "       '중소기업여부'],\n",
              "      dtype='object')"
            ]
          },
          "metadata": {},
          "execution_count": 58
        }
      ],
      "source": [
        "df_final.columns"
      ]
    },
    {
      "cell_type": "code",
      "execution_count": null,
      "metadata": {
        "colab": {
          "base_uri": "https://localhost:8080/",
          "height": 1000
        },
        "id": "_K_YJPky7nQV",
        "outputId": "22fd5c82-9de2-4a0f-c6f3-34f49e06808d"
      },
      "outputs": [
        {
          "output_type": "execute_result",
          "data": {
            "text/html": [
              "\n",
              "  <div id=\"df-d5d6388a-2171-4147-8fb7-52d54e06f552\">\n",
              "    <div class=\"colab-df-container\">\n",
              "      <div>\n",
              "<style scoped>\n",
              "    .dataframe tbody tr th:only-of-type {\n",
              "        vertical-align: middle;\n",
              "    }\n",
              "\n",
              "    .dataframe tbody tr th {\n",
              "        vertical-align: top;\n",
              "    }\n",
              "\n",
              "    .dataframe thead th {\n",
              "        text-align: right;\n",
              "    }\n",
              "</style>\n",
              "<table border=\"1\" class=\"dataframe\">\n",
              "  <thead>\n",
              "    <tr style=\"text-align: right;\">\n",
              "      <th></th>\n",
              "      <th>결산월(MM)</th>\n",
              "      <th>주소</th>\n",
              "      <th>사업자등록번호</th>\n",
              "      <th>대표자명</th>\n",
              "      <th>법인구분 : Y(유가), K(코스닥), N(코넥스), E(기타)</th>\n",
              "      <th>corp_code</th>\n",
              "      <th>정식명칭</th>\n",
              "      <th>영문명칭</th>\n",
              "      <th>설립일(YYYYMMDD)</th>\n",
              "      <th>팩스번호</th>\n",
              "      <th>홈페이지</th>\n",
              "      <th>업종번호</th>\n",
              "      <th>IR홈페이지</th>\n",
              "      <th>법인등록번호</th>\n",
              "      <th>message</th>\n",
              "      <th>전화번호</th>\n",
              "      <th>status</th>\n",
              "      <th>주식 종목코드</th>\n",
              "      <th>종목명 또는 약식명칭</th>\n",
              "    </tr>\n",
              "  </thead>\n",
              "  <tbody>\n",
              "    <tr>\n",
              "      <th>0</th>\n",
              "      <td>12.0</td>\n",
              "      <td>충청남도 천안시 청당동 419-12</td>\n",
              "      <td>3128134722</td>\n",
              "      <td>김상규</td>\n",
              "      <td>E</td>\n",
              "      <td>434003</td>\n",
              "      <td>(주)다코</td>\n",
              "      <td>Daco corporation</td>\n",
              "      <td>19970611.0</td>\n",
              "      <td>041-563-6808</td>\n",
              "      <td>없음</td>\n",
              "      <td>25931</td>\n",
              "      <td>NaN</td>\n",
              "      <td>1615110021778</td>\n",
              "      <td>정상</td>\n",
              "      <td>041-565-1800</td>\n",
              "      <td>0</td>\n",
              "      <td>NaN</td>\n",
              "      <td>다코</td>\n",
              "    </tr>\n",
              "    <tr>\n",
              "      <th>1</th>\n",
              "      <td>12.0</td>\n",
              "      <td>강원도 원주시 원동 303</td>\n",
              "      <td>2248105027</td>\n",
              "      <td>이광선</td>\n",
              "      <td>E</td>\n",
              "      <td>434456</td>\n",
              "      <td>일산약품(주)</td>\n",
              "      <td>ILSAN PHARMACEUTICAL CO.,LTD.</td>\n",
              "      <td>19910615.0</td>\n",
              "      <td>033-763-6433</td>\n",
              "      <td>NaN</td>\n",
              "      <td>21101</td>\n",
              "      <td>NaN</td>\n",
              "      <td>1412110004641</td>\n",
              "      <td>정상</td>\n",
              "      <td>033-763-7535</td>\n",
              "      <td>0</td>\n",
              "      <td>NaN</td>\n",
              "      <td>일산약품</td>\n",
              "    </tr>\n",
              "    <tr>\n",
              "      <th>2</th>\n",
              "      <td>11.0</td>\n",
              "      <td>서울특별시 중구 태평로2가 120</td>\n",
              "      <td>1048177488</td>\n",
              "      <td>정진형</td>\n",
              "      <td>E</td>\n",
              "      <td>430964</td>\n",
              "      <td>굿앤엘에스주식회사</td>\n",
              "      <td>Good &amp; LS Co.,Ltd.</td>\n",
              "      <td>20021213.0</td>\n",
              "      <td>NaN</td>\n",
              "      <td>NaN</td>\n",
              "      <td>64999</td>\n",
              "      <td>NaN</td>\n",
              "      <td>1101112672875</td>\n",
              "      <td>정상</td>\n",
              "      <td>02-6263-8185</td>\n",
              "      <td>0</td>\n",
              "      <td>NaN</td>\n",
              "      <td>굿앤엘에스</td>\n",
              "    </tr>\n",
              "    <tr>\n",
              "      <th>3</th>\n",
              "      <td>12.0</td>\n",
              "      <td>제주특별자치도 북제주군 한림읍 상명리 587</td>\n",
              "      <td>6168120149</td>\n",
              "      <td>정우석</td>\n",
              "      <td>E</td>\n",
              "      <td>432403</td>\n",
              "      <td>한라판지(주)</td>\n",
              "      <td>HANLA PARKING CO.,LTD</td>\n",
              "      <td>19970601.0</td>\n",
              "      <td>064-796-8003</td>\n",
              "      <td>NaN</td>\n",
              "      <td>17123</td>\n",
              "      <td>NaN</td>\n",
              "      <td>2201110019993</td>\n",
              "      <td>정상</td>\n",
              "      <td>064-796-8001</td>\n",
              "      <td>0</td>\n",
              "      <td>NaN</td>\n",
              "      <td>한라판지</td>\n",
              "    </tr>\n",
              "    <tr>\n",
              "      <th>4</th>\n",
              "      <td>10.0</td>\n",
              "      <td>서울특별시 영등포구 여의도동 36-3</td>\n",
              "      <td>107-86-08501</td>\n",
              "      <td>배경오</td>\n",
              "      <td>E</td>\n",
              "      <td>388953</td>\n",
              "      <td>크레디피아제이십오차유동화전문회사</td>\n",
              "      <td>Credipia 25th Asset Securitization Specialty L.L.C</td>\n",
              "      <td>20011121.0</td>\n",
              "      <td>784-9869</td>\n",
              "      <td>NaN</td>\n",
              "      <td>64999</td>\n",
              "      <td>NaN</td>\n",
              "      <td>1101140036118</td>\n",
              "      <td>정상</td>\n",
              "      <td>07-768-7911</td>\n",
              "      <td>0</td>\n",
              "      <td>NaN</td>\n",
              "      <td>크레디피아제이십오차유동화전문회사</td>\n",
              "    </tr>\n",
              "  </tbody>\n",
              "</table>\n",
              "</div>\n",
              "      <button class=\"colab-df-convert\" onclick=\"convertToInteractive('df-d5d6388a-2171-4147-8fb7-52d54e06f552')\"\n",
              "              title=\"Convert this dataframe to an interactive table.\"\n",
              "              style=\"display:none;\">\n",
              "        \n",
              "  <svg xmlns=\"http://www.w3.org/2000/svg\" height=\"24px\"viewBox=\"0 0 24 24\"\n",
              "       width=\"24px\">\n",
              "    <path d=\"M0 0h24v24H0V0z\" fill=\"none\"/>\n",
              "    <path d=\"M18.56 5.44l.94 2.06.94-2.06 2.06-.94-2.06-.94-.94-2.06-.94 2.06-2.06.94zm-11 1L8.5 8.5l.94-2.06 2.06-.94-2.06-.94L8.5 2.5l-.94 2.06-2.06.94zm10 10l.94 2.06.94-2.06 2.06-.94-2.06-.94-.94-2.06-.94 2.06-2.06.94z\"/><path d=\"M17.41 7.96l-1.37-1.37c-.4-.4-.92-.59-1.43-.59-.52 0-1.04.2-1.43.59L10.3 9.45l-7.72 7.72c-.78.78-.78 2.05 0 2.83L4 21.41c.39.39.9.59 1.41.59.51 0 1.02-.2 1.41-.59l7.78-7.78 2.81-2.81c.8-.78.8-2.07 0-2.86zM5.41 20L4 18.59l7.72-7.72 1.47 1.35L5.41 20z\"/>\n",
              "  </svg>\n",
              "      </button>\n",
              "      \n",
              "  <style>\n",
              "    .colab-df-container {\n",
              "      display:flex;\n",
              "      flex-wrap:wrap;\n",
              "      gap: 12px;\n",
              "    }\n",
              "\n",
              "    .colab-df-convert {\n",
              "      background-color: #E8F0FE;\n",
              "      border: none;\n",
              "      border-radius: 50%;\n",
              "      cursor: pointer;\n",
              "      display: none;\n",
              "      fill: #1967D2;\n",
              "      height: 32px;\n",
              "      padding: 0 0 0 0;\n",
              "      width: 32px;\n",
              "    }\n",
              "\n",
              "    .colab-df-convert:hover {\n",
              "      background-color: #E2EBFA;\n",
              "      box-shadow: 0px 1px 2px rgba(60, 64, 67, 0.3), 0px 1px 3px 1px rgba(60, 64, 67, 0.15);\n",
              "      fill: #174EA6;\n",
              "    }\n",
              "\n",
              "    [theme=dark] .colab-df-convert {\n",
              "      background-color: #3B4455;\n",
              "      fill: #D2E3FC;\n",
              "    }\n",
              "\n",
              "    [theme=dark] .colab-df-convert:hover {\n",
              "      background-color: #434B5C;\n",
              "      box-shadow: 0px 1px 3px 1px rgba(0, 0, 0, 0.15);\n",
              "      filter: drop-shadow(0px 1px 2px rgba(0, 0, 0, 0.3));\n",
              "      fill: #FFFFFF;\n",
              "    }\n",
              "  </style>\n",
              "\n",
              "      <script>\n",
              "        const buttonEl =\n",
              "          document.querySelector('#df-d5d6388a-2171-4147-8fb7-52d54e06f552 button.colab-df-convert');\n",
              "        buttonEl.style.display =\n",
              "          google.colab.kernel.accessAllowed ? 'block' : 'none';\n",
              "\n",
              "        async function convertToInteractive(key) {\n",
              "          const element = document.querySelector('#df-d5d6388a-2171-4147-8fb7-52d54e06f552');\n",
              "          const dataTable =\n",
              "            await google.colab.kernel.invokeFunction('convertToInteractive',\n",
              "                                                     [key], {});\n",
              "          if (!dataTable) return;\n",
              "\n",
              "          const docLinkHtml = 'Like what you see? Visit the ' +\n",
              "            '<a target=\"_blank\" href=https://colab.research.google.com/notebooks/data_table.ipynb>data table notebook</a>'\n",
              "            + ' to learn more about interactive tables.';\n",
              "          element.innerHTML = '';\n",
              "          dataTable['output_type'] = 'display_data';\n",
              "          await google.colab.output.renderOutput(dataTable, element);\n",
              "          const docLink = document.createElement('div');\n",
              "          docLink.innerHTML = docLinkHtml;\n",
              "          element.appendChild(docLink);\n",
              "        }\n",
              "      </script>\n",
              "    </div>\n",
              "  </div>\n",
              "  "
            ],
            "text/plain": [
              "   결산월(MM)                        주소  ... 주식 종목코드        종목명 또는 약식명칭\n",
              "0     12.0       충청남도 천안시 청당동 419-12  ...     NaN                 다코\n",
              "1     12.0            강원도 원주시 원동 303  ...     NaN               일산약품\n",
              "2     11.0        서울특별시 중구 태평로2가 120  ...     NaN              굿앤엘에스\n",
              "3     12.0  제주특별자치도 북제주군 한림읍 상명리 587  ...     NaN               한라판지\n",
              "4     10.0      서울특별시 영등포구 여의도동 36-3  ...     NaN  크레디피아제이십오차유동화전문회사\n",
              "\n",
              "[5 rows x 19 columns]"
            ]
          },
          "metadata": {},
          "execution_count": 59
        }
      ],
      "source": [
        "df_dart.head()"
      ]
    },
    {
      "cell_type": "code",
      "execution_count": null,
      "metadata": {
        "colab": {
          "base_uri": "https://localhost:8080/",
          "height": 485
        },
        "id": "djZc2H1l75X0",
        "outputId": "86c8459c-603f-4f5a-cf76-8e6b6afd347a"
      },
      "outputs": [
        {
          "output_type": "execute_result",
          "data": {
            "text/html": [
              "\n",
              "  <div id=\"df-02520437-7eb1-4a50-8a46-e8a11c72b226\">\n",
              "    <div class=\"colab-df-container\">\n",
              "      <div>\n",
              "<style scoped>\n",
              "    .dataframe tbody tr th:only-of-type {\n",
              "        vertical-align: middle;\n",
              "    }\n",
              "\n",
              "    .dataframe tbody tr th {\n",
              "        vertical-align: top;\n",
              "    }\n",
              "\n",
              "    .dataframe thead th {\n",
              "        text-align: right;\n",
              "    }\n",
              "</style>\n",
              "<table border=\"1\" class=\"dataframe\">\n",
              "  <thead>\n",
              "    <tr style=\"text-align: right;\">\n",
              "      <th></th>\n",
              "      <th>결산월(MM)</th>\n",
              "      <th>주소</th>\n",
              "      <th>사업자등록번호</th>\n",
              "      <th>대표자명</th>\n",
              "      <th>법인구분 : Y(유가), K(코스닥), N(코넥스), E(기타)</th>\n",
              "      <th>corp_code</th>\n",
              "      <th>정식명칭</th>\n",
              "      <th>영문명칭</th>\n",
              "      <th>설립일(YYYYMMDD)</th>\n",
              "      <th>팩스번호</th>\n",
              "      <th>홈페이지</th>\n",
              "      <th>업종번호</th>\n",
              "      <th>IR홈페이지</th>\n",
              "      <th>법인등록번호</th>\n",
              "      <th>message</th>\n",
              "      <th>전화번호</th>\n",
              "      <th>status</th>\n",
              "      <th>주식 종목코드</th>\n",
              "      <th>종목명 또는 약식명칭</th>\n",
              "    </tr>\n",
              "  </thead>\n",
              "  <tbody>\n",
              "    <tr>\n",
              "      <th>137</th>\n",
              "      <td>12.0</td>\n",
              "      <td>NaN</td>\n",
              "      <td>NaN</td>\n",
              "      <td>남우길</td>\n",
              "      <td>E</td>\n",
              "      <td>290816</td>\n",
              "      <td>대우종합기계주식회사(가칭)</td>\n",
              "      <td>NaN</td>\n",
              "      <td>NaN</td>\n",
              "      <td>NaN</td>\n",
              "      <td>NaN</td>\n",
              "      <td>NaN</td>\n",
              "      <td>NaN</td>\n",
              "      <td>NaN</td>\n",
              "      <td>정상</td>\n",
              "      <td>NaN</td>\n",
              "      <td>0</td>\n",
              "      <td>NaN</td>\n",
              "      <td>대우종합기계(가칭)</td>\n",
              "    </tr>\n",
              "    <tr>\n",
              "      <th>138</th>\n",
              "      <td>12.0</td>\n",
              "      <td>NaN</td>\n",
              "      <td>NaN</td>\n",
              "      <td>남우길</td>\n",
              "      <td>E</td>\n",
              "      <td>291532</td>\n",
              "      <td>대우조선공업주식회사(가칭)</td>\n",
              "      <td>NaN</td>\n",
              "      <td>NaN</td>\n",
              "      <td>NaN</td>\n",
              "      <td>NaN</td>\n",
              "      <td>NaN</td>\n",
              "      <td>NaN</td>\n",
              "      <td>NaN</td>\n",
              "      <td>정상</td>\n",
              "      <td>NaN</td>\n",
              "      <td>0</td>\n",
              "      <td>NaN</td>\n",
              "      <td>대우조선공업(가칭)</td>\n",
              "    </tr>\n",
              "    <tr>\n",
              "      <th>19297</th>\n",
              "      <td>12.0</td>\n",
              "      <td>NaN</td>\n",
              "      <td>17999</td>\n",
              "      <td>Tak Wai, Wong</td>\n",
              "      <td>E</td>\n",
              "      <td>544027</td>\n",
              "      <td>LCF INVESTMENTS, LTD</td>\n",
              "      <td>LCF INVESTMENTS, LTD</td>\n",
              "      <td>20050228.0</td>\n",
              "      <td>-</td>\n",
              "      <td>-</td>\n",
              "      <td>64209</td>\n",
              "      <td>NaN</td>\n",
              "      <td>NaN</td>\n",
              "      <td>정상</td>\n",
              "      <td>-</td>\n",
              "      <td>0</td>\n",
              "      <td>NaN</td>\n",
              "      <td>LCFINVESTMENTS,LTD</td>\n",
              "    </tr>\n",
              "  </tbody>\n",
              "</table>\n",
              "</div>\n",
              "      <button class=\"colab-df-convert\" onclick=\"convertToInteractive('df-02520437-7eb1-4a50-8a46-e8a11c72b226')\"\n",
              "              title=\"Convert this dataframe to an interactive table.\"\n",
              "              style=\"display:none;\">\n",
              "        \n",
              "  <svg xmlns=\"http://www.w3.org/2000/svg\" height=\"24px\"viewBox=\"0 0 24 24\"\n",
              "       width=\"24px\">\n",
              "    <path d=\"M0 0h24v24H0V0z\" fill=\"none\"/>\n",
              "    <path d=\"M18.56 5.44l.94 2.06.94-2.06 2.06-.94-2.06-.94-.94-2.06-.94 2.06-2.06.94zm-11 1L8.5 8.5l.94-2.06 2.06-.94-2.06-.94L8.5 2.5l-.94 2.06-2.06.94zm10 10l.94 2.06.94-2.06 2.06-.94-2.06-.94-.94-2.06-.94 2.06-2.06.94z\"/><path d=\"M17.41 7.96l-1.37-1.37c-.4-.4-.92-.59-1.43-.59-.52 0-1.04.2-1.43.59L10.3 9.45l-7.72 7.72c-.78.78-.78 2.05 0 2.83L4 21.41c.39.39.9.59 1.41.59.51 0 1.02-.2 1.41-.59l7.78-7.78 2.81-2.81c.8-.78.8-2.07 0-2.86zM5.41 20L4 18.59l7.72-7.72 1.47 1.35L5.41 20z\"/>\n",
              "  </svg>\n",
              "      </button>\n",
              "      \n",
              "  <style>\n",
              "    .colab-df-container {\n",
              "      display:flex;\n",
              "      flex-wrap:wrap;\n",
              "      gap: 12px;\n",
              "    }\n",
              "\n",
              "    .colab-df-convert {\n",
              "      background-color: #E8F0FE;\n",
              "      border: none;\n",
              "      border-radius: 50%;\n",
              "      cursor: pointer;\n",
              "      display: none;\n",
              "      fill: #1967D2;\n",
              "      height: 32px;\n",
              "      padding: 0 0 0 0;\n",
              "      width: 32px;\n",
              "    }\n",
              "\n",
              "    .colab-df-convert:hover {\n",
              "      background-color: #E2EBFA;\n",
              "      box-shadow: 0px 1px 2px rgba(60, 64, 67, 0.3), 0px 1px 3px 1px rgba(60, 64, 67, 0.15);\n",
              "      fill: #174EA6;\n",
              "    }\n",
              "\n",
              "    [theme=dark] .colab-df-convert {\n",
              "      background-color: #3B4455;\n",
              "      fill: #D2E3FC;\n",
              "    }\n",
              "\n",
              "    [theme=dark] .colab-df-convert:hover {\n",
              "      background-color: #434B5C;\n",
              "      box-shadow: 0px 1px 3px 1px rgba(0, 0, 0, 0.15);\n",
              "      filter: drop-shadow(0px 1px 2px rgba(0, 0, 0, 0.3));\n",
              "      fill: #FFFFFF;\n",
              "    }\n",
              "  </style>\n",
              "\n",
              "      <script>\n",
              "        const buttonEl =\n",
              "          document.querySelector('#df-02520437-7eb1-4a50-8a46-e8a11c72b226 button.colab-df-convert');\n",
              "        buttonEl.style.display =\n",
              "          google.colab.kernel.accessAllowed ? 'block' : 'none';\n",
              "\n",
              "        async function convertToInteractive(key) {\n",
              "          const element = document.querySelector('#df-02520437-7eb1-4a50-8a46-e8a11c72b226');\n",
              "          const dataTable =\n",
              "            await google.colab.kernel.invokeFunction('convertToInteractive',\n",
              "                                                     [key], {});\n",
              "          if (!dataTable) return;\n",
              "\n",
              "          const docLinkHtml = 'Like what you see? Visit the ' +\n",
              "            '<a target=\"_blank\" href=https://colab.research.google.com/notebooks/data_table.ipynb>data table notebook</a>'\n",
              "            + ' to learn more about interactive tables.';\n",
              "          element.innerHTML = '';\n",
              "          dataTable['output_type'] = 'display_data';\n",
              "          await google.colab.output.renderOutput(dataTable, element);\n",
              "          const docLink = document.createElement('div');\n",
              "          docLink.innerHTML = docLinkHtml;\n",
              "          element.appendChild(docLink);\n",
              "        }\n",
              "      </script>\n",
              "    </div>\n",
              "  </div>\n",
              "  "
            ],
            "text/plain": [
              "       결산월(MM)   주소 사업자등록번호  ... status 주식 종목코드         종목명 또는 약식명칭\n",
              "137       12.0  NaN     NaN  ...      0     NaN          대우종합기계(가칭)\n",
              "138       12.0  NaN     NaN  ...      0     NaN          대우조선공업(가칭)\n",
              "19297     12.0  NaN   17999  ...      0     NaN  LCFINVESTMENTS,LTD\n",
              "\n",
              "[3 rows x 19 columns]"
            ]
          },
          "metadata": {},
          "execution_count": 60
        }
      ],
      "source": [
        "df_dart[df_dart['주소'].isnull()]"
      ]
    },
    {
      "cell_type": "code",
      "execution_count": null,
      "metadata": {
        "id": "JvIYBkp_C3C_"
      },
      "outputs": [],
      "source": [
        "# 시도 매칭\n",
        "df_dart['주소'].fillna('', inplace=True)\n",
        "df_dart['주소'].fillna('', inplace=True)"
      ]
    },
    {
      "cell_type": "code",
      "execution_count": null,
      "metadata": {
        "id": "wm9dTrfH5Twc"
      },
      "outputs": [],
      "source": [
        "# df_final의 시도태그 추출\n",
        "def address_match_final(address):\n",
        "    li_ad = address.split(' ')\n",
        "    try:\n",
        "      if li_ad[0] in region_zip1.keys() :\n",
        "          return region_zip1[li_ad[0]]\n",
        "      else:\n",
        "          return region_zip1['전국']\n",
        "    except:\n",
        "      return region_zip1['전국']"
      ]
    },
    {
      "cell_type": "code",
      "execution_count": null,
      "metadata": {
        "id": "3vDaj2dj5Twc"
      },
      "outputs": [],
      "source": [
        "# df_final의 시군구 태그 추출\n",
        "def address_match_final_low(address):\n",
        "    li_ad = address.split(' ')\n",
        "    try:\n",
        "      if li_ad[1] in region_zip2.keys() :\n",
        "          return region_zip2[li_ad[1]]\n",
        "      else:\n",
        "          return ''   # ★ 이부분 필수\n",
        "    except:\n",
        "      return ''"
      ]
    },
    {
      "cell_type": "code",
      "execution_count": null,
      "metadata": {
        "id": "Km5jHwl65Twd"
      },
      "outputs": [],
      "source": [
        "def region_dart(region):  # 이곳에는 df_sample의 '지번' 값이 들어오게된다. \n",
        "\n",
        "    li = []  # 인덱스를 담을 list\n",
        "\n",
        "    address1 = address_match_final(region)  # '시도' 태그추출함수\n",
        "    address2 = address_match_final_low(region)  # '시군구' 태그추출함수\n",
        "\n",
        "    for i in range(len(policy_df)):  #  policy_df갯수만큼  for문으로 돌림.\n",
        "        if policy_df['추출_시군구1'][i] == ['']:  # 시군구 값이 존재하지 않는 경우\n",
        "            if address1 in policy_df['추출_시도1'][i] :  # 시도 값만 맞춰서 반환\n",
        "                li.append(policy_df.index[i])\n",
        "        \n",
        "        else:  # 시군구 값이 존재하는 경우\n",
        "            if (address1 in policy_df['추출_시도1'][i]) & (address2 in policy_df['추출_시군구1'][i]):# 둘다 포함되었을 때만 인덱스값 추가\n",
        "                li.append(policy_df.index[i]) \n",
        "    \n",
        "    # df = policy_df.iloc[li,:] # li의 인덱스만 추출, 열은 전체 추출\n",
        "    return li"
      ]
    },
    {
      "cell_type": "code",
      "execution_count": null,
      "metadata": {
        "colab": {
          "base_uri": "https://localhost:8080/"
        },
        "id": "7GXcSDnz5Twd",
        "outputId": "14fe40e4-7500-43ed-aee3-29fdd01108e6"
      },
      "outputs": [
        {
          "output_type": "execute_result",
          "data": {
            "text/plain": [
              "(25, 8)"
            ]
          },
          "metadata": {},
          "execution_count": 65
        }
      ],
      "source": [
        "len(region_dart(df_dart['주소'][0])), len(region_dart(df_dart['주소'][99]))  # 잘 추출되고 있음."
      ]
    },
    {
      "cell_type": "markdown",
      "metadata": {
        "id": "ps0o_--4KI17"
      },
      "source": [
        "### 설립기간 매칭\n"
      ]
    },
    {
      "cell_type": "code",
      "execution_count": null,
      "metadata": {
        "id": "K5qHSmqZKI18"
      },
      "outputs": [],
      "source": [
        "# 설립기간 index를 반환하는 함수\n",
        "\n",
        "from datetime import date\n",
        "\n",
        "def foundate_final(df_num):\n",
        "    if str(df_num) == 'nan': # 값이 없을 때는 모든 인덱스 반환\n",
        "        return list(policy_df.index)\n",
        "    else:\n",
        "        fd_yrs = date.today().year - int(df_num//10000) # 이번 년도에서 설립일자를 뺀 기간 \n",
        "        sample_df = policy_df[(policy_df['추출_설립기간_최소'].astype(int)<= fd_yrs) & (fd_yrs <= policy_df['추출_설립기간_최대'].astype(int))]\n",
        "        return sample_df.index\n",
        "    "
      ]
    },
    {
      "cell_type": "markdown",
      "metadata": {
        "id": "Ejpqn-zzKI18"
      },
      "source": [
        "### 주요 업종 매칭"
      ]
    },
    {
      "cell_type": "code",
      "source": [
        "def product_final(df_num):\n",
        "    index = policy_df.index\n",
        "    field = ''\n",
        "    if df_num == '':   # ★결측값 따로설정안해주면 에러\n",
        "        return list(policy_df.index)\n",
        "    elif str(df_num).isdigit() == False:  # ★업종 dtypes = object. 문자열은 처리\n",
        "        return list(policy_df.index)\n",
        "    else:\n",
        "        if str(int(df_num)).isdigit():\n",
        "            if int(df_num) < 10:\n",
        "                field = '0' + str(df_num)\n",
        "            else:\n",
        "                field = str(df_num)[:2]\n",
        "        else:\n",
        "            return list(policy_df.index)\n",
        "\n",
        "    policy_df['주요업종_filtered'] = ['1' if (str(field) in x) else '0' for x in policy_df['추출_주요업종']]\n",
        "    condition = policy_df['주요업종_filtered']=='1'\n",
        "    product_indices = index[condition]\n",
        "\n",
        "    return product_indices"
      ],
      "metadata": {
        "id": "keelrxIIieYp"
      },
      "execution_count": null,
      "outputs": []
    },
    {
      "cell_type": "markdown",
      "metadata": {
        "id": "ItrN-n0oZjy7"
      },
      "source": [
        "### 종업원수 없음(df_dart)"
      ]
    },
    {
      "cell_type": "markdown",
      "metadata": {
        "id": "e_zl-2FG561R"
      },
      "source": [
        "### *적합한 df 추출"
      ]
    },
    {
      "cell_type": "code",
      "execution_count": null,
      "metadata": {
        "id": "olmqcgoM5_dG"
      },
      "outputs": [],
      "source": [
        "# 인덱스 리스트간 교집합구하기\n",
        "def dart_matching(x): # x = df_dart의 인덱스\n",
        "    # policy_df의 적합한 인덱스 리스트를 추출\n",
        "    region_lst = region_dart(df_dart['주소'][x])\n",
        "    foundate_lst = foundate_final(df_final['기업설립일자'][x])\n",
        "    product_lst = product_final(df_final['업종'][x])\n",
        "\n",
        "    # 인덱스리스트 교집합 구하기\n",
        "    intersection = list((set(region_lst) & set(foundate_lst)) & set(product_lst))\n",
        "\n",
        "    # 적합한 row 추출\n",
        "    df = policy_df.iloc[intersection,:]   # policy_df에서 교집합 인덱스에 해당되는 것 반환\n",
        "\n",
        "    return df"
      ]
    },
    {
      "cell_type": "code",
      "execution_count": null,
      "metadata": {
        "colab": {
          "base_uri": "https://localhost:8080/"
        },
        "id": "ye0IuhhA5_dG",
        "outputId": "2dd12491-373d-4530-860e-299c909d8c66"
      },
      "outputs": [
        {
          "output_type": "execute_result",
          "data": {
            "text/plain": [
              "((0, 28), (19, 28), (0, 28))"
            ]
          },
          "metadata": {},
          "execution_count": 69
        }
      ],
      "source": [
        "dart_matching(10).shape, dart_matching(0).shape, dart_matching(508).shape"
      ]
    },
    {
      "cell_type": "code",
      "source": [
        "# 인덱스 리스트간 교집합구하기\n",
        "def dart_matching2(x): # x = df_sample의 인덱스\n",
        "\n",
        "    region_lst = region_dart(df_dart['주소'][x])\n",
        "    foundate_lst = foundate_final(df_dart['설립일(YYYYMMDD)'][x])\n",
        "    product_lst = product_final(df_dart['업종번호'][x])\n",
        "\n",
        "#     # 인덱스리스트 교집합 구하기\n",
        "    intersection = list(set(region_lst) & set(foundate_lst) & set(product_lst))\n",
        "\n",
        "#     # 적합한 row 추출\n",
        "    df = policy_df.iloc[intersection,:]   # policy_df에서 교집합 인덱스에 해당되는 것 반환\n",
        "\n",
        "    return df['정책ID'].values.tolist()"
      ],
      "metadata": {
        "id": "MWsgjNgmi2eR"
      },
      "execution_count": null,
      "outputs": []
    },
    {
      "cell_type": "code",
      "source": [
        "df_dart['추출_정책아이디'] = df_dart.reset_index()['index'].apply(dart_matching2)"
      ],
      "metadata": {
        "id": "8p-SvcAXirSV"
      },
      "execution_count": null,
      "outputs": []
    },
    {
      "cell_type": "code",
      "source": [
        "df_dart.columns"
      ],
      "metadata": {
        "id": "aN6tH1-HkSXf"
      },
      "execution_count": null,
      "outputs": []
    },
    {
      "cell_type": "code",
      "source": [
        "# 엑셀로 저장하기\n",
        "df_dart.to_excel(\"/content/drive/MyDrive/wello/Wello AIB 1팀 제출자료 (Jan 19, 2022)/기업 데이터 (dart) 정책 추천 완료.xlsx\", index=False)\n",
        "\n",
        "df_dart.head()"
      ],
      "metadata": {
        "id": "8_pjByoRMLYJ"
      },
      "execution_count": null,
      "outputs": []
    },
    {
      "cell_type": "code",
      "source": [
        ""
      ],
      "metadata": {
        "id": "FOvDBc18MPpG"
      },
      "execution_count": null,
      "outputs": []
    }
  ],
  "metadata": {
    "colab": {
      "collapsed_sections": [
        "4GVEkZsbt2vx"
      ],
      "name": "Matching Model (Company to Admin).ipynb",
      "toc_visible": true,
      "provenance": []
    },
    "kernelspec": {
      "display_name": "Python 3 (ipykernel)",
      "language": "python",
      "name": "python3"
    },
    "language_info": {
      "codemirror_mode": {
        "name": "ipython",
        "version": 3
      },
      "file_extension": ".py",
      "mimetype": "text/x-python",
      "name": "python",
      "nbconvert_exporter": "python",
      "pygments_lexer": "ipython3",
      "version": "3.8.3"
    }
  },
  "nbformat": 4,
  "nbformat_minor": 0
}